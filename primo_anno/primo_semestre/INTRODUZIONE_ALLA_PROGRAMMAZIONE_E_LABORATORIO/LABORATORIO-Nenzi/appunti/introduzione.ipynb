{
 "cells": [
  {
   "cell_type": "markdown",
   "metadata": {},
   "source": [
    "#### Print:"
   ]
  },
  {
   "cell_type": "code",
   "execution_count": 13,
   "metadata": {},
   "outputs": [
    {
     "name": "stdout",
     "output_type": "stream",
     "text": [
      "ciao\n",
      "ciao [separatore] Ivan [questo lo metto alla fine] "
     ]
    }
   ],
   "source": [
    "print('ciao')\n",
    "print('ciao','Ivan', sep = ' [separatore] ', end =' [questo lo metto alla fine] ')"
   ]
  },
  {
   "cell_type": "markdown",
   "metadata": {},
   "source": [
    "#### Commenti:"
   ]
  },
  {
   "cell_type": "code",
   "execution_count": 1,
   "metadata": {},
   "outputs": [],
   "source": [
    "# questo è un commento"
   ]
  },
  {
   "cell_type": "markdown",
   "metadata": {},
   "source": [
    "#### Operazioni e funzioni aritmetiche:"
   ]
  },
  {
   "cell_type": "code",
   "execution_count": 14,
   "metadata": {},
   "outputs": [
    {
     "name": "stdout",
     "output_type": "stream",
     "text": [
      "Valore1: 5, Valore2: 4\n"
     ]
    }
   ],
   "source": [
    "var1 = 5\n",
    "var2 = 4\n",
    "print('Valore1: {}, Valore2: {}'.format(var1, var2))    # funzione format per stampare valori di variabili"
   ]
  },
  {
   "cell_type": "code",
   "execution_count": 15,
   "metadata": {},
   "outputs": [
    {
     "name": "stdout",
     "output_type": "stream",
     "text": [
      "16\n",
      "3.3333333333333335\n",
      "3\n",
      "1\n"
     ]
    }
   ],
   "source": [
    "print(2**4)     # potenza\n",
    "print(10/3)     # divisione\n",
    "print(10//3)    # dividendo di 10/3\n",
    "print(10%3)     # resto della divisione"
   ]
  },
  {
   "cell_type": "code",
   "execution_count": 16,
   "metadata": {},
   "outputs": [
    {
     "data": {
      "text/plain": [
       "24"
      ]
     },
     "execution_count": 16,
     "metadata": {},
     "output_type": "execute_result"
    }
   ],
   "source": [
    "round(24.3)     # numero intero più vicino\n",
    "abs (-24)       # numero assoluto"
   ]
  },
  {
   "cell_type": "markdown",
   "metadata": {},
   "source": [
    "#### Stringhe:"
   ]
  },
  {
   "cell_type": "code",
   "execution_count": 17,
   "metadata": {},
   "outputs": [
    {
     "name": "stdout",
     "output_type": "stream",
     "text": [
      "ciao, come va?\n"
     ]
    }
   ],
   "source": [
    "a='ciao, '      # stringa\n",
    "b='come va?'    # seconda stringa\n",
    "c=a+b           # concatenazione tra stringhe\n",
    "print(c)"
   ]
  },
  {
   "cell_type": "code",
   "execution_count": 18,
   "metadata": {},
   "outputs": [
    {
     "name": "stdout",
     "output_type": "stream",
     "text": [
      "ciao, come va?ciao, come va?ciao, come va?ciao, come va?ciao, come va?\n"
     ]
    }
   ],
   "source": [
    "d=c*5       # concatenazioni multiple\n",
    "print(d)"
   ]
  },
  {
   "cell_type": "code",
   "execution_count": 4,
   "metadata": {},
   "outputs": [
    {
     "name": "stdout",
     "output_type": "stream",
     "text": [
      "Hai scritto: 666666666666666666, il sucessore è 666666666666666667\n",
      "<class 'str'>\n"
     ]
    }
   ],
   "source": [
    "e= input('Inserisci un numero: ')                                   # prendo un input da tastiera e lo salvo in e\n",
    "print('Hai scritto: {}, il sucessore è {}'.format(e, int(e)+1))     # string.format\n",
    "print(type(e))                                                      # consideriamo che e è una stringa"
   ]
  },
  {
   "cell_type": "code",
   "execution_count": 7,
   "metadata": {},
   "outputs": [
    {
     "name": "stdout",
     "output_type": "stream",
     "text": [
      "r\n",
      "o\n",
      "perchéstaileggendoquestastringasenzasenso?tornaast\n",
      "asenzasenso?tornaast\n",
      "perchéstaileggendoquestastringasenzasenso?tornaastudiare,nonsopiùchescriveretrallallerotrallalacoccodrillobombardin\n"
     ]
    }
   ],
   "source": [
    "mia_stringa = \"perchéstaileggendoquestastringasenzasenso?tornaastudiare,nonsopiùchescriveretrallallerotrallalacoccodrillobombardino\"\n",
    "print(mia_stringa[2])       # terzo carattere della stringa\n",
    "print(mia_stringa[-1])      # penultimo carattere della stringa\n",
    "print(mia_stringa[0:50])    # dal primo al cinquantesimo carattere\n",
    "print(mia_stringa[30:50])   # dal trentunesimo al cinquantesimo carattere\n",
    "print(mia_stringa[0:-1])    # dal primo al penultimo carattere"
   ]
  },
  {
   "cell_type": "code",
   "execution_count": 12,
   "metadata": {},
   "outputs": [
    {
     "data": {
      "text/plain": [
       "'stringa'"
      ]
     },
     "execution_count": 12,
     "metadata": {},
     "output_type": "execute_result"
    }
   ],
   "source": [
    "\"stringa\""
   ]
  },
  {
   "cell_type": "markdown",
   "metadata": {},
   "source": [
    "#### Valori e Tipi:"
   ]
  },
  {
   "cell_type": "code",
   "execution_count": 10,
   "metadata": {},
   "outputs": [],
   "source": [
    "my_var = 1       # Esempio di variabile tipo intero\n",
    "my_var = 1.1     # Esempio di variabile tipo floating point\n",
    "my_var = 'ciao'  # Esempio di variabile tipo stringa\n",
    "my_var = True    # Esempio di variabile tipo booleano\n",
    "my_var = None    # Il “niente” si rappresenta con il “None”"
   ]
  },
  {
   "cell_type": "code",
   "execution_count": 9,
   "metadata": {},
   "outputs": [
    {
     "name": "stdout",
     "output_type": "stream",
     "text": [
      "<class 'int'> <class 'float'> <class 'str'>\n"
     ]
    }
   ],
   "source": [
    "print(type(2), type(42.0), type(\"Ciao\"))"
   ]
  },
  {
   "cell_type": "code",
   "execution_count": 8,
   "metadata": {},
   "outputs": [
    {
     "data": {
      "text/plain": [
       "42"
      ]
     },
     "execution_count": 8,
     "metadata": {},
     "output_type": "execute_result"
    }
   ],
   "source": [
    "int(42.9)"
   ]
  },
  {
   "cell_type": "code",
   "execution_count": 13,
   "metadata": {},
   "outputs": [
    {
     "data": {
      "text/plain": [
       "101"
      ]
     },
     "execution_count": 13,
     "metadata": {},
     "output_type": "execute_result"
    }
   ],
   "source": [
    "int('101')\n"
   ]
  },
  {
   "cell_type": "code",
   "execution_count": null,
   "metadata": {},
   "outputs": [
    {
     "data": {
      "text/plain": [
       "0"
      ]
     },
     "execution_count": 14,
     "metadata": {},
     "output_type": "execute_result"
    }
   ],
   "source": [
    "12345678987654321%3     # 1234567898765432 è divisibile per 3!!"
   ]
  },
  {
   "cell_type": "markdown",
   "metadata": {},
   "source": [
    "#### Booleani:"
   ]
  },
  {
   "cell_type": "code",
   "execution_count": 15,
   "metadata": {},
   "outputs": [
    {
     "name": "stdout",
     "output_type": "stream",
     "text": [
      "False\n",
      "True\n",
      "False\n"
     ]
    }
   ],
   "source": [
    "# operatori booleani\n",
    "a = True\n",
    "b = False \n",
    "print(a and b)  # congiunzione\n",
    "print(a or b)   # disgiunzione \n",
    "print(not a )   # negazione \n"
   ]
  },
  {
   "cell_type": "code",
   "execution_count": 16,
   "metadata": {},
   "outputs": [
    {
     "ename": "ZeroDivisionError",
     "evalue": "division by zero",
     "output_type": "error",
     "traceback": [
      "\u001b[31m---------------------------------------------------------------------------\u001b[39m",
      "\u001b[31mZeroDivisionError\u001b[39m                         Traceback (most recent call last)",
      "\u001b[36mCell\u001b[39m\u001b[36m \u001b[39m\u001b[32mIn[16]\u001b[39m\u001b[32m, line 1\u001b[39m\n\u001b[32m----> \u001b[39m\u001b[32m1\u001b[39m \u001b[32;43m1\u001b[39;49m\u001b[43m/\u001b[49m\u001b[32;43m0\u001b[39;49m \u001b[38;5;66;03m# torna un errore \"division by zero\" \u001b[39;00m\n",
      "\u001b[31mZeroDivisionError\u001b[39m: division by zero"
     ]
    }
   ],
   "source": [
    "1/0 # torna un errore \"division by zero\" "
   ]
  },
  {
   "cell_type": "code",
   "execution_count": 17,
   "metadata": {},
   "outputs": [
    {
     "data": {
      "text/plain": [
       "False"
      ]
     },
     "execution_count": 17,
     "metadata": {},
     "output_type": "execute_result"
    }
   ],
   "source": [
    "# tuttavia se scrivo... \n",
    "False and 1/0"
   ]
  },
  {
   "cell_type": "code",
   "execution_count": 18,
   "metadata": {},
   "outputs": [
    {
     "data": {
      "text/plain": [
       "True"
      ]
     },
     "execution_count": 18,
     "metadata": {},
     "output_type": "execute_result"
    }
   ],
   "source": [
    "\n",
    "# o se scrivo\n",
    "True or 1/0 \n",
    "# non succede nulla. Python non esegue la divisione perchè riesce ad assegnare il valore di verità alle due formule\n",
    "# indipendentemente da quello che viene scritto al secondo argomento ovvero 1/0, che quindi non verrà valutato!!. \n",
    "# Python esegue le operazioni solo se strettamente necessario (concetto di lazy evaluation). "
   ]
  },
  {
   "cell_type": "code",
   "execution_count": 19,
   "metadata": {},
   "outputs": [
    {
     "name": "stdout",
     "output_type": "stream",
     "text": [
      "Help on built-in function isalpha:\n",
      "\n",
      "isalpha() method of builtins.str instance\n",
      "    Return True if the string is an alphabetic string, False otherwise.\n",
      "\n",
      "    A string is alphabetic if all characters in the string are alphabetic and there\n",
      "    is at least one character in the string.\n",
      "\n"
     ]
    }
   ],
   "source": [
    "help('stringa'.isalpha)"
   ]
  },
  {
   "cell_type": "code",
   "execution_count": 20,
   "metadata": {},
   "outputs": [
    {
     "data": {
      "text/plain": [
       "False"
      ]
     },
     "execution_count": 20,
     "metadata": {},
     "output_type": "execute_result"
    }
   ],
   "source": [
    "\n",
    "'57r1ng4'.isalpha()"
   ]
  },
  {
   "cell_type": "code",
   "execution_count": 21,
   "metadata": {},
   "outputs": [
    {
     "data": {
      "text/plain": [
       "True"
      ]
     },
     "execution_count": 21,
     "metadata": {},
     "output_type": "execute_result"
    }
   ],
   "source": [
    "'23'.isdecimal()"
   ]
  },
  {
   "cell_type": "code",
   "execution_count": 22,
   "metadata": {},
   "outputs": [
    {
     "data": {
      "text/plain": [
       "True"
      ]
     },
     "execution_count": 22,
     "metadata": {},
     "output_type": "execute_result"
    }
   ],
   "source": [
    "\n",
    "'23'.isdecimal() and 'stringa'.isalpha() and len('alphabetagamadelta')>10"
   ]
  },
  {
   "cell_type": "code",
   "execution_count": 23,
   "metadata": {},
   "outputs": [
    {
     "name": "stdout",
     "output_type": "stream",
     "text": [
      "True True True\n",
      "True\n",
      "True\n"
     ]
    }
   ],
   "source": [
    "# operatori di confronto.\n",
    "print(34>3, 2<3 , 3>=2)\n",
    "print(3!=2) # 3 diverso da 2\n",
    "print((3<2) or (3>2))"
   ]
  },
  {
   "cell_type": "code",
   "execution_count": 24,
   "metadata": {},
   "outputs": [
    {
     "data": {
      "text/plain": [
       "3"
      ]
     },
     "execution_count": 24,
     "metadata": {},
     "output_type": "execute_result"
    }
   ],
   "source": [
    "# operatore modulo\n",
    "x = 123\n",
    "x % 10"
   ]
  },
  {
   "cell_type": "markdown",
   "metadata": {},
   "source": [
    "#### If-else, elif:"
   ]
  },
  {
   "cell_type": "code",
   "execution_count": 25,
   "metadata": {},
   "outputs": [
    {
     "name": "stdout",
     "output_type": "stream",
     "text": [
      "23 è maggiore di 3\n"
     ]
    }
   ],
   "source": [
    "n=23\n",
    "if(n>3):\n",
    "    print('{} è maggiore di 3'.format(n))\n",
    "elif(0<=n<=3):\n",
    "    print('{} è compreso tra 0 e 3 (inclusi) '.format(n))\n",
    "else:\n",
    "    print('{} è negativo'.format(n))"
   ]
  },
  {
   "cell_type": "markdown",
   "metadata": {},
   "source": [
    "#### While:"
   ]
  },
  {
   "cell_type": "code",
   "execution_count": 39,
   "metadata": {},
   "outputs": [
    {
     "name": "stdout",
     "output_type": "stream",
     "text": [
      "1492"
     ]
    }
   ],
   "source": [
    "import random\n",
    "x=0                                       \n",
    "while x !=2:                              # condizione iniziale (per entrare all' inizio deve essere non soddisfatta!!)\n",
    "    x=random.randint(1,10)                # istruzione che modifica la condizione del while\n",
    "    print(x,end=\"\")"
   ]
  },
  {
   "cell_type": "markdown",
   "metadata": {},
   "source": [
    "#### Operatore in:"
   ]
  },
  {
   "cell_type": "code",
   "execution_count": 40,
   "metadata": {},
   "outputs": [
    {
     "name": "stdout",
     "output_type": "stream",
     "text": [
      "True\n",
      "True\n"
     ]
    }
   ],
   "source": [
    "s = '+748'\n",
    "print('4' in s) # ritorna true se 4 è in s. VALE PER TUTTE LE STRUTTURE SEQUENZIALI come liste, tuple... ma anche per \n",
    "# i set etc... \n",
    "print(3 in ['2',3,789])"
   ]
  },
  {
   "cell_type": "markdown",
   "metadata": {},
   "source": [
    "#### Ciclo For:\n",
    "l'operatore in si usa per fare i cicli for.\n",
    "\n",
    "for i in sequenza di elementi:"
   ]
  },
  {
   "cell_type": "code",
   "execution_count": 42,
   "metadata": {},
   "outputs": [
    {
     "name": "stdout",
     "output_type": "stream",
     "text": [
      "s\n",
      "a\n",
      "n\n",
      "t\n",
      "a\n",
      "g\n",
      "a\n",
      "t\n",
      "i\n",
      "i\n",
      "v\n",
      "a\n",
      "n\n"
     ]
    }
   ],
   "source": [
    "for i in 'santagatiivan' :\n",
    "    print(i)"
   ]
  },
  {
   "cell_type": "code",
   "execution_count": 43,
   "metadata": {},
   "outputs": [
    {
     "name": "stdout",
     "output_type": "stream",
     "text": [
      "0\n",
      "1\n",
      "2\n",
      "3\n"
     ]
    }
   ],
   "source": [
    "for i in range(4):  # la funzione range(n) è usata per iterare da 0 fino a n-1\n",
    "    print(i)"
   ]
  },
  {
   "cell_type": "code",
   "execution_count": 44,
   "metadata": {},
   "outputs": [
    {
     "name": "stdout",
     "output_type": "stream",
     "text": [
      "2\n",
      "3\n"
     ]
    }
   ],
   "source": [
    "for i in range(2,4):  # posso anche specificare da quele valore partire\n",
    "    print(i)"
   ]
  },
  {
   "cell_type": "code",
   "execution_count": null,
   "metadata": {},
   "outputs": [
    {
     "name": "stdout",
     "output_type": "stream",
     "text": [
      "k\n",
      "e\n",
      "k\n",
      "k\n",
      "o\n",
      "l\n",
      "a\n",
      "i\n",
      "o\n",
      "n\n"
     ]
    }
   ],
   "source": [
    "# classico esempio.... stampare tutti gli elementi della struttura sequenziale (una stringa in questo caso!)\n",
    "s ='santagatiivan'\n",
    "for i in range(len(s)) :\n",
    "    print(s[i])"
   ]
  },
  {
   "cell_type": "code",
   "execution_count": 46,
   "metadata": {},
   "outputs": [
    {
     "name": "stdout",
     "output_type": "stream",
     "text": [
      "s\n",
      "a\n",
      "n\n",
      "t\n",
      "a\n",
      "g\n",
      "a\n",
      "t\n",
      "i\n",
      "i\n",
      "v\n",
      "a\n",
      "n\n"
     ]
    }
   ],
   "source": [
    "for i in \"santagatiivan\":\n",
    "    print(i)"
   ]
  },
  {
   "cell_type": "markdown",
   "metadata": {},
   "source": [
    "#### Definizione funzione:"
   ]
  },
  {
   "cell_type": "code",
   "execution_count": 53,
   "metadata": {},
   "outputs": [
    {
     "name": "stdout",
     "output_type": "stream",
     "text": [
      "4\n",
      "8\n",
      "8\n"
     ]
    }
   ],
   "source": [
    "#le funzioni possono avere anche dei valor di default per gli argomenti\n",
    "def eleva_alla_n(numero, n=2): # se io nella chiamata non do un valore al secondo argomento lui prende quello di default\n",
    "    \n",
    "    return numero**n\n",
    "\n",
    "print(eleva_alla_n(2))\n",
    "print(eleva_alla_n(2,3))\n",
    "print(eleva_alla_n(2,n = 3))"
   ]
  },
  {
   "cell_type": "code",
   "execution_count": 54,
   "metadata": {},
   "outputs": [],
   "source": [
    "def somma(a, b):\n",
    "    \"\"\"\n",
    "    Calcola la somma di due numeri.\n",
    "\n",
    "    Args:\n",
    "        a (int or float): Il primo numero.\n",
    "        b (int or float): Il secondo numero.\n",
    "\n",
    "    Returns:\n",
    "        int or float: La somma dei due numeri.\n",
    "    \"\"\"\n",
    "    return a + b"
   ]
  },
  {
   "cell_type": "code",
   "execution_count": 55,
   "metadata": {},
   "outputs": [
    {
     "name": "stdout",
     "output_type": "stream",
     "text": [
      "Help on function somma in module __main__:\n",
      "\n",
      "somma(a, b)\n",
      "    Calcola la somma di due numeri.\n",
      "\n",
      "    Args:\n",
      "        a (int or float): Il primo numero.\n",
      "        b (int or float): Il secondo numero.\n",
      "\n",
      "    Returns:\n",
      "        int or float: La somma dei due numeri.\n",
      "\n"
     ]
    }
   ],
   "source": [
    "help (somma)"
   ]
  },
  {
   "cell_type": "markdown",
   "metadata": {},
   "source": [
    " #### Funzioni Ricorsive:\n",
    "\n",
    "Le funzioni possono richiamare se stesse, in modo ricorsivo. La struttura è la seguente\n",
    "\n",
    "       def funzione(n):\n",
    "              if condizione di uscita (tipo n==0):\n",
    "                     fai qualcosa\n",
    "              else:\n",
    "                     funzione(n-1)\n",
    "           \n"
   ]
  },
  {
   "cell_type": "code",
   "execution_count": 56,
   "metadata": {},
   "outputs": [
    {
     "name": "stdout",
     "output_type": "stream",
     "text": [
      "10\n",
      "9\n",
      "8\n",
      "7\n",
      "6\n",
      "5\n",
      "4\n",
      "3\n",
      "2\n",
      "1\n",
      "Via!\n"
     ]
    }
   ],
   "source": [
    "def contoallarovesciaRic(n):\n",
    "    if n <= 0:\n",
    "        print('Via!')  # LA CONDIZIONE DI USCITA è FONDAMENTALE PER NON RIMANERE INCASTRATI NEL LOOP RICORSIVO!\n",
    "    else:\n",
    "        print(n)\n",
    "        contoallarovesciaRic(n-1)\n",
    "contoallarovesciaRic(10)"
   ]
  },
  {
   "cell_type": "markdown",
   "metadata": {},
   "source": [
    "#### Liste:\n",
    "\n",
    "Sequenza ordinata di elementi eterogenei e **mutabili**!!! Può essere anche con elementi di tipo diverso."
   ]
  },
  {
   "cell_type": "code",
   "execution_count": 1,
   "metadata": {},
   "outputs": [],
   "source": [
    "lista = [\"hello\", 2.0, 5, [10, 20]]"
   ]
  },
  {
   "cell_type": "code",
   "execution_count": 2,
   "metadata": {},
   "outputs": [
    {
     "data": {
      "text/plain": [
       "[2, 4, 6, 8, 10]"
      ]
     },
     "execution_count": 2,
     "metadata": {},
     "output_type": "execute_result"
    }
   ],
   "source": [
    "# posso costruire una lista partendo range.\n",
    "list(range(2,11,2))"
   ]
  },
  {
   "cell_type": "code",
   "execution_count": 3,
   "metadata": {},
   "outputs": [
    {
     "name": "stdout",
     "output_type": "stream",
     "text": [
      "['c', 'i', 'a', 'o', ' ', 'c', 'o', 'm', 'e', ' ', 's', 't', 'a', 'i', '?']\n",
      "['ciao', 'come', 'stai?']\n"
     ]
    }
   ],
   "source": [
    "# posso costruire una lista partendo da una stringa.\n",
    "s1 = 'ciao come stai?'\n",
    "print(list(s1))\n",
    "# posso costruire una lista partendo da una stringa e applicando la funzione split.\n",
    "s2 = s1.split(' ') # equivalemente s1.split(\" \")\n",
    "print(s2)"
   ]
  },
  {
   "cell_type": "code",
   "execution_count": 4,
   "metadata": {},
   "outputs": [
    {
     "data": {
      "text/plain": [
       "([23, 3, 2, 65, 6, 7, 8, 9, 10], [3, 65, 7], [23, 2, 6, 8, 10])"
      ]
     },
     "execution_count": 4,
     "metadata": {},
     "output_type": "execute_result"
    }
   ],
   "source": [
    "\n",
    "# Accedere a un elemento: **x[ indice ]** \n",
    "# <-- Python e molti altri linguaggi cominciano a contare da zero. \n",
    "x = [23,3,2,65, 6,7,8,9,10]\n",
    "y = x[1:6:2] #dall'elemento di indice 1 fino all'elemento di indice 6 (escluso), con step 2  .\n",
    "z = x[::2] #dall'inizio alla fine, con step 2. \n",
    "x, y, z"
   ]
  },
  {
   "cell_type": "code",
   "execution_count": 5,
   "metadata": {},
   "outputs": [
    {
     "name": "stdout",
     "output_type": "stream",
     "text": [
      "[1, 2, 4, 5]\n",
      "[1, 2, 1, 2, 1, 2]\n",
      "[23, 'ciccia', 'casa', 'pluto', 65, 6, 7, 8, 9, 10]\n",
      "[23, 'pluto', 65, 6, 7, 8, 9, 10]\n",
      "[65, 6, 7, 8, 9, 10]\n"
     ]
    }
   ],
   "source": [
    "x = [23,3,2,65, 6,7,8,9,10]\n",
    "print([1,2]+[4,5])     # concatenazione\n",
    "print([1,2]*3)          # ripetizione  concatenata\n",
    "x[1:3]=['ciccia','casa','pluto'] #sostituisco gli elementi dall'indice 1 all'indice 3 (escluso)\n",
    "print(x) \n",
    "x[1:3]=[] #elimino gli elementi dall'indice 1 all'indice 3 (escluso)\n",
    "print(x) \n",
    "del x[0:2] #cancello i primi due elementi\n",
    "print(x) "
   ]
  },
  {
   "cell_type": "code",
   "execution_count": 6,
   "metadata": {},
   "outputs": [
    {
     "name": "stdout",
     "output_type": "stream",
     "text": [
      "Help on built-in function ord in module builtins:\n",
      "\n",
      "ord(c, /)\n",
      "    Return the Unicode code point for a one-character string.\n",
      "\n"
     ]
    }
   ],
   "source": [
    "help(ord)"
   ]
  },
  {
   "cell_type": "code",
   "execution_count": 7,
   "metadata": {},
   "outputs": [
    {
     "name": "stdout",
     "output_type": "stream",
     "text": [
      "Help on built-in function len in module builtins:\n",
      "\n",
      "len(obj, /)\n",
      "    Return the number of items in a container.\n",
      "\n"
     ]
    }
   ],
   "source": [
    "help(len)"
   ]
  },
  {
   "cell_type": "code",
   "execution_count": 8,
   "metadata": {},
   "outputs": [
    {
     "data": {
      "text/plain": [
       "[65, 6, 7, 8, 9, 10]"
      ]
     },
     "execution_count": 8,
     "metadata": {},
     "output_type": "execute_result"
    }
   ],
   "source": [
    "x"
   ]
  },
  {
   "cell_type": "code",
   "execution_count": 9,
   "metadata": {},
   "outputs": [
    {
     "name": "stdout",
     "output_type": "stream",
     "text": [
      "x[0]=65   x[1]=6   x[2]=7   x[3]=8   x[4]=9   "
     ]
    }
   ],
   "source": [
    "# classico ciclo for\n",
    "for i in range(0,5,1):\n",
    "    print('x[{}]={}'.format(i,x[i]), end='   ')"
   ]
  },
  {
   "cell_type": "code",
   "execution_count": 10,
   "metadata": {},
   "outputs": [
    {
     "name": "stdout",
     "output_type": "stream",
     "text": [
      "prima: list1=['hugel', 'jimmy']\n",
      "dopo: list1=['santa', 'jimmy']\n"
     ]
    }
   ],
   "source": [
    "# assegnazione per liste\n",
    "list1 = ['hugel','jimmy']\n",
    "print('prima: list1='+str(list1))\n",
    "list2=list1 # list2 ed list1 puntano alla stesso oggetto in memoria. \n",
    "list2[0]='santa' # tutte le modifiche che faccio su list2 le sto facendo anche su list1!!!!\n",
    "print('dopo: list1='+str(list1))"
   ]
  },
  {
   "cell_type": "code",
   "execution_count": 12,
   "metadata": {},
   "outputs": [
    {
     "name": "stdout",
     "output_type": "stream",
     "text": [
      "list3 e list4  puntano allo stesso oggetto? False\n"
     ]
    }
   ],
   "source": [
    "# quando si effettua la copia \n",
    "list3 = ['11',7,23]\n",
    "list4 = list3.copy()  # oppure list4=list3[:]\n",
    "# list4 punta a un oggetto diverso da list3\n",
    "print('list3 e list4  puntano allo stesso oggetto? '+str( id(list4)==id(list3)))"
   ]
  },
  {
   "cell_type": "code",
   "execution_count": 14,
   "metadata": {},
   "outputs": [
    {
     "name": "stdout",
     "output_type": "stream",
     "text": [
      "list3[0] e list4[0] puntano allo stesso oggetto? True\n",
      "list3[1] e list4[1] puntano allo stesso oggetto? True\n",
      "list3[2] e list4[2] puntano allo stesso oggetto? True\n"
     ]
    }
   ],
   "source": [
    "# tuttavia al loro interno ci sono delle variabili list3[0],list3[1],list3[3], list4[0],list4[1],list4[3]\n",
    "# che puntano ai medesimi oggetti... \n",
    "for i in range(len(list3)):\n",
    "    print('list3[{}] e list4[{}] puntano allo stesso oggetto? {}'.format(i,i,id(list3[i])==id(list4[i])))\n",
    "# bisogna fare attenzione se alcuni di questi oggetti sono oggetti mutabili\n",
    "# occhio liste annidate\n",
    "# per copiare liste annidate posso usare deepcopy"
   ]
  },
  {
   "cell_type": "code",
   "execution_count": 15,
   "metadata": {},
   "outputs": [
    {
     "name": "stdout",
     "output_type": "stream",
     "text": [
      "['11', 7, 23]\n",
      "None\n",
      "['11', 7, 23, 1000000]\n",
      "[7, 23, 1000000]\n",
      "[7, 23, 1000000, 6666, 9999]\n",
      "[7, 23, 6666, 9999, 1000000]\n",
      "[7, 23, 6666, 9999, 1000000, 7, 23, 6666, 9999, 1000000]\n"
     ]
    }
   ],
   "source": [
    "# I metodi delle liste modificano l'oggetto di partenza, i metodi delle stringhe non modificano la lista stessa !!!!\n",
    "list3 = ['11',7,23]\n",
    "print(list3)\n",
    "print(list3.append(1000000))  # aggiunge elemento a list 3 ma non restituisce nessun valore\n",
    "print(list3)\n",
    "list3.pop(0)             # toglie elemento zero a list 3\n",
    "print(list3)\n",
    "list3.extend([6666,9999])           \n",
    "print(list3)\n",
    "list3.sort()           \n",
    "print(list3)\n",
    "\n",
    "print(list3*2)       # ho creato una nuova lista"
   ]
  },
  {
   "cell_type": "markdown",
   "metadata": {},
   "source": [
    "#### Tuple:\n",
    "\n",
    "liste di valori separati da virgole!!! Sono immutabili!!!"
   ]
  },
  {
   "cell_type": "code",
   "execution_count": 16,
   "metadata": {},
   "outputs": [
    {
     "name": "stdout",
     "output_type": "stream",
     "text": [
      "<class 'tuple'> <class 'tuple'>\n"
     ]
    }
   ],
   "source": [
    "\n",
    "tupla1 = (2,)\n",
    "tupla2 = 2,\n",
    "print(type(tupla1), type(tupla2))"
   ]
  },
  {
   "cell_type": "code",
   "execution_count": 17,
   "metadata": {},
   "outputs": [
    {
     "name": "stdout",
     "output_type": "stream",
     "text": [
      "a = 1 ;  b = 2 ;  c = 3\n"
     ]
    }
   ],
   "source": [
    "(a,b,c) = (1,2,3)\n",
    "print('a =',a, ';  b =',b,';  c =',c, )"
   ]
  },
  {
   "cell_type": "markdown",
   "metadata": {},
   "source": [
    "#### Dizionari:\n",
    "\n",
    "dizionario = {chiave: valore}, la chiave può essere un qualsisi oggetto **immutabile**, come tuple, stringe, interi etc.."
   ]
  },
  {
   "cell_type": "code",
   "execution_count": 18,
   "metadata": {},
   "outputs": [
    {
     "name": "stdout",
     "output_type": "stream",
     "text": [
      "<class 'dict'> <class 'dict'>\n"
     ]
    }
   ],
   "source": [
    "diz1 = dict()\n",
    "diz2 = {}\n",
    "print(type(diz1),type(diz2))"
   ]
  },
  {
   "cell_type": "code",
   "execution_count": 19,
   "metadata": {},
   "outputs": [
    {
     "data": {
      "text/plain": [
       "{'Antonio': 26, 'Erica': 30, 'Caterina': 18, 'Ludovica': 30}"
      ]
     },
     "execution_count": 19,
     "metadata": {},
     "output_type": "execute_result"
    }
   ],
   "source": [
    "Voti={'Antonio':27, 'Erica':30, 'Luca':20, 'Caterina':18 }\n",
    "Voti['Antonio']                      # leggere un valore\n",
    "Voti['Ludovica'] = 30                # aggiungere un elemento\n",
    "Voti['Antonio']=Voti['Antonio']-1    # cambiare un valore\n",
    "del Voti['Luca']                     # cancellare un elemento\n",
    "Voti"
   ]
  },
  {
   "cell_type": "code",
   "execution_count": 20,
   "metadata": {},
   "outputs": [
    {
     "name": "stdout",
     "output_type": "stream",
     "text": [
      "4\n",
      "['Antonio', 'Erica', 'Caterina', 'Ludovica']\n",
      "[26, 30, 18, 30]\n",
      "[('Antonio', 26), ('Erica', 30), ('Caterina', 18), ('Ludovica', 30)]\n",
      "True\n"
     ]
    }
   ],
   "source": [
    "print(len(Voti))\n",
    "print(list(Voti.keys()))   # lista chiavi\n",
    "print(list(Voti.values())) # lista valori\n",
    "print(list(Voti.items()))  # lista chiavi-valori\n",
    "print('Ludovica' in Voti.keys() )"
   ]
  },
  {
   "cell_type": "code",
   "execution_count": 21,
   "metadata": {},
   "outputs": [
    {
     "name": "stdout",
     "output_type": "stream",
     "text": [
      "Antonio\n",
      "Erica\n",
      "Caterina\n",
      "Ludovica\n"
     ]
    }
   ],
   "source": [
    "\n",
    "# ORA è ordinato, e rispetta l'ordine di inserimento!! \n",
    "for i in Voti:\n",
    "    print(i)"
   ]
  },
  {
   "cell_type": "markdown",
   "metadata": {},
   "source": [
    "#### Set:\n",
    "\n",
    "collezione non ordinata di oggetti **unici** e **immutabili**!!!"
   ]
  },
  {
   "cell_type": "code",
   "execution_count": 33,
   "metadata": {},
   "outputs": [
    {
     "name": "stdout",
     "output_type": "stream",
     "text": [
      "{'b', 'a', 'c', 's'} {'r', 'b', 'a', 'c', 'd'}\n"
     ]
    }
   ],
   "source": [
    "a={'a','a','a','c','b','s'} # a=set('s','5')\n",
    "b = set('abracadabra')\n",
    "print(a,b)"
   ]
  },
  {
   "cell_type": "code",
   "execution_count": 34,
   "metadata": {},
   "outputs": [
    {
     "name": "stdout",
     "output_type": "stream",
     "text": [
      "{'b', 'pippo', 'a', 'c', 's'}\n",
      "{'b', 'a', 'c', 's'}\n",
      "a - b  {'s'}\n",
      "a | b  {'r', 'b', 'a', 'c', 'd', 's'}\n",
      "a & b  {'b', 'a', 'c'}\n",
      "a^b       {'r', 'd', 's'}\n",
      "True\n"
     ]
    }
   ],
   "source": [
    "a.add('pippo')\n",
    "print(a)\n",
    "a.remove('pippo')\n",
    "print(a)\n",
    "print ('a - b ', a - b)     # differenza\n",
    "print ('a | b ', a | b)     # unione, or logico.  \n",
    "print ('a & b ', a & b)     # intersezione, and logico.\n",
    "print('a^b      ' , a^b)    # simmetric difference\n",
    "print('a' in a)"
   ]
  }
 ],
 "metadata": {
  "kernelspec": {
   "display_name": "base",
   "language": "python",
   "name": "python3"
  },
  "language_info": {
   "codemirror_mode": {
    "name": "ipython",
    "version": 3
   },
   "file_extension": ".py",
   "mimetype": "text/x-python",
   "name": "python",
   "nbconvert_exporter": "python",
   "pygments_lexer": "ipython3",
   "version": "3.12.3"
  }
 },
 "nbformat": 4,
 "nbformat_minor": 2
}
