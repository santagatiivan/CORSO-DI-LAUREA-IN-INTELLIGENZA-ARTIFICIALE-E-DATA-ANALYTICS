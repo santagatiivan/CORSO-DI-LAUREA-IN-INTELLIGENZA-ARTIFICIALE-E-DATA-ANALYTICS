{
 "cells": [
  {
   "cell_type": "markdown",
   "id": "b6fc56ed",
   "metadata": {},
   "source": [
    "Per installare un pacchetto, scrivere sul terminale pip install nome_pacchetto\n",
    "\n",
    "#### Libreria numpy\n",
    "\n",
    "La libreria numpy (che sta per \"Numerical Python\") è una delle librerie fondamentali per la computazione scientifica in Python. Fornisce supporto per array multidimensionali (come le matrici), oltre a una vasta collezione di funzioni matematiche di alto livello per operare su questi array. Con numpy, è possibile eseguire operazioni aritmetiche, logiche, di trasformazione e molte altre su grandi set di dati in modo efficiente e rapido"
   ]
  },
  {
   "cell_type": "code",
   "execution_count": 4,
   "id": "22fdf5cd",
   "metadata": {},
   "outputs": [
    {
     "name": "stdout",
     "output_type": "stream",
     "text": [
      "[1 2 3 4 5]\n"
     ]
    }
   ],
   "source": [
    "import numpy as np\n",
    "\n",
    "# Creazione di un array\n",
    "a = np.array([1, 2, 3, 4, 5])\n",
    "print(a)"
   ]
  },
  {
   "cell_type": "code",
   "execution_count": 5,
   "id": "35cc6a68",
   "metadata": {},
   "outputs": [
    {
     "name": "stdout",
     "output_type": "stream",
     "text": [
      "[11 12 13 14 15]\n"
     ]
    }
   ],
   "source": [
    "# Operazioni aritmetiche\n",
    "# Somma elemento per elemento\n",
    "b = a + 10\n",
    "print(b)"
   ]
  },
  {
   "cell_type": "code",
   "execution_count": 7,
   "id": "ba27d955",
   "metadata": {},
   "outputs": [],
   "source": [
    "# Sottrazione elemento per elemento\n",
    "h = 10 - a\n",
    "\n",
    "# Moltiplicazione elemento per elemento\n",
    "i = a * 10\n",
    "\n",
    "# Divisione elemento per elemento\n",
    "j = 10 / a\n",
    "\n",
    "# Elevamento a potenza elemento per elemento\n",
    "k = a ** 2"
   ]
  },
  {
   "cell_type": "code",
   "execution_count": 8,
   "id": "85810360",
   "metadata": {},
   "outputs": [
    {
     "name": "stdout",
     "output_type": "stream",
     "text": [
      "3.0\n"
     ]
    }
   ],
   "source": [
    "# Funzioni statistiche\n",
    "media = np.mean(a)\n",
    "print(media)  # Risultato: 3.0"
   ]
  },
  {
   "cell_type": "code",
   "execution_count": 9,
   "id": "4782e00e",
   "metadata": {},
   "outputs": [
    {
     "name": "stdout",
     "output_type": "stream",
     "text": [
      "[[1 2 3]\n",
      " [4 5 6]\n",
      " [7 8 9]]\n"
     ]
    }
   ],
   "source": [
    "# Creazione di array bidimensionali (matrici)\n",
    "matrice = np.array([[1, 2, 3], [4, 5, 6], [7, 8, 9]])\n",
    "print(matrice)"
   ]
  },
  {
   "cell_type": "code",
   "execution_count": 10,
   "id": "592b50c0",
   "metadata": {},
   "outputs": [
    {
     "name": "stdout",
     "output_type": "stream",
     "text": [
      "[[[ 1  2  3]\n",
      "  [ 4  5  6]]\n",
      "\n",
      " [[ 7  8  9]\n",
      "  [10 11 12]]\n",
      "\n",
      " [[13 14 15]\n",
      "  [16 17 18]]]\n"
     ]
    }
   ],
   "source": [
    "# Creazione di array tridimensionali (matrici)\n",
    "array_3d = np.array([[[1, 2, 3], [4, 5, 6]],\n",
    "                     [[7, 8, 9], [10, 11, 12]],\n",
    "                     [[13, 14, 15], [16, 17, 18]]])\n",
    "\n",
    "print(array_3d)"
   ]
  },
  {
   "cell_type": "code",
   "execution_count": 11,
   "id": "fe6ec384",
   "metadata": {},
   "outputs": [
    {
     "name": "stdout",
     "output_type": "stream",
     "text": [
      "[[0. 0.]\n",
      " [0. 0.]\n",
      " [0. 0.]]\n"
     ]
    }
   ],
   "source": [
    "# Creare un array bidimensionale di zeri:\n",
    "zero_3d = np.zeros((3, 2))\n",
    "print(zero_3d)"
   ]
  },
  {
   "cell_type": "code",
   "execution_count": 12,
   "id": "812423b9",
   "metadata": {},
   "outputs": [
    {
     "name": "stdout",
     "output_type": "stream",
     "text": [
      "[[[1. 1. 1. 1.]\n",
      "  [1. 1. 1. 1.]\n",
      "  [1. 1. 1. 1.]]\n",
      "\n",
      " [[1. 1. 1. 1.]\n",
      "  [1. 1. 1. 1.]\n",
      "  [1. 1. 1. 1.]]]\n"
     ]
    }
   ],
   "source": [
    "# Creazione di array tridimensionali di uni\n",
    "ones_3d = np.ones((2, 3, 4))\n",
    "print(ones_3d)"
   ]
  },
  {
   "cell_type": "code",
   "execution_count": 13,
   "id": "19d41b1e",
   "metadata": {},
   "outputs": [
    {
     "name": "stdout",
     "output_type": "stream",
     "text": [
      "[[[0.75107296 0.93481955 0.87471455 0.2750726 ]\n",
      "  [0.39762793 0.20336108 0.24197066 0.97831275]\n",
      "  [0.09217919 0.25709518 0.20701623 0.19393153]]\n",
      "\n",
      " [[0.35504351 0.07314206 0.87770897 0.25398297]\n",
      "  [0.04630629 0.04153371 0.45284576 0.04435421]\n",
      "  [0.94900873 0.11699001 0.66588081 0.93724348]]]\n"
     ]
    }
   ],
   "source": [
    "#Creare un array tridimensionale con valori casuali:\n",
    "random_3d = np.random.rand(2, 3, 4)\n",
    "print(random_3d)"
   ]
  },
  {
   "cell_type": "code",
   "execution_count": 14,
   "id": "25c904e1",
   "metadata": {},
   "outputs": [
    {
     "name": "stdout",
     "output_type": "stream",
     "text": [
      "[[ 6  8]\n",
      " [10 12]]\n",
      "[[-4 -4]\n",
      " [-4 -4]]\n"
     ]
    }
   ],
   "source": [
    "# addizione e sottrazione tra array\n",
    "A = np.array([[1, 2], [3, 4]])\n",
    "B = np.array([[5, 6], [7, 8]])\n",
    "\n",
    "C = A + B\n",
    "print(C)\n",
    "\n",
    "D = A - B\n",
    "print(D)"
   ]
  },
  {
   "cell_type": "code",
   "execution_count": 15,
   "id": "7f8453b6",
   "metadata": {},
   "outputs": [
    {
     "name": "stdout",
     "output_type": "stream",
     "text": [
      "[[ 5 12]\n",
      " [21 32]]\n"
     ]
    }
   ],
   "source": [
    "# moltiplicazione elemente per elemento\n",
    "E = A * B\n",
    "print(E)"
   ]
  },
  {
   "cell_type": "code",
   "execution_count": 16,
   "id": "c6559eb9",
   "metadata": {},
   "outputs": [
    {
     "name": "stdout",
     "output_type": "stream",
     "text": [
      "[[1 3]\n",
      " [2 4]]\n"
     ]
    }
   ],
   "source": [
    "# trasposizione\n",
    "H = A.T\n",
    "print(H)"
   ]
  },
  {
   "cell_type": "code",
   "execution_count": 17,
   "id": "149db5ae",
   "metadata": {},
   "outputs": [
    {
     "name": "stdout",
     "output_type": "stream",
     "text": [
      "[[-2.   1. ]\n",
      " [ 1.5 -0.5]]\n"
     ]
    }
   ],
   "source": [
    "# inversione\n",
    "I = np.linalg.inv(A)\n",
    "print(I)"
   ]
  },
  {
   "cell_type": "code",
   "execution_count": 18,
   "id": "b1862fc6",
   "metadata": {},
   "outputs": [
    {
     "name": "stdout",
     "output_type": "stream",
     "text": [
      "[0.   0.25 0.5  0.75 1.  ]\n"
     ]
    }
   ],
   "source": [
    "# Creare un array con valori equidistanti\n",
    "f = np.linspace(0, 1, 5)\n",
    "print(f)"
   ]
  },
  {
   "cell_type": "code",
   "execution_count": 19,
   "id": "afc9d9de",
   "metadata": {},
   "outputs": [],
   "source": [
    "# Somma di tutti gli elementi in un array\n",
    "l = np.sum(a)\n",
    "\n",
    "# Media di tutti gli elementi\n",
    "m = np.mean(b)\n",
    "\n",
    "# Massimo elemento\n",
    "n = np.max(b)\n",
    "\n",
    "# Minimo elemento\n",
    "o = np.min(b)\n",
    "\n",
    "# Somma lungo le colonne (asse 0)\n",
    "p = np.sum(random_3d, axis=0)\n",
    "\n",
    "# Somma lungo le righe (asse 1)\n",
    "q = np.sum(random_3d, axis=1)"
   ]
  },
  {
   "cell_type": "markdown",
   "id": "b3e2fd26",
   "metadata": {},
   "source": [
    "#### Libreria matplotlib\n",
    "\n",
    "Matplotlib è una libreria di plotting. È stata creata da John D. Hunter nel 2003.\n",
    "\n",
    "È particolarmente buona per la generazione di grafici in due dimensioni, e con un po' di sforzo è possibile anche creare alcuni grafici 3D piuttosto sofisticati."
   ]
  },
  {
   "cell_type": "code",
   "execution_count": 1,
   "id": "42cfb416",
   "metadata": {},
   "outputs": [],
   "source": [
    "import matplotlib.pyplot as plt"
   ]
  },
  {
   "cell_type": "code",
   "execution_count": 11,
   "id": "c374f0e7",
   "metadata": {},
   "outputs": [
    {
     "data": {
      "image/png": "[encoded data removed]",
      "text/plain": [
       "<Figure size 640x480 with 1 Axes>"
      ]
     },
     "metadata": {},
     "output_type": "display_data"
    }
   ],
   "source": [
    "import numpy as np\n",
    "\n",
    "# Grafico a Linee\n",
    "x = np.linspace(0, 10, 100)\n",
    "y = [-value**3 for value in x]\n",
    "\n",
    "plt.plot(x, y)\n",
    "\n",
    "plt.title('Grafico a Linee')\n",
    "plt.xlabel('Asse x')\n",
    "plt.ylabel('Asse f(x)')\n",
    "plt.grid(True)\n",
    "plt.show()"
   ]
  },
  {
   "cell_type": "code",
   "execution_count": 12,
   "id": "14218fe9",
   "metadata": {},
   "outputs": [
    {
     "data": {
      "image/png": "[encoded data removed]",
      "text/plain": [
       "<Figure size 640x480 with 1 Axes>"
      ]
     },
     "metadata": {},
     "output_type": "display_data"
    }
   ],
   "source": [
    "# Grafico a barre\n",
    "categorie = ['Categoria 1', 'Categoria 2', 'Categoria 3', 'Categoria 4']\n",
    "valori = [10, 20, 25, 30]\n",
    "\n",
    "plt.bar(categorie, valori, color= ['yellow', 'green', 'blue', 'red'])\n",
    "\n",
    "plt.title('Grafico a Barre')\n",
    "plt.xlabel('Categorie')\n",
    "plt.ylabel('Valori')\n",
    "plt.show()"
   ]
  },
  {
   "cell_type": "code",
   "execution_count": 13,
   "id": "48e60075",
   "metadata": {},
   "outputs": [
    {
     "name": "stdout",
     "output_type": "stream",
     "text": [
      "\u001b[31mSignature:\u001b[39m np.random.randn(*args)\n",
      "\u001b[31mDocstring:\u001b[39m\n",
      "randn(d0, d1, ..., dn)\n",
      "\n",
      "Return a sample (or samples) from the \"standard normal\" distribution.\n",
      "\n",
      ".. note::\n",
      "    This is a convenience function for users porting code from Matlab,\n",
      "    and wraps `standard_normal`. That function takes a\n",
      "    tuple to specify the size of the output, which is consistent with\n",
      "    other NumPy functions like `numpy.zeros` and `numpy.ones`.\n",
      "\n",
      ".. note::\n",
      "    New code should use the\n",
      "    `~numpy.random.Generator.standard_normal`\n",
      "    method of a `~numpy.random.Generator` instance instead;\n",
      "    please see the :ref:`random-quick-start`.\n",
      "\n",
      "If positive int_like arguments are provided, `randn` generates an array\n",
      "of shape ``(d0, d1, ..., dn)``, filled\n",
      "with random floats sampled from a univariate \"normal\" (Gaussian)\n",
      "distribution of mean 0 and variance 1. A single float randomly sampled\n",
      "from the distribution is returned if no argument is provided.\n",
      "\n",
      "Parameters\n",
      "----------\n",
      "d0, d1, ..., dn : int, optional\n",
      "    The dimensions of the returned array, must be non-negative.\n",
      "    If no argument is given a single Python float is returned.\n",
      "\n",
      "Returns\n",
      "-------\n",
      "Z : ndarray or float\n",
      "    A ``(d0, d1, ..., dn)``-shaped array of floating-point samples from\n",
      "    the standard normal distribution, or a single such float if\n",
      "    no parameters were supplied.\n",
      "\n",
      "See Also\n",
      "--------\n",
      "standard_normal : Similar, but takes a tuple as its argument.\n",
      "normal : Also accepts mu and sigma arguments.\n",
      "random.Generator.standard_normal: which should be used for new code.\n",
      "\n",
      "Notes\n",
      "-----\n",
      "For random samples from the normal distribution with mean ``mu`` and\n",
      "standard deviation ``sigma``, use::\n",
      "\n",
      "    sigma * np.random.randn(...) + mu\n",
      "\n",
      "Examples\n",
      "--------\n",
      ">>> np.random.randn()\n",
      "2.1923875335537315  # random\n",
      "\n",
      "Two-by-four array of samples from the normal distribution with\n",
      "mean 3 and standard deviation 2.5:\n",
      "\n",
      ">>> 3 + 2.5 * np.random.randn(2, 4)\n",
      "array([[-4.49401501,  4.00950034, -1.81814867,  7.29718677],   # random\n",
      "       [ 0.39924804,  4.68456316,  4.99394529,  4.84057254]])  # random\n",
      "\u001b[31mType:\u001b[39m      method"
     ]
    }
   ],
   "source": [
    "?np.random.randn"
   ]
  },
  {
   "cell_type": "code",
   "execution_count": 14,
   "id": "dfce9188",
   "metadata": {},
   "outputs": [],
   "source": [
    "# Imposta il seed per la riproducibilità\n",
    "np.random.seed(0)\n",
    "\n",
    "# Crea una matrice 3x5 di numeri casuali\n",
    "# I numeri casuali saranno tra 0 e 1\n",
    "matrice_casuale = np.random.rand(3, 5)"
   ]
  },
  {
   "cell_type": "code",
   "execution_count": 15,
   "id": "b24f1e7e",
   "metadata": {},
   "outputs": [
    {
     "data": {
      "image/png": "[encoded data removed]",
      "text/plain": [
       "<Figure size 640x480 with 1 Axes>"
      ]
     },
     "metadata": {},
     "output_type": "display_data"
    }
   ],
   "source": [
    "# Istogramma\n",
    "np.random.seed(3)\n",
    "dati = np.random.randn(1000)\n",
    "plt.hist(dati, bins=10, linewidth=0.5, edgecolor=\"black\")\n",
    "\n",
    "plt.title('Istogramma')\n",
    "plt.xlabel('Valori')\n",
    "plt.ylabel('Frequenza')\n",
    "plt.show()"
   ]
  },
  {
   "cell_type": "code",
   "execution_count": 16,
   "id": "5328f345",
   "metadata": {},
   "outputs": [
    {
     "data": {
      "image/png": "[encoded data removed]",
      "text/plain": [
       "<Figure size 640x480 with 1 Axes>"
      ]
     },
     "metadata": {},
     "output_type": "display_data"
    }
   ],
   "source": [
    "# Scatterplot\n",
    "x = np.random.rand(50)\n",
    "y = np.random.rand(50)\n",
    "\n",
    "plt.scatter(x, y)\n",
    "\n",
    "plt.title('Scatter Plot')\n",
    "plt.xlabel('Asse X')\n",
    "plt.ylabel('Asse Y')\n",
    "plt.show()"
   ]
  },
  {
   "cell_type": "code",
   "execution_count": 18,
   "id": "916361fd",
   "metadata": {},
   "outputs": [
    {
     "data": {
      "image/png": "[encoded data removed]",
      "text/plain": [
       "<Figure size 640x480 with 1 Axes>"
      ]
     },
     "metadata": {},
     "output_type": "display_data"
    }
   ],
   "source": [
    "\n",
    "# Grafico a torta\n",
    "fette = [30, 20, 45, 25]\n",
    "labels = ['Fetta 1', 'Fetta 2', 'Fetta 3', 'Fetta 4']\n",
    "\n",
    "plt.pie(fette, labels=labels, autopct='%1.2f%%')\n",
    "\n",
    "plt.title('Grafico a Torta')\n",
    "plt.show()"
   ]
  }
 ],
 "metadata": {
  "kernelspec": {
   "display_name": "base",
   "language": "python",
   "name": "python3"
  },
  "language_info": {
   "codemirror_mode": {
    "name": "ipython",
    "version": 3
   },
   "file_extension": ".py",
   "mimetype": "text/x-python",
   "name": "python",
   "nbconvert_exporter": "python",
   "pygments_lexer": "ipython3",
   "version": "3.12.3"
  }
 },
 "nbformat": 4,
 "nbformat_minor": 5
}
