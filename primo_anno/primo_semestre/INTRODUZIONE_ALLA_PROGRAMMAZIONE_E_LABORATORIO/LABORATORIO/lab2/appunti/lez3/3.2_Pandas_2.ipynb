{
 "cells": [
  {
   "cell_type": "markdown",
   "metadata": {},
   "source": [
    "# Pulizia dei dati in Pandas"
   ]
  },
  {
   "cell_type": "code",
   "execution_count": 2,
   "metadata": {},
   "outputs": [
    {
     "name": "stderr",
     "output_type": "stream",
     "text": [
      "Repo card metadata block was not found. Setting CardData to empty.\n"
     ]
    }
   ],
   "source": [
    "# Importing Libraries\n",
    "import pandas as pd\n",
    "from datasets import load_dataset\n",
    "\n",
    "# Carica il dataset\n",
    "dataset = load_dataset(\"yiqing111/Engineering_Jobs_Insight_Dataset\")\n",
    "\n",
    "# Converte in DataFrame Pandas\n",
    "df = dataset['train'].to_pandas()\n",
    "# Rimpiazza gli spazi con l'underscore\n",
    "df.columns = df.columns.str.replace(' ', '_')"
   ]
  },
  {
   "cell_type": "code",
   "execution_count": 7,
   "metadata": {},
   "outputs": [
    {
     "name": "stdout",
     "output_type": "stream",
     "text": [
      "<class 'pandas.core.frame.DataFrame'>\n",
      "RangeIndex: 11185 entries, 0 to 11184\n",
      "Data columns (total 8 columns):\n",
      " #   Column       Non-Null Count  Dtype              \n",
      "---  ------       --------------  -----              \n",
      " 0   Job_Title    11185 non-null  object             \n",
      " 1   Company      11181 non-null  object             \n",
      " 2   Description  11185 non-null  object             \n",
      " 3   Location     11185 non-null  object             \n",
      " 4   Salary_Min   11185 non-null  float64            \n",
      " 5   Salary_Max   11179 non-null  float64            \n",
      " 6   Date_Posted  11185 non-null  datetime64[ns, UTC]\n",
      " 7   URL          11185 non-null  object             \n",
      "dtypes: datetime64[ns, UTC](1), float64(2), object(5)\n",
      "memory usage: 699.2+ KB\n"
     ]
    }
   ],
   "source": [
    "df.info()"
   ]
  },
  {
   "cell_type": "markdown",
   "metadata": {},
   "source": [
    "## Date and Time"
   ]
  },
  {
   "cell_type": "markdown",
   "metadata": {},
   "source": [
    "### Datetime\n",
    "\n",
    "* `pd.to_datetime()`: converte gli argomenti in formato data-pora\n",
    "\n",
    "Possiamo anche usare `info()` che il tipo di dato è passato da oggetto o stringa a formato `datetime` \n",
    "\n",
    "#### Esempio"
   ]
  },
  {
   "cell_type": "code",
   "execution_count": 5,
   "metadata": {},
   "outputs": [
    {
     "name": "stdout",
     "output_type": "stream",
     "text": [
      "<class 'pandas.core.frame.DataFrame'>\n",
      "RangeIndex: 11185 entries, 0 to 11184\n",
      "Data columns (total 8 columns):\n",
      " #   Column       Non-Null Count  Dtype              \n",
      "---  ------       --------------  -----              \n",
      " 0   Job_Title    11185 non-null  object             \n",
      " 1   Company      11181 non-null  object             \n",
      " 2   Description  11185 non-null  object             \n",
      " 3   Location     11185 non-null  object             \n",
      " 4   Salary_Min   11185 non-null  float64            \n",
      " 5   Salary_Max   11179 non-null  float64            \n",
      " 6   Date_Posted  11185 non-null  datetime64[ns, UTC]\n",
      " 7   URL          11185 non-null  object             \n",
      "dtypes: datetime64[ns, UTC](1), float64(2), object(5)\n",
      "memory usage: 699.2+ KB\n"
     ]
    }
   ],
   "source": [
    "# Convertire 'Date_Posted' in datetime senza specificare il formato esatto\n",
    "df['Date_Posted'] = pd.to_datetime(df['Date_Posted'], errors='coerce')\n",
    "# errors='coerce' trasforma quelli non validi in NaT (Not a Time, l'equivalente datetime di NaN)\n",
    "\n",
    "df.info()"
   ]
  },
  {
   "cell_type": "code",
   "execution_count": 6,
   "metadata": {},
   "outputs": [
    {
     "data": {
      "text/html": [
       "<div>\n",
       "<style scoped>\n",
       "    .dataframe tbody tr th:only-of-type {\n",
       "        vertical-align: middle;\n",
       "    }\n",
       "\n",
       "    .dataframe tbody tr th {\n",
       "        vertical-align: top;\n",
       "    }\n",
       "\n",
       "    .dataframe thead th {\n",
       "        text-align: right;\n",
       "    }\n",
       "</style>\n",
       "<table border=\"1\" class=\"dataframe\">\n",
       "  <thead>\n",
       "    <tr style=\"text-align: right;\">\n",
       "      <th></th>\n",
       "      <th>Job_Title</th>\n",
       "      <th>Company</th>\n",
       "      <th>Description</th>\n",
       "      <th>Location</th>\n",
       "      <th>Salary_Min</th>\n",
       "      <th>Salary_Max</th>\n",
       "      <th>Date_Posted</th>\n",
       "      <th>URL</th>\n",
       "    </tr>\n",
       "  </thead>\n",
       "  <tbody>\n",
       "    <tr>\n",
       "      <th>0</th>\n",
       "      <td>Senior Software Engineer (Python)</td>\n",
       "      <td>BP Energy</td>\n",
       "      <td>Entity: Trading &amp; Shipping Job Family Group: S...</td>\n",
       "      <td>Crestwood, Houston</td>\n",
       "      <td>138992.40</td>\n",
       "      <td>138992.40</td>\n",
       "      <td>2024-10-29 16:35:26+00:00</td>\n",
       "      <td>https://www.adzuna.com/land/ad/4917931721?se=N...</td>\n",
       "    </tr>\n",
       "    <tr>\n",
       "      <th>1</th>\n",
       "      <td>Sr. Backend Software Engineer</td>\n",
       "      <td>Meijer</td>\n",
       "      <td>As a family company, we serve people and commu...</td>\n",
       "      <td>Belmont, Kent County</td>\n",
       "      <td>118638.80</td>\n",
       "      <td>118638.80</td>\n",
       "      <td>2024-11-10 01:13:11+00:00</td>\n",
       "      <td>https://www.adzuna.com/land/ad/4933370156?se=N...</td>\n",
       "    </tr>\n",
       "    <tr>\n",
       "      <th>2</th>\n",
       "      <td>Sr. Software Engineer - Mobile</td>\n",
       "      <td>Meijer</td>\n",
       "      <td>As a family company, we serve people and commu...</td>\n",
       "      <td>Belmont, Kent County</td>\n",
       "      <td>108041.95</td>\n",
       "      <td>108041.95</td>\n",
       "      <td>2024-10-15 11:51:30+00:00</td>\n",
       "      <td>https://www.adzuna.com/land/ad/4902683574?se=N...</td>\n",
       "    </tr>\n",
       "    <tr>\n",
       "      <th>3</th>\n",
       "      <td>Acquisition Software Engineer</td>\n",
       "      <td>Naval Air Systems Command</td>\n",
       "      <td>Position Description The Harpoon/SLAM ER/JSOW ...</td>\n",
       "      <td>China Lake, Kern County</td>\n",
       "      <td>88583.57</td>\n",
       "      <td>88583.57</td>\n",
       "      <td>2024-11-16 04:21:41+00:00</td>\n",
       "      <td>https://www.adzuna.com/land/ad/4941260438?se=N...</td>\n",
       "    </tr>\n",
       "    <tr>\n",
       "      <th>4</th>\n",
       "      <td>Senior Software Engineer</td>\n",
       "      <td>Innova</td>\n",
       "      <td>A client of Innova Solutions is immediately hi...</td>\n",
       "      <td>Richardson, Dallas</td>\n",
       "      <td>121932.35</td>\n",
       "      <td>121932.35</td>\n",
       "      <td>2024-11-15 09:42:55+00:00</td>\n",
       "      <td>https://www.adzuna.com/details/4940271538?utm_...</td>\n",
       "    </tr>\n",
       "  </tbody>\n",
       "</table>\n",
       "</div>"
      ],
      "text/plain": [
       "                           Job_Title                     Company  \\\n",
       "0  Senior Software Engineer (Python)                   BP Energy   \n",
       "1      Sr. Backend Software Engineer                      Meijer   \n",
       "2     Sr. Software Engineer - Mobile                      Meijer   \n",
       "3      Acquisition Software Engineer  Naval Air Systems Command    \n",
       "4           Senior Software Engineer                      Innova   \n",
       "\n",
       "                                         Description                 Location  \\\n",
       "0  Entity: Trading & Shipping Job Family Group: S...       Crestwood, Houston   \n",
       "1  As a family company, we serve people and commu...     Belmont, Kent County   \n",
       "2  As a family company, we serve people and commu...     Belmont, Kent County   \n",
       "3  Position Description The Harpoon/SLAM ER/JSOW ...  China Lake, Kern County   \n",
       "4  A client of Innova Solutions is immediately hi...       Richardson, Dallas   \n",
       "\n",
       "   Salary_Min  Salary_Max               Date_Posted  \\\n",
       "0   138992.40   138992.40 2024-10-29 16:35:26+00:00   \n",
       "1   118638.80   118638.80 2024-11-10 01:13:11+00:00   \n",
       "2   108041.95   108041.95 2024-10-15 11:51:30+00:00   \n",
       "3    88583.57    88583.57 2024-11-16 04:21:41+00:00   \n",
       "4   121932.35   121932.35 2024-11-15 09:42:55+00:00   \n",
       "\n",
       "                                                 URL  \n",
       "0  https://www.adzuna.com/land/ad/4917931721?se=N...  \n",
       "1  https://www.adzuna.com/land/ad/4933370156?se=N...  \n",
       "2  https://www.adzuna.com/land/ad/4902683574?se=N...  \n",
       "3  https://www.adzuna.com/land/ad/4941260438?se=N...  \n",
       "4  https://www.adzuna.com/details/4940271538?utm_...  "
      ]
     },
     "execution_count": 6,
     "metadata": {},
     "output_type": "execute_result"
    }
   ],
   "source": [
    "df.head()"
   ]
  },
  {
   "cell_type": "markdown",
   "metadata": {},
   "source": [
    "### Date\n",
    "\n",
    "* `dt`: è un accessor che ci permette di accedere a metodi e proprietà specializzate per lavorare con dati datetime all'interno di una series di pandas.\n",
    "* `date`: è una proprietà che estrae la componente **data** da un oggetto datetime nella series.\n",
    "\n",
    "#### Esempio\n",
    "\n",
    "Ora convertiamo un valore da datetime a data utilizzando `dt.date`.\n"
   ]
  },
  {
   "cell_type": "code",
   "execution_count": 8,
   "metadata": {},
   "outputs": [
    {
     "data": {
      "text/html": [
       "<div>\n",
       "<style scoped>\n",
       "    .dataframe tbody tr th:only-of-type {\n",
       "        vertical-align: middle;\n",
       "    }\n",
       "\n",
       "    .dataframe tbody tr th {\n",
       "        vertical-align: top;\n",
       "    }\n",
       "\n",
       "    .dataframe thead th {\n",
       "        text-align: right;\n",
       "    }\n",
       "</style>\n",
       "<table border=\"1\" class=\"dataframe\">\n",
       "  <thead>\n",
       "    <tr style=\"text-align: right;\">\n",
       "      <th></th>\n",
       "      <th>Job_Title</th>\n",
       "      <th>Company</th>\n",
       "      <th>Description</th>\n",
       "      <th>Location</th>\n",
       "      <th>Salary_Min</th>\n",
       "      <th>Salary_Max</th>\n",
       "      <th>Date_Posted</th>\n",
       "      <th>URL</th>\n",
       "    </tr>\n",
       "  </thead>\n",
       "  <tbody>\n",
       "    <tr>\n",
       "      <th>0</th>\n",
       "      <td>Senior Software Engineer (Python)</td>\n",
       "      <td>BP Energy</td>\n",
       "      <td>Entity: Trading &amp; Shipping Job Family Group: S...</td>\n",
       "      <td>Crestwood, Houston</td>\n",
       "      <td>138992.40</td>\n",
       "      <td>138992.40</td>\n",
       "      <td>2024-10-29</td>\n",
       "      <td>https://www.adzuna.com/land/ad/4917931721?se=N...</td>\n",
       "    </tr>\n",
       "    <tr>\n",
       "      <th>1</th>\n",
       "      <td>Sr. Backend Software Engineer</td>\n",
       "      <td>Meijer</td>\n",
       "      <td>As a family company, we serve people and commu...</td>\n",
       "      <td>Belmont, Kent County</td>\n",
       "      <td>118638.80</td>\n",
       "      <td>118638.80</td>\n",
       "      <td>2024-11-10</td>\n",
       "      <td>https://www.adzuna.com/land/ad/4933370156?se=N...</td>\n",
       "    </tr>\n",
       "    <tr>\n",
       "      <th>2</th>\n",
       "      <td>Sr. Software Engineer - Mobile</td>\n",
       "      <td>Meijer</td>\n",
       "      <td>As a family company, we serve people and commu...</td>\n",
       "      <td>Belmont, Kent County</td>\n",
       "      <td>108041.95</td>\n",
       "      <td>108041.95</td>\n",
       "      <td>2024-10-15</td>\n",
       "      <td>https://www.adzuna.com/land/ad/4902683574?se=N...</td>\n",
       "    </tr>\n",
       "    <tr>\n",
       "      <th>3</th>\n",
       "      <td>Acquisition Software Engineer</td>\n",
       "      <td>Naval Air Systems Command</td>\n",
       "      <td>Position Description The Harpoon/SLAM ER/JSOW ...</td>\n",
       "      <td>China Lake, Kern County</td>\n",
       "      <td>88583.57</td>\n",
       "      <td>88583.57</td>\n",
       "      <td>2024-11-16</td>\n",
       "      <td>https://www.adzuna.com/land/ad/4941260438?se=N...</td>\n",
       "    </tr>\n",
       "    <tr>\n",
       "      <th>4</th>\n",
       "      <td>Senior Software Engineer</td>\n",
       "      <td>Innova</td>\n",
       "      <td>A client of Innova Solutions is immediately hi...</td>\n",
       "      <td>Richardson, Dallas</td>\n",
       "      <td>121932.35</td>\n",
       "      <td>121932.35</td>\n",
       "      <td>2024-11-15</td>\n",
       "      <td>https://www.adzuna.com/details/4940271538?utm_...</td>\n",
       "    </tr>\n",
       "  </tbody>\n",
       "</table>\n",
       "</div>"
      ],
      "text/plain": [
       "                           Job_Title                     Company  \\\n",
       "0  Senior Software Engineer (Python)                   BP Energy   \n",
       "1      Sr. Backend Software Engineer                      Meijer   \n",
       "2     Sr. Software Engineer - Mobile                      Meijer   \n",
       "3      Acquisition Software Engineer  Naval Air Systems Command    \n",
       "4           Senior Software Engineer                      Innova   \n",
       "\n",
       "                                         Description                 Location  \\\n",
       "0  Entity: Trading & Shipping Job Family Group: S...       Crestwood, Houston   \n",
       "1  As a family company, we serve people and commu...     Belmont, Kent County   \n",
       "2  As a family company, we serve people and commu...     Belmont, Kent County   \n",
       "3  Position Description The Harpoon/SLAM ER/JSOW ...  China Lake, Kern County   \n",
       "4  A client of Innova Solutions is immediately hi...       Richardson, Dallas   \n",
       "\n",
       "   Salary_Min  Salary_Max Date_Posted  \\\n",
       "0   138992.40   138992.40  2024-10-29   \n",
       "1   118638.80   118638.80  2024-11-10   \n",
       "2   108041.95   108041.95  2024-10-15   \n",
       "3    88583.57    88583.57  2024-11-16   \n",
       "4   121932.35   121932.35  2024-11-15   \n",
       "\n",
       "                                                 URL  \n",
       "0  https://www.adzuna.com/land/ad/4917931721?se=N...  \n",
       "1  https://www.adzuna.com/land/ad/4933370156?se=N...  \n",
       "2  https://www.adzuna.com/land/ad/4902683574?se=N...  \n",
       "3  https://www.adzuna.com/land/ad/4941260438?se=N...  \n",
       "4  https://www.adzuna.com/details/4940271538?utm_...  "
      ]
     },
     "execution_count": 8,
     "metadata": {},
     "output_type": "execute_result"
    }
   ],
   "source": [
    "df['Date_Posted'] = df['Date_Posted'].dt.date\n",
    "\n",
    "df.head()"
   ]
  },
  {
   "cell_type": "markdown",
   "metadata": {},
   "source": [
    "## Aggiungere una colonna\n",
    "\n",
    "NOTA BENE: Se vuoi creare una nuova colonna, devi usare la sintassi `df['nome_colonna']`.\n",
    "\n",
    "### Esempio\n",
    "\n",
    "Qui stiamo creando una nuova colonna chiamata **'Is Senior Software Engineer'**.  \n",
    "La colonna conterrà:\n",
    "- **1** se il valore in `Job_Title` è uguale a `'Senior Software Engineer'`\n",
    "- **0** altrimenti\n",
    "\n",
    "Usiamo `astype(int)` per convertire il valore booleano in 1 o 0.\n"
   ]
  },
  {
   "cell_type": "code",
   "execution_count": 9,
   "metadata": {},
   "outputs": [],
   "source": [
    "df['is_Senior_SE'] = (df.Job_Title == 'Senior Software Engineer').astype(int)"
   ]
  },
  {
   "cell_type": "code",
   "execution_count": 10,
   "metadata": {},
   "outputs": [
    {
     "data": {
      "text/plain": [
       "0        0\n",
       "1        0\n",
       "2        0\n",
       "3        0\n",
       "4        1\n",
       "        ..\n",
       "11180    0\n",
       "11181    0\n",
       "11182    0\n",
       "11183    0\n",
       "11184    0\n",
       "Name: is_Senior_SE, Length: 11185, dtype: int64"
      ]
     },
     "execution_count": 10,
     "metadata": {},
     "output_type": "execute_result"
    }
   ],
   "source": [
    "df['is_Senior_SE']"
   ]
  },
  {
   "cell_type": "markdown",
   "metadata": {},
   "source": [
    "Vediamo ora i casi in cui questa colonna è **maggiore di 0**,  \n",
    "cioè è uguale a **1** (ovvero è vera).\n",
    "\n",
    "Possiamo usare il **filtro sulle righe** che abbiamo visto nella sezione precedente:"
   ]
  },
  {
   "cell_type": "code",
   "execution_count": 11,
   "metadata": {},
   "outputs": [
    {
     "data": {
      "text/html": [
       "<div>\n",
       "<style scoped>\n",
       "    .dataframe tbody tr th:only-of-type {\n",
       "        vertical-align: middle;\n",
       "    }\n",
       "\n",
       "    .dataframe tbody tr th {\n",
       "        vertical-align: top;\n",
       "    }\n",
       "\n",
       "    .dataframe thead th {\n",
       "        text-align: right;\n",
       "    }\n",
       "</style>\n",
       "<table border=\"1\" class=\"dataframe\">\n",
       "  <thead>\n",
       "    <tr style=\"text-align: right;\">\n",
       "      <th></th>\n",
       "      <th>Job_Title</th>\n",
       "      <th>Company</th>\n",
       "      <th>Description</th>\n",
       "      <th>Location</th>\n",
       "      <th>Salary_Min</th>\n",
       "      <th>Salary_Max</th>\n",
       "      <th>Date_Posted</th>\n",
       "      <th>URL</th>\n",
       "      <th>is_Senior_SE</th>\n",
       "    </tr>\n",
       "  </thead>\n",
       "  <tbody>\n",
       "    <tr>\n",
       "      <th>4</th>\n",
       "      <td>Senior Software Engineer</td>\n",
       "      <td>Innova</td>\n",
       "      <td>A client of Innova Solutions is immediately hi...</td>\n",
       "      <td>Richardson, Dallas</td>\n",
       "      <td>121932.35</td>\n",
       "      <td>121932.35</td>\n",
       "      <td>2024-11-15</td>\n",
       "      <td>https://www.adzuna.com/details/4940271538?utm_...</td>\n",
       "      <td>1</td>\n",
       "    </tr>\n",
       "    <tr>\n",
       "      <th>434</th>\n",
       "      <td>Senior Software Engineer</td>\n",
       "      <td>Komodo Co., Ltd.</td>\n",
       "      <td>About KOMODO KOMODO works on products that sha...</td>\n",
       "      <td>Honolulu, Hawaii</td>\n",
       "      <td>167803.20</td>\n",
       "      <td>167803.20</td>\n",
       "      <td>2024-01-03</td>\n",
       "      <td>https://www.adzuna.com/details/4508854608?utm_...</td>\n",
       "      <td>1</td>\n",
       "    </tr>\n",
       "    <tr>\n",
       "      <th>436</th>\n",
       "      <td>Senior Software Engineer</td>\n",
       "      <td>Tech Firefly</td>\n",
       "      <td>Tech Firefly is teaming up with a deep learnin...</td>\n",
       "      <td>US</td>\n",
       "      <td>170000.00</td>\n",
       "      <td>220000.00</td>\n",
       "      <td>2024-03-01</td>\n",
       "      <td>https://www.adzuna.com/details/4588945381?utm_...</td>\n",
       "      <td>1</td>\n",
       "    </tr>\n",
       "    <tr>\n",
       "      <th>439</th>\n",
       "      <td>Senior Software Engineer</td>\n",
       "      <td>GrowthBook</td>\n",
       "      <td>About GrowthBook At GrowthBook, we are buildin...</td>\n",
       "      <td>Palo Alto, Santa Clara County</td>\n",
       "      <td>174824.69</td>\n",
       "      <td>174824.69</td>\n",
       "      <td>2023-11-14</td>\n",
       "      <td>https://www.adzuna.com/details/4433358852?utm_...</td>\n",
       "      <td>1</td>\n",
       "    </tr>\n",
       "    <tr>\n",
       "      <th>440</th>\n",
       "      <td>Senior Software Engineer</td>\n",
       "      <td>Aviture</td>\n",
       "      <td>What is Aviture? Aviture provides custom softw...</td>\n",
       "      <td>Omaha, Douglas County</td>\n",
       "      <td>147484.70</td>\n",
       "      <td>147484.70</td>\n",
       "      <td>2023-12-26</td>\n",
       "      <td>https://www.adzuna.com/details/4497539636?utm_...</td>\n",
       "      <td>1</td>\n",
       "    </tr>\n",
       "    <tr>\n",
       "      <th>...</th>\n",
       "      <td>...</td>\n",
       "      <td>...</td>\n",
       "      <td>...</td>\n",
       "      <td>...</td>\n",
       "      <td>...</td>\n",
       "      <td>...</td>\n",
       "      <td>...</td>\n",
       "      <td>...</td>\n",
       "      <td>...</td>\n",
       "    </tr>\n",
       "    <tr>\n",
       "      <th>1485</th>\n",
       "      <td>Senior Software Engineer</td>\n",
       "      <td>Antares</td>\n",
       "      <td>About Us At Antares, our long-term mission is ...</td>\n",
       "      <td>Los Angeles, Los Angeles County</td>\n",
       "      <td>175634.50</td>\n",
       "      <td>175634.50</td>\n",
       "      <td>2024-08-01</td>\n",
       "      <td>https://www.adzuna.com/details/4805420051?utm_...</td>\n",
       "      <td>1</td>\n",
       "    </tr>\n",
       "    <tr>\n",
       "      <th>1488</th>\n",
       "      <td>Senior Software Engineer</td>\n",
       "      <td>Ludus</td>\n",
       "      <td>Senior Software Engineer We are looking for a ...</td>\n",
       "      <td>US</td>\n",
       "      <td>130.00</td>\n",
       "      <td>150.00</td>\n",
       "      <td>2024-11-16</td>\n",
       "      <td>https://www.adzuna.com/details/4941323191?utm_...</td>\n",
       "      <td>1</td>\n",
       "    </tr>\n",
       "    <tr>\n",
       "      <th>1490</th>\n",
       "      <td>Senior Software Engineer</td>\n",
       "      <td>The Walt Disney Company</td>\n",
       "      <td>Job Posting Title: Senior Software Engineer Re...</td>\n",
       "      <td>San Francisco, California</td>\n",
       "      <td>149000.00</td>\n",
       "      <td>199800.00</td>\n",
       "      <td>2024-09-22</td>\n",
       "      <td>https://www.adzuna.com/details/4872599438?utm_...</td>\n",
       "      <td>1</td>\n",
       "    </tr>\n",
       "    <tr>\n",
       "      <th>1493</th>\n",
       "      <td>Senior Software Engineer</td>\n",
       "      <td>Parsons Technical Services</td>\n",
       "      <td>In a world of possibilities, pursue one with e...</td>\n",
       "      <td>Colorado Springs, El Paso County</td>\n",
       "      <td>104200.00</td>\n",
       "      <td>182400.00</td>\n",
       "      <td>2024-09-30</td>\n",
       "      <td>https://www.adzuna.com/details/4882015618?utm_...</td>\n",
       "      <td>1</td>\n",
       "    </tr>\n",
       "    <tr>\n",
       "      <th>1496</th>\n",
       "      <td>Senior Software Engineer</td>\n",
       "      <td>Mercer Advisors</td>\n",
       "      <td>Why Work at Mercer Advisors? For nearly 40 yea...</td>\n",
       "      <td>US</td>\n",
       "      <td>116398.38</td>\n",
       "      <td>116398.38</td>\n",
       "      <td>2024-11-15</td>\n",
       "      <td>https://www.adzuna.com/details/4940191173?utm_...</td>\n",
       "      <td>1</td>\n",
       "    </tr>\n",
       "  </tbody>\n",
       "</table>\n",
       "<p>173 rows × 9 columns</p>\n",
       "</div>"
      ],
      "text/plain": [
       "                     Job_Title                     Company  \\\n",
       "4     Senior Software Engineer                      Innova   \n",
       "434   Senior Software Engineer            Komodo Co., Ltd.   \n",
       "436   Senior Software Engineer                Tech Firefly   \n",
       "439   Senior Software Engineer                  GrowthBook   \n",
       "440   Senior Software Engineer                     Aviture   \n",
       "...                        ...                         ...   \n",
       "1485  Senior Software Engineer                     Antares   \n",
       "1488  Senior Software Engineer                       Ludus   \n",
       "1490  Senior Software Engineer     The Walt Disney Company   \n",
       "1493  Senior Software Engineer  Parsons Technical Services   \n",
       "1496  Senior Software Engineer             Mercer Advisors   \n",
       "\n",
       "                                            Description  \\\n",
       "4     A client of Innova Solutions is immediately hi...   \n",
       "434   About KOMODO KOMODO works on products that sha...   \n",
       "436   Tech Firefly is teaming up with a deep learnin...   \n",
       "439   About GrowthBook At GrowthBook, we are buildin...   \n",
       "440   What is Aviture? Aviture provides custom softw...   \n",
       "...                                                 ...   \n",
       "1485  About Us At Antares, our long-term mission is ...   \n",
       "1488  Senior Software Engineer We are looking for a ...   \n",
       "1490  Job Posting Title: Senior Software Engineer Re...   \n",
       "1493  In a world of possibilities, pursue one with e...   \n",
       "1496  Why Work at Mercer Advisors? For nearly 40 yea...   \n",
       "\n",
       "                              Location  Salary_Min  Salary_Max Date_Posted  \\\n",
       "4                   Richardson, Dallas   121932.35   121932.35  2024-11-15   \n",
       "434                   Honolulu, Hawaii   167803.20   167803.20  2024-01-03   \n",
       "436                                 US   170000.00   220000.00  2024-03-01   \n",
       "439      Palo Alto, Santa Clara County   174824.69   174824.69  2023-11-14   \n",
       "440              Omaha, Douglas County   147484.70   147484.70  2023-12-26   \n",
       "...                                ...         ...         ...         ...   \n",
       "1485   Los Angeles, Los Angeles County   175634.50   175634.50  2024-08-01   \n",
       "1488                                US      130.00      150.00  2024-11-16   \n",
       "1490         San Francisco, California   149000.00   199800.00  2024-09-22   \n",
       "1493  Colorado Springs, El Paso County   104200.00   182400.00  2024-09-30   \n",
       "1496                                US   116398.38   116398.38  2024-11-15   \n",
       "\n",
       "                                                    URL  is_Senior_SE  \n",
       "4     https://www.adzuna.com/details/4940271538?utm_...             1  \n",
       "434   https://www.adzuna.com/details/4508854608?utm_...             1  \n",
       "436   https://www.adzuna.com/details/4588945381?utm_...             1  \n",
       "439   https://www.adzuna.com/details/4433358852?utm_...             1  \n",
       "440   https://www.adzuna.com/details/4497539636?utm_...             1  \n",
       "...                                                 ...           ...  \n",
       "1485  https://www.adzuna.com/details/4805420051?utm_...             1  \n",
       "1488  https://www.adzuna.com/details/4941323191?utm_...             1  \n",
       "1490  https://www.adzuna.com/details/4872599438?utm_...             1  \n",
       "1493  https://www.adzuna.com/details/4882015618?utm_...             1  \n",
       "1496  https://www.adzuna.com/details/4940191173?utm_...             1  \n",
       "\n",
       "[173 rows x 9 columns]"
      ]
     },
     "execution_count": 11,
     "metadata": {},
     "output_type": "execute_result"
    }
   ],
   "source": [
    "df[df['is_Senior_SE'] > 0]"
   ]
  },
  {
   "cell_type": "markdown",
   "metadata": {},
   "source": [
    "## Eliminare Dati\n",
    "\n",
    "* Usa `drop()` se vuoi **eliminare** (cancellare) una **colonna** o una **riga** dal tuo DataFrame.\n",
    "* La sintassi è:\n",
    "\n",
    "    * Eliminare una colonna:  \n",
    "      ```python\n",
    "      df.drop('nome_colonna', axis=1)\n",
    "      ```\n",
    "\n",
    "    * Eliminare una riga:  \n",
    "      ```python\n",
    "      df.drop(indice, axis=0)\n",
    "      ```\n",
    "\n",
    "* Se vuoi eliminare più elementi:\n",
    "\n",
    "    * Eliminare più colonne:  \n",
    "      ```python\n",
    "      df.drop(['colonna1', 'colonna2'], axis=1)\n",
    "      ```\n",
    "\n",
    "    * Eliminare più righe:  \n",
    "      ```python\n",
    "      df.drop([indice1, indice2], axis=0)\n",
    "      ```\n",
    "\n",
    "---\n",
    "\n",
    "### Esempio\n",
    "\n",
    "Eliminiamo la colonna `'URL'`.  \n",
    "Poiché stiamo eliminando una **colonna**, useremo `axis=1`:\n"
   ]
  },
  {
   "cell_type": "code",
   "execution_count": 12,
   "metadata": {},
   "outputs": [
    {
     "name": "stdout",
     "output_type": "stream",
     "text": [
      "<class 'pandas.core.frame.DataFrame'>\n",
      "RangeIndex: 11185 entries, 0 to 11184\n",
      "Data columns (total 9 columns):\n",
      " #   Column        Non-Null Count  Dtype  \n",
      "---  ------        --------------  -----  \n",
      " 0   Job_Title     11185 non-null  object \n",
      " 1   Company       11181 non-null  object \n",
      " 2   Description   11185 non-null  object \n",
      " 3   Location      11185 non-null  object \n",
      " 4   Salary_Min    11185 non-null  float64\n",
      " 5   Salary_Max    11179 non-null  float64\n",
      " 6   Date_Posted   11185 non-null  object \n",
      " 7   URL           11185 non-null  object \n",
      " 8   is_Senior_SE  11185 non-null  int64  \n",
      "dtypes: float64(2), int64(1), object(6)\n",
      "memory usage: 786.6+ KB\n"
     ]
    }
   ],
   "source": [
    "df.info()"
   ]
  },
  {
   "cell_type": "code",
   "execution_count": 14,
   "metadata": {},
   "outputs": [
    {
     "name": "stdout",
     "output_type": "stream",
     "text": [
      "<class 'pandas.core.frame.DataFrame'>\n",
      "RangeIndex: 11185 entries, 0 to 11184\n",
      "Data columns (total 8 columns):\n",
      " #   Column        Non-Null Count  Dtype  \n",
      "---  ------        --------------  -----  \n",
      " 0   Job_Title     11185 non-null  object \n",
      " 1   Company       11181 non-null  object \n",
      " 2   Description   11185 non-null  object \n",
      " 3   Location      11185 non-null  object \n",
      " 4   Salary_Min    11185 non-null  float64\n",
      " 5   Salary_Max    11179 non-null  float64\n",
      " 6   Date_Posted   11185 non-null  object \n",
      " 7   is_Senior_SE  11185 non-null  int64  \n",
      "dtypes: float64(2), int64(1), object(5)\n",
      "memory usage: 699.2+ KB\n"
     ]
    }
   ],
   "source": [
    "df.drop('URL', axis = 1, inplace=True)\n",
    "df.info()"
   ]
  },
  {
   "cell_type": "markdown",
   "metadata": {},
   "source": [
    "## Rimuovere Valori NA\n",
    "\n",
    "* Per rimuovere le righe che contengono celle vuote (NaN), usa `dropna()`.\n",
    "* Per default, `dropna()` restituisce un **nuovo DataFrame** e **non modifica** quello originale.\n",
    "* Se vuoi che dropna() modifichi direttamente il DataFrame originale, devi usare il parametro `inplace=True`\n",
    "\n",
    "### Esempio\n",
    "\n",
    "Ripuliamo la colonna `Salary_Max` rimuovendo le righe che hanno valori `NaN` in questa colonna:"
   ]
  },
  {
   "cell_type": "code",
   "execution_count": null,
   "metadata": {},
   "outputs": [],
   "source": [
    "df.dropna(subset=['Salary_Max'], inplace=True)"
   ]
  },
  {
   "cell_type": "markdown",
   "metadata": {},
   "source": [
    "## Ordinamento dei Valori\n",
    "\n",
    "* `sort_values()` ordina un DataFrame o una specifica colonna in ordine crescente o decrescente, basandosi su una o più colonne.\n",
    "* Di solito si usa per ordinare secondo una colonna specifica.\n",
    "\n",
    "### Parametri:\n",
    "* `by` - nome della colonna (o lista di colonne) su cui basare l’ordinamento.\n",
    "* `ascending` - booleano o lista di booleani. Di default è `True` (ordine crescente). Per ordinare in modo decrescente, si usa `False`.\n",
    "* `inplace` - se `True`, modifica il DataFrame originale; altrimenti restituisce uno nuovo.\n",
    "\n",
    "### Esempio\n",
    "\n",
    "Ordiniamo il nostro DataFrame secondo la colonna `Date_Posted` in ordine decrescente (dalla data più recente alla meno recente).\n"
   ]
  },
  {
   "cell_type": "code",
   "execution_count": 15,
   "metadata": {},
   "outputs": [
    {
     "data": {
      "text/html": [
       "<div>\n",
       "<style scoped>\n",
       "    .dataframe tbody tr th:only-of-type {\n",
       "        vertical-align: middle;\n",
       "    }\n",
       "\n",
       "    .dataframe tbody tr th {\n",
       "        vertical-align: top;\n",
       "    }\n",
       "\n",
       "    .dataframe thead th {\n",
       "        text-align: right;\n",
       "    }\n",
       "</style>\n",
       "<table border=\"1\" class=\"dataframe\">\n",
       "  <thead>\n",
       "    <tr style=\"text-align: right;\">\n",
       "      <th></th>\n",
       "      <th>Job_Title</th>\n",
       "      <th>Company</th>\n",
       "      <th>Description</th>\n",
       "      <th>Location</th>\n",
       "      <th>Salary_Min</th>\n",
       "      <th>Salary_Max</th>\n",
       "      <th>Date_Posted</th>\n",
       "      <th>is_Senior_SE</th>\n",
       "    </tr>\n",
       "  </thead>\n",
       "  <tbody>\n",
       "    <tr>\n",
       "      <th>7998</th>\n",
       "      <td>Lead Cloud Platform Engineer</td>\n",
       "      <td>Alcority</td>\n",
       "      <td>Join our team as a Lead Cloud Platform Enginee...</td>\n",
       "      <td>Dallas, Texas</td>\n",
       "      <td>116233.99</td>\n",
       "      <td>116233.99</td>\n",
       "      <td>2024-11-24</td>\n",
       "      <td>0</td>\n",
       "    </tr>\n",
       "    <tr>\n",
       "      <th>8551</th>\n",
       "      <td>Site Reliability Engineer III</td>\n",
       "      <td>JPMorgan Chase Bank, N.A.</td>\n",
       "      <td>There's nothing more exciting than being at th...</td>\n",
       "      <td>Wilmington, New Castle County</td>\n",
       "      <td>151640.22</td>\n",
       "      <td>151640.22</td>\n",
       "      <td>2024-11-24</td>\n",
       "      <td>0</td>\n",
       "    </tr>\n",
       "    <tr>\n",
       "      <th>8552</th>\n",
       "      <td>Lead Site Reliability Engineer</td>\n",
       "      <td>JPMorgan Chase Bank, N.A.</td>\n",
       "      <td>Assume a critical role in defining the future ...</td>\n",
       "      <td>Wilmington, New Castle County</td>\n",
       "      <td>145009.69</td>\n",
       "      <td>145009.69</td>\n",
       "      <td>2024-11-24</td>\n",
       "      <td>0</td>\n",
       "    </tr>\n",
       "    <tr>\n",
       "      <th>9255</th>\n",
       "      <td>Operational Technology Cyber Security Engineer...</td>\n",
       "      <td>Georgia Power Company</td>\n",
       "      <td>Description POSITION SUMMARY Southern Company ...</td>\n",
       "      <td>Birmingham, Jefferson County</td>\n",
       "      <td>84523.97</td>\n",
       "      <td>84523.97</td>\n",
       "      <td>2024-11-24</td>\n",
       "      <td>0</td>\n",
       "    </tr>\n",
       "    <tr>\n",
       "      <th>9256</th>\n",
       "      <td>Senior Security Engineer, Tool Implementation ...</td>\n",
       "      <td>HubSpot</td>\n",
       "      <td>POS-15530 Job Overview: We are seeking a Senio...</td>\n",
       "      <td>Boston, Suffolk County</td>\n",
       "      <td>129529.22</td>\n",
       "      <td>129529.22</td>\n",
       "      <td>2024-11-24</td>\n",
       "      <td>0</td>\n",
       "    </tr>\n",
       "    <tr>\n",
       "      <th>...</th>\n",
       "      <td>...</td>\n",
       "      <td>...</td>\n",
       "      <td>...</td>\n",
       "      <td>...</td>\n",
       "      <td>...</td>\n",
       "      <td>...</td>\n",
       "      <td>...</td>\n",
       "      <td>...</td>\n",
       "    </tr>\n",
       "    <tr>\n",
       "      <th>5840</th>\n",
       "      <td>Business Analyst in New York eg</td>\n",
       "      <td>ESR Healthcare</td>\n",
       "      <td>Business Analyst in New York eg New York, NY J...</td>\n",
       "      <td>New York City, New York</td>\n",
       "      <td>70637.84</td>\n",
       "      <td>70637.84</td>\n",
       "      <td>2019-11-02</td>\n",
       "      <td>0</td>\n",
       "    </tr>\n",
       "    <tr>\n",
       "      <th>10279</th>\n",
       "      <td>Embedded Software Engineer – Sensors – Electri...</td>\n",
       "      <td>Avanti</td>\n",
       "      <td>Why is This a Great Opportunity? We are lookin...</td>\n",
       "      <td>US</td>\n",
       "      <td>110000.00</td>\n",
       "      <td>120000.00</td>\n",
       "      <td>2019-08-19</td>\n",
       "      <td>0</td>\n",
       "    </tr>\n",
       "    <tr>\n",
       "      <th>7296</th>\n",
       "      <td>DevOps Engineer</td>\n",
       "      <td>Roy Talman &amp; Associates</td>\n",
       "      <td>We are looking for a DevOps Engineer for our C...</td>\n",
       "      <td>West Loop, Chicago</td>\n",
       "      <td>138781.27</td>\n",
       "      <td>138781.27</td>\n",
       "      <td>2019-06-19</td>\n",
       "      <td>0</td>\n",
       "    </tr>\n",
       "    <tr>\n",
       "      <th>1028</th>\n",
       "      <td>Backend Software Engineer</td>\n",
       "      <td>Roy Talman &amp; Associates</td>\n",
       "      <td>We are actively looking for a creative, talent...</td>\n",
       "      <td>Westmont, DuPage County</td>\n",
       "      <td>113766.23</td>\n",
       "      <td>113766.23</td>\n",
       "      <td>2019-06-19</td>\n",
       "      <td>0</td>\n",
       "    </tr>\n",
       "    <tr>\n",
       "      <th>1029</th>\n",
       "      <td>CryptoCurrency- Software Engineer</td>\n",
       "      <td>Roy Talman &amp; Associates</td>\n",
       "      <td>Rapidly growing proprietary international trad...</td>\n",
       "      <td>West Loop, Chicago</td>\n",
       "      <td>117745.63</td>\n",
       "      <td>117745.63</td>\n",
       "      <td>2019-06-19</td>\n",
       "      <td>0</td>\n",
       "    </tr>\n",
       "  </tbody>\n",
       "</table>\n",
       "<p>11185 rows × 8 columns</p>\n",
       "</div>"
      ],
      "text/plain": [
       "                                               Job_Title  \\\n",
       "7998                        Lead Cloud Platform Engineer   \n",
       "8551                       Site Reliability Engineer III   \n",
       "8552                      Lead Site Reliability Engineer   \n",
       "9255   Operational Technology Cyber Security Engineer...   \n",
       "9256   Senior Security Engineer, Tool Implementation ...   \n",
       "...                                                  ...   \n",
       "5840                     Business Analyst in New York eg   \n",
       "10279  Embedded Software Engineer – Sensors – Electri...   \n",
       "7296                                     DevOps Engineer   \n",
       "1028                           Backend Software Engineer   \n",
       "1029                   CryptoCurrency- Software Engineer   \n",
       "\n",
       "                         Company  \\\n",
       "7998                    Alcority   \n",
       "8551   JPMorgan Chase Bank, N.A.   \n",
       "8552   JPMorgan Chase Bank, N.A.   \n",
       "9255       Georgia Power Company   \n",
       "9256                     HubSpot   \n",
       "...                          ...   \n",
       "5840              ESR Healthcare   \n",
       "10279                     Avanti   \n",
       "7296     Roy Talman & Associates   \n",
       "1028     Roy Talman & Associates   \n",
       "1029     Roy Talman & Associates   \n",
       "\n",
       "                                             Description  \\\n",
       "7998   Join our team as a Lead Cloud Platform Enginee...   \n",
       "8551   There's nothing more exciting than being at th...   \n",
       "8552   Assume a critical role in defining the future ...   \n",
       "9255   Description POSITION SUMMARY Southern Company ...   \n",
       "9256   POS-15530 Job Overview: We are seeking a Senio...   \n",
       "...                                                  ...   \n",
       "5840   Business Analyst in New York eg New York, NY J...   \n",
       "10279  Why is This a Great Opportunity? We are lookin...   \n",
       "7296   We are looking for a DevOps Engineer for our C...   \n",
       "1028   We are actively looking for a creative, talent...   \n",
       "1029   Rapidly growing proprietary international trad...   \n",
       "\n",
       "                            Location  Salary_Min  Salary_Max Date_Posted  \\\n",
       "7998                   Dallas, Texas   116233.99   116233.99  2024-11-24   \n",
       "8551   Wilmington, New Castle County   151640.22   151640.22  2024-11-24   \n",
       "8552   Wilmington, New Castle County   145009.69   145009.69  2024-11-24   \n",
       "9255    Birmingham, Jefferson County    84523.97    84523.97  2024-11-24   \n",
       "9256          Boston, Suffolk County   129529.22   129529.22  2024-11-24   \n",
       "...                              ...         ...         ...         ...   \n",
       "5840         New York City, New York    70637.84    70637.84  2019-11-02   \n",
       "10279                             US   110000.00   120000.00  2019-08-19   \n",
       "7296              West Loop, Chicago   138781.27   138781.27  2019-06-19   \n",
       "1028         Westmont, DuPage County   113766.23   113766.23  2019-06-19   \n",
       "1029              West Loop, Chicago   117745.63   117745.63  2019-06-19   \n",
       "\n",
       "       is_Senior_SE  \n",
       "7998              0  \n",
       "8551              0  \n",
       "8552              0  \n",
       "9255              0  \n",
       "9256              0  \n",
       "...             ...  \n",
       "5840              0  \n",
       "10279             0  \n",
       "7296              0  \n",
       "1028              0  \n",
       "1029              0  \n",
       "\n",
       "[11185 rows x 8 columns]"
      ]
     },
     "execution_count": 15,
     "metadata": {},
     "output_type": "execute_result"
    }
   ],
   "source": [
    "df.sort_values(by='Date_Posted', ascending=False, inplace=True)\n",
    "df"
   ]
  },
  {
   "cell_type": "markdown",
   "metadata": {},
   "source": [
    "# Data Analysis con Pandas "
   ]
  },
  {
   "cell_type": "markdown",
   "metadata": {},
   "source": [
    "## Statistica Descrittiva"
   ]
  },
  {
   "cell_type": "markdown",
   "metadata": {},
   "source": [
    "### Describe()\n",
    "\n",
    "Per ottenere una panoramica di base utilizziamo dinuovo `describe()`.\n",
    "\n",
    "* Restituisce le seguenti statistiche (per le colonne con dati numerici):\n",
    "  * count (numero di valori non nulli)\n",
    "  * mean (media)\n",
    "  * std (deviazione standard)\n",
    "  * min (valore minimo)\n",
    "  * max (valore massimo)\n",
    "* Ottimo per avere una **visione rapida** delle statistiche fondamentali della tabella.\n",
    "* Ignora automaticamente i valori `NaN`.\n",
    "\n",
    "#### Esempio\n",
    "\n",
    "Utilizziamo `describe()` sul nostro DataFrame:\n",
    "\n",
    "```python\n",
    "df.describe()\n"
   ]
  },
  {
   "cell_type": "code",
   "execution_count": 16,
   "metadata": {},
   "outputs": [
    {
     "data": {
      "text/html": [
       "<div>\n",
       "<style scoped>\n",
       "    .dataframe tbody tr th:only-of-type {\n",
       "        vertical-align: middle;\n",
       "    }\n",
       "\n",
       "    .dataframe tbody tr th {\n",
       "        vertical-align: top;\n",
       "    }\n",
       "\n",
       "    .dataframe thead th {\n",
       "        text-align: right;\n",
       "    }\n",
       "</style>\n",
       "<table border=\"1\" class=\"dataframe\">\n",
       "  <thead>\n",
       "    <tr style=\"text-align: right;\">\n",
       "      <th></th>\n",
       "      <th>Salary_Min</th>\n",
       "      <th>Salary_Max</th>\n",
       "      <th>is_Senior_SE</th>\n",
       "    </tr>\n",
       "  </thead>\n",
       "  <tbody>\n",
       "    <tr>\n",
       "      <th>count</th>\n",
       "      <td>11185.000000</td>\n",
       "      <td>11179.000000</td>\n",
       "      <td>11185.000000</td>\n",
       "    </tr>\n",
       "    <tr>\n",
       "      <th>mean</th>\n",
       "      <td>110393.745941</td>\n",
       "      <td>123339.933299</td>\n",
       "      <td>0.015467</td>\n",
       "    </tr>\n",
       "    <tr>\n",
       "      <th>std</th>\n",
       "      <td>40847.621742</td>\n",
       "      <td>55571.000358</td>\n",
       "      <td>0.123407</td>\n",
       "    </tr>\n",
       "    <tr>\n",
       "      <th>min</th>\n",
       "      <td>0.000000</td>\n",
       "      <td>1.000000</td>\n",
       "      <td>0.000000</td>\n",
       "    </tr>\n",
       "    <tr>\n",
       "      <th>25%</th>\n",
       "      <td>83130.580000</td>\n",
       "      <td>85820.280000</td>\n",
       "      <td>0.000000</td>\n",
       "    </tr>\n",
       "    <tr>\n",
       "      <th>50%</th>\n",
       "      <td>105012.470000</td>\n",
       "      <td>113068.150000</td>\n",
       "      <td>0.000000</td>\n",
       "    </tr>\n",
       "    <tr>\n",
       "      <th>75%</th>\n",
       "      <td>133000.000000</td>\n",
       "      <td>147635.980000</td>\n",
       "      <td>0.000000</td>\n",
       "    </tr>\n",
       "    <tr>\n",
       "      <th>max</th>\n",
       "      <td>550000.000000</td>\n",
       "      <td>809123.000000</td>\n",
       "      <td>1.000000</td>\n",
       "    </tr>\n",
       "  </tbody>\n",
       "</table>\n",
       "</div>"
      ],
      "text/plain": [
       "          Salary_Min     Salary_Max  is_Senior_SE\n",
       "count   11185.000000   11179.000000  11185.000000\n",
       "mean   110393.745941  123339.933299      0.015467\n",
       "std     40847.621742   55571.000358      0.123407\n",
       "min         0.000000       1.000000      0.000000\n",
       "25%     83130.580000   85820.280000      0.000000\n",
       "50%    105012.470000  113068.150000      0.000000\n",
       "75%    133000.000000  147635.980000      0.000000\n",
       "max    550000.000000  809123.000000      1.000000"
      ]
     },
     "execution_count": 16,
     "metadata": {},
     "output_type": "execute_result"
    }
   ],
   "source": [
    "df.describe()"
   ]
  },
  {
   "cell_type": "markdown",
   "metadata": {},
   "source": [
    "Puoi anche usare `describe()` su singole colonne.  \n",
    "Se ad esempio volessimo analizzare solo la colonna `salary_year_avg`, useremmo:"
   ]
  },
  {
   "cell_type": "code",
   "execution_count": 17,
   "metadata": {},
   "outputs": [
    {
     "data": {
      "text/plain": [
       "count     11185.000000\n",
       "mean     110393.745941\n",
       "std       40847.621742\n",
       "min           0.000000\n",
       "25%       83130.580000\n",
       "50%      105012.470000\n",
       "75%      133000.000000\n",
       "max      550000.000000\n",
       "Name: Salary_Min, dtype: float64"
      ]
     },
     "execution_count": 17,
     "metadata": {},
     "output_type": "execute_result"
    }
   ],
   "source": [
    "df['Salary_Min'].describe()"
   ]
  },
  {
   "cell_type": "markdown",
   "metadata": {},
   "source": [
    "### Metodi Comuni di Analisi dei Dati\n",
    "\n",
    "Esistono anche altri metodi molto utili, come:\n",
    "\n",
    "* `df.sum()` – Somma dei valori\n",
    "* `df.cumsum()` – Somma cumulativa dei valori\n",
    "* `df.min()` / `df.max()` – Valori minimi / massimi\n",
    "* `df.idxmin()` / `df.idxmax()` – Indici dei valori minimo / massimo\n",
    "* `df.mean()` – Media dei valori\n",
    "* `df.median()` – Mediana dei valori\n",
    "* `df.mode()` – Moda dei valori\n",
    "* `series.value_counts()` – Conteggio dei valori unici all'interno di una **Series** (cioè una colonna)\n",
    "    * Tipicamente usato per contare le **occorrenze uniche** in una singola colonna.\n",
    "    * Non si applica direttamente a un intero DataFrame senza specificare la colonna.\n",
    "\n",
    "* A seconda del metodo, può essere applicato **direttamente al DataFrame o a una Series**.\n",
    "\n",
    "---\n",
    "\n",
    "#### Esempio\n",
    "\n",
    "Vediamo il conteggio dei valori in ogni colonna del DataFrame:\n"
   ]
  },
  {
   "cell_type": "code",
   "execution_count": 18,
   "metadata": {},
   "outputs": [
    {
     "data": {
      "text/plain": [
       "Job_Title       11185\n",
       "Company         11181\n",
       "Description     11185\n",
       "Location        11185\n",
       "Salary_Min      11185\n",
       "Salary_Max      11179\n",
       "Date_Posted     11185\n",
       "is_Senior_SE    11185\n",
       "dtype: int64"
      ]
     },
     "execution_count": 18,
     "metadata": {},
     "output_type": "execute_result"
    }
   ],
   "source": [
    "df.count()"
   ]
  },
  {
   "cell_type": "markdown",
   "metadata": {},
   "source": [
    "Questo è utile per ottenere una panoramica generale del DataFrame,  \n",
    "ma al momento **non ci serve molto**.\n",
    "\n",
    "Procediamo invece con alcuni **conteggi su colonne specifiche**:\n"
   ]
  },
  {
   "cell_type": "code",
   "execution_count": 19,
   "metadata": {},
   "outputs": [
    {
     "data": {
      "text/plain": [
       "0.0"
      ]
     },
     "execution_count": 19,
     "metadata": {},
     "output_type": "execute_result"
    }
   ],
   "source": [
    "df['Salary_Min'].min()"
   ]
  },
  {
   "cell_type": "markdown",
   "metadata": {},
   "source": [
    "Ora andiamo a ottenere **l'indice del valore minimo** nella colonna `Salary_Min`."
   ]
  },
  {
   "cell_type": "code",
   "execution_count": 20,
   "metadata": {},
   "outputs": [
    {
     "data": {
      "text/plain": [
       "np.int64(10982)"
      ]
     },
     "execution_count": 20,
     "metadata": {},
     "output_type": "execute_result"
    }
   ],
   "source": [
    "df['Salary_Min'].idxmin()"
   ]
  },
  {
   "cell_type": "code",
   "execution_count": 21,
   "metadata": {},
   "outputs": [
    {
     "data": {
      "text/plain": [
       "Job_Title                                       Software Engineer\n",
       "Company                                   ISYS Technologies, Inc.\n",
       "Description     Top Secret SCI I2X Technologies is a reputable...\n",
       "Location                    Eglin Air Force Base, Okaloosa County\n",
       "Salary_Min                                               91542.15\n",
       "Salary_Max                                               91542.15\n",
       "Date_Posted                                            2023-11-10\n",
       "is_Senior_SE                                                    0\n",
       "Name: 586, dtype: object"
      ]
     },
     "execution_count": 21,
     "metadata": {},
     "output_type": "execute_result"
    }
   ],
   "source": [
    "df.iloc[10982]"
   ]
  },
  {
   "cell_type": "code",
   "execution_count": 22,
   "metadata": {},
   "outputs": [
    {
     "data": {
      "text/plain": [
       "Job_Title                      Senior Solutions Architect, Retail\n",
       "Company                                                Nvidia Usa\n",
       "Description     Interested in developing innovative NVIDIA AI ...\n",
       "Location                                             Arkansas, US\n",
       "Salary_Min                                                    0.0\n",
       "Salary_Max                                               339250.0\n",
       "Date_Posted                                            2024-11-24\n",
       "is_Senior_SE                                                    0\n",
       "Name: 10982, dtype: object"
      ]
     },
     "execution_count": 22,
     "metadata": {},
     "output_type": "execute_result"
    }
   ],
   "source": [
    "df.loc[10982]"
   ]
  },
  {
   "cell_type": "code",
   "execution_count": 23,
   "metadata": {},
   "outputs": [
    {
     "data": {
      "text/plain": [
       "0    100000.0\n",
       "Name: Salary_Min, dtype: float64"
      ]
     },
     "execution_count": 23,
     "metadata": {},
     "output_type": "execute_result"
    }
   ],
   "source": [
    "df['Salary_Min'].mode()"
   ]
  },
  {
   "cell_type": "markdown",
   "metadata": {},
   "source": [
    "E per sapere i titoli di lavoro unici e quante volte ciascuno appare?"
   ]
  },
  {
   "cell_type": "code",
   "execution_count": 24,
   "metadata": {},
   "outputs": [
    {
     "data": {
      "text/plain": [
       "Job_Title\n",
       "Software Engineer                                                     311\n",
       "Product Manager  Social app startup                                   282\n",
       "Associate Product Manager  Social app startup                         277\n",
       "2025 Virtual Summer Intern Program - Product Analyst Intern (Xome)    267\n",
       "Real-Time Software Engineer                                           266\n",
       "                                                                     ... \n",
       "Senior Product Manager, Observability and Reliability                   1\n",
       "Annuity Product Manager                                                 1\n",
       "Business Analyst - CCR XVA - Vice President                             1\n",
       "Commercial Product Manager, Immunology                                  1\n",
       "CryptoCurrency- Software Engineer                                       1\n",
       "Name: count, Length: 4848, dtype: int64"
      ]
     },
     "execution_count": 24,
     "metadata": {},
     "output_type": "execute_result"
    }
   ],
   "source": [
    "df['Job_Title'].value_counts()"
   ]
  },
  {
   "cell_type": "markdown",
   "metadata": {},
   "source": [
    "Restituisce una Series ordinata con:\n",
    "\n",
    "* i valori unici della colonna Job_Title\n",
    "\n",
    "* e il numero di occorrenze per ciascun valore\n",
    "\n"
   ]
  },
  {
   "cell_type": "markdown",
   "metadata": {},
   "source": [
    "## Aggregazione"
   ]
  },
  {
   "cell_type": "markdown",
   "metadata": {},
   "source": [
    "### Groupby()\n",
    "\n",
    "* Usa `groupby` per **raggruppare il DataFrame** in base ai valori unici di una colonna specifica.\n",
    "* Permette di eseguire **aggregazioni** (es. media, somma) sui dati raggruppati.\n",
    "\n",
    "La sintassi è:\n",
    "  `df.groupby(\"colonne da raggruppare\")[\"colonne da aggregare\"].metodo_che_aggrega()`\n",
    "\n",
    "#### Esempi di aggregazioni che puoi eseguire:\n",
    "\n",
    "- `mean()` – Calcola la media dei gruppi  \n",
    "- `sum()` – Somma i valori di ciascun gruppo  \n",
    "- `median()` – Trova la mediana per ogni gruppo  \n",
    "- `min()` / `max()` – Valore minimo / massimo per gruppo  \n",
    "- Conteggi:\n",
    "  * `count()` – Conta i valori **non nulli (non-NA)** per ogni gruppo  \n",
    "  * `size()` – Restituisce la **dimensione totale** del gruppo (inclusi i NaN)  \n",
    "- `std()` / `var()` – Deviazione standard e varianza  \n",
    "- `first()` / `last()` – Prima e ultima riga di ciascun gruppo  \n",
    "- `unique()` – Valori unici non-NaN per ciascun gruppo\n",
    "\n",
    "\n",
    "---\n",
    "\n",
    "#### Esempio\n",
    "\n",
    "Se vogliamo calcolare lo **stipendio minimo medio** per ogni `Job_Title`:"
   ]
  },
  {
   "cell_type": "code",
   "execution_count": 25,
   "metadata": {},
   "outputs": [
    {
     "data": {
      "text/plain": [
       "Job_Title\n",
       " Developer                                                                  116729.88\n",
       "(Hybrid) Algorithms/Video Engineer/AI/ML tech , Deep Learning framework/    116253.39\n",
       "(Marketing) Front End Developer, Full-Time, Marlboro, Hybrid                 82348.70\n",
       "(USA) Product Manager III                                                    90000.00\n",
       "(f2pool) DevOps Engineer                                                    130000.00\n",
       "                                                                              ...    \n",
       "Zuora - Solution Architect - Manager                                        129817.80\n",
       "eCommerce Product Manager                                                   120000.00\n",
       "iOS Software Engineer                                                       130000.00\n",
       "racle Cloud Financials Solution Architect                                   114549.44\n",
       "☁ Cloud HPC Engineer ☁                                                      130000.00\n",
       "Name: Salary_Min, Length: 4848, dtype: float64"
      ]
     },
     "execution_count": 25,
     "metadata": {},
     "output_type": "execute_result"
    }
   ],
   "source": [
    "df.groupby('Job_Title')['Salary_Min'].mean()"
   ]
  },
  {
   "cell_type": "code",
   "execution_count": 26,
   "metadata": {},
   "outputs": [
    {
     "data": {
      "text/plain": [
       "Job_Title\n",
       " Developer                                                                  116729.88\n",
       "(Hybrid) Algorithms/Video Engineer/AI/ML tech , Deep Learning framework/    116253.39\n",
       "(Marketing) Front End Developer, Full-Time, Marlboro, Hybrid                 82348.70\n",
       "(USA) Product Manager III                                                    90000.00\n",
       "(f2pool) DevOps Engineer                                                    130000.00\n",
       "                                                                              ...    \n",
       "Zuora - Solution Architect - Manager                                        129817.80\n",
       "eCommerce Product Manager                                                   120000.00\n",
       "iOS Software Engineer                                                       130000.00\n",
       "racle Cloud Financials Solution Architect                                   114549.44\n",
       "☁ Cloud HPC Engineer ☁                                                      130000.00\n",
       "Name: Salary_Min, Length: 4848, dtype: float64"
      ]
     },
     "execution_count": 26,
     "metadata": {},
     "output_type": "execute_result"
    }
   ],
   "source": [
    "df.groupby('Job_Title')['Salary_Min'].median()"
   ]
  },
  {
   "cell_type": "markdown",
   "metadata": {},
   "source": [
    "### Agg()\n",
    "\n",
    "* `agg()` ti permette di applicare **più funzioni di aggregazione contemporaneamente**.\n",
    "* Puoi passare:\n",
    "  - una **lista di funzioni** → per applicarle tutte a una colonna\n",
    "  - un **dizionario** → per applicare funzioni diverse a colonne diverse\n",
    "\n",
    "---\n",
    "\n",
    "#### Esempio\n",
    "\n",
    "Per ogni titolo di lavoro (`Job_Title`), otteniamo i **valori minimo, massimo e mediano** dello stipendio minimo:"
   ]
  },
  {
   "cell_type": "code",
   "execution_count": 27,
   "metadata": {},
   "outputs": [
    {
     "data": {
      "text/html": [
       "<div>\n",
       "<style scoped>\n",
       "    .dataframe tbody tr th:only-of-type {\n",
       "        vertical-align: middle;\n",
       "    }\n",
       "\n",
       "    .dataframe tbody tr th {\n",
       "        vertical-align: top;\n",
       "    }\n",
       "\n",
       "    .dataframe thead th {\n",
       "        text-align: right;\n",
       "    }\n",
       "</style>\n",
       "<table border=\"1\" class=\"dataframe\">\n",
       "  <thead>\n",
       "    <tr style=\"text-align: right;\">\n",
       "      <th></th>\n",
       "      <th>min</th>\n",
       "      <th>max</th>\n",
       "      <th>median</th>\n",
       "    </tr>\n",
       "    <tr>\n",
       "      <th>Job_Title</th>\n",
       "      <th></th>\n",
       "      <th></th>\n",
       "      <th></th>\n",
       "    </tr>\n",
       "  </thead>\n",
       "  <tbody>\n",
       "    <tr>\n",
       "      <th>Developer</th>\n",
       "      <td>116729.88</td>\n",
       "      <td>116729.88</td>\n",
       "      <td>116729.88</td>\n",
       "    </tr>\n",
       "    <tr>\n",
       "      <th>(Hybrid) Algorithms/Video Engineer/AI/ML tech , Deep Learning framework/</th>\n",
       "      <td>116253.39</td>\n",
       "      <td>116253.39</td>\n",
       "      <td>116253.39</td>\n",
       "    </tr>\n",
       "    <tr>\n",
       "      <th>(Marketing) Front End Developer, Full-Time, Marlboro, Hybrid</th>\n",
       "      <td>82348.70</td>\n",
       "      <td>82348.70</td>\n",
       "      <td>82348.70</td>\n",
       "    </tr>\n",
       "    <tr>\n",
       "      <th>(USA) Product Manager III</th>\n",
       "      <td>90000.00</td>\n",
       "      <td>90000.00</td>\n",
       "      <td>90000.00</td>\n",
       "    </tr>\n",
       "    <tr>\n",
       "      <th>(f2pool) DevOps Engineer</th>\n",
       "      <td>130000.00</td>\n",
       "      <td>130000.00</td>\n",
       "      <td>130000.00</td>\n",
       "    </tr>\n",
       "    <tr>\n",
       "      <th>...</th>\n",
       "      <td>...</td>\n",
       "      <td>...</td>\n",
       "      <td>...</td>\n",
       "    </tr>\n",
       "    <tr>\n",
       "      <th>Zuora - Solution Architect - Manager</th>\n",
       "      <td>100000.00</td>\n",
       "      <td>159635.60</td>\n",
       "      <td>129817.80</td>\n",
       "    </tr>\n",
       "    <tr>\n",
       "      <th>eCommerce Product Manager</th>\n",
       "      <td>120000.00</td>\n",
       "      <td>120000.00</td>\n",
       "      <td>120000.00</td>\n",
       "    </tr>\n",
       "    <tr>\n",
       "      <th>iOS Software Engineer</th>\n",
       "      <td>130000.00</td>\n",
       "      <td>130000.00</td>\n",
       "      <td>130000.00</td>\n",
       "    </tr>\n",
       "    <tr>\n",
       "      <th>racle Cloud Financials Solution Architect</th>\n",
       "      <td>114549.44</td>\n",
       "      <td>114549.44</td>\n",
       "      <td>114549.44</td>\n",
       "    </tr>\n",
       "    <tr>\n",
       "      <th>☁ Cloud HPC Engineer ☁</th>\n",
       "      <td>130000.00</td>\n",
       "      <td>130000.00</td>\n",
       "      <td>130000.00</td>\n",
       "    </tr>\n",
       "  </tbody>\n",
       "</table>\n",
       "<p>4848 rows × 3 columns</p>\n",
       "</div>"
      ],
      "text/plain": [
       "                                                          min        max  \\\n",
       "Job_Title                                                                  \n",
       " Developer                                          116729.88  116729.88   \n",
       "(Hybrid) Algorithms/Video Engineer/AI/ML tech ,...  116253.39  116253.39   \n",
       "(Marketing) Front End Developer, Full-Time, Mar...   82348.70   82348.70   \n",
       "(USA) Product Manager III                            90000.00   90000.00   \n",
       "(f2pool) DevOps Engineer                            130000.00  130000.00   \n",
       "...                                                       ...        ...   \n",
       "Zuora - Solution Architect - Manager                100000.00  159635.60   \n",
       "eCommerce Product Manager                           120000.00  120000.00   \n",
       "iOS Software Engineer                               130000.00  130000.00   \n",
       "racle Cloud Financials Solution Architect           114549.44  114549.44   \n",
       "☁ Cloud HPC Engineer ☁                              130000.00  130000.00   \n",
       "\n",
       "                                                       median  \n",
       "Job_Title                                                      \n",
       " Developer                                          116729.88  \n",
       "(Hybrid) Algorithms/Video Engineer/AI/ML tech ,...  116253.39  \n",
       "(Marketing) Front End Developer, Full-Time, Mar...   82348.70  \n",
       "(USA) Product Manager III                            90000.00  \n",
       "(f2pool) DevOps Engineer                            130000.00  \n",
       "...                                                       ...  \n",
       "Zuora - Solution Architect - Manager                129817.80  \n",
       "eCommerce Product Manager                           120000.00  \n",
       "iOS Software Engineer                               130000.00  \n",
       "racle Cloud Financials Solution Architect           114549.44  \n",
       "☁ Cloud HPC Engineer ☁                              130000.00  \n",
       "\n",
       "[4848 rows x 3 columns]"
      ]
     },
     "execution_count": 27,
     "metadata": {},
     "output_type": "execute_result"
    }
   ],
   "source": [
    "df.groupby('Job_Title')['Salary_Min'].agg(['min', 'max', 'median'])"
   ]
  }
 ],
 "metadata": {
  "colab": {
   "authorship_tag": "ABX9TyOesntGgbKf0j5kTUlASbMV",
   "provenance": [],
   "toc_visible": true
  },
  "kernelspec": {
   "display_name": "labPython",
   "language": "python",
   "name": "python3"
  },
  "language_info": {
   "codemirror_mode": {
    "name": "ipython",
    "version": 3
   },
   "file_extension": ".py",
   "mimetype": "text/x-python",
   "name": "python",
   "nbconvert_exporter": "python",
   "pygments_lexer": "ipython3",
   "version": "3.12.7"
  }
 },
 "nbformat": 4,
 "nbformat_minor": 0
}
