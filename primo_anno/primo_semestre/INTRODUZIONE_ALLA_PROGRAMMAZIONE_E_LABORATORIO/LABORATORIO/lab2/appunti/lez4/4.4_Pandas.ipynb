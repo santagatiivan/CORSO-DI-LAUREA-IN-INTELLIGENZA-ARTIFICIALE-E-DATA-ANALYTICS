{
 "cells": [
  {
   "cell_type": "markdown",
   "metadata": {
    "id": "b7NfbjzaJYKx"
   },
   "source": [
    "## Esamina i Dati\n",
    "\n",
    "Carichiamo i dati usando `read_csv` e diamo un'occhiata rapida con `head()`."
   ]
  },
  {
   "cell_type": "code",
   "execution_count": 1,
   "metadata": {},
   "outputs": [
    {
     "name": "stderr",
     "output_type": "stream",
     "text": [
      "Repo card metadata block was not found. Setting CardData to empty.\n"
     ]
    }
   ],
   "source": [
    "# Importing Libraries\n",
    "import pandas as pd\n",
    "import numpy as np\n",
    "from datasets import load_dataset\n",
    "import matplotlib.pyplot as plt  \n",
    "\n",
    "\n",
    "\n",
    "# Carica il dataset\n",
    "dataset = load_dataset(\"yiqing111/Engineering_Jobs_Insight_Dataset\")\n",
    "# Converte in DataFrame Pandas\n",
    "df = dataset['train'].to_pandas()\n",
    "# Rimpiazza gli spazi con l'underscore\n",
    "df.columns = df.columns.str.replace(' ', '_')\n",
    "# Convertire 'Date_Posted' in datetime senza specificare il formato esatto\n",
    "df['Date_Posted'] = pd.to_datetime(df['Date_Posted'], errors='coerce')"
   ]
  },
  {
   "cell_type": "code",
   "execution_count": 2,
   "metadata": {},
   "outputs": [
    {
     "data": {
      "text/html": [
       "<div>\n",
       "<style scoped>\n",
       "    .dataframe tbody tr th:only-of-type {\n",
       "        vertical-align: middle;\n",
       "    }\n",
       "\n",
       "    .dataframe tbody tr th {\n",
       "        vertical-align: top;\n",
       "    }\n",
       "\n",
       "    .dataframe thead th {\n",
       "        text-align: right;\n",
       "    }\n",
       "</style>\n",
       "<table border=\"1\" class=\"dataframe\">\n",
       "  <thead>\n",
       "    <tr style=\"text-align: right;\">\n",
       "      <th></th>\n",
       "      <th>Job_Title</th>\n",
       "      <th>Company</th>\n",
       "      <th>Description</th>\n",
       "      <th>Location</th>\n",
       "      <th>Salary_Min</th>\n",
       "      <th>Salary_Max</th>\n",
       "      <th>Date_Posted</th>\n",
       "      <th>URL</th>\n",
       "    </tr>\n",
       "  </thead>\n",
       "  <tbody>\n",
       "    <tr>\n",
       "      <th>0</th>\n",
       "      <td>Senior Software Engineer (Python)</td>\n",
       "      <td>BP Energy</td>\n",
       "      <td>Entity: Trading &amp; Shipping Job Family Group: S...</td>\n",
       "      <td>Crestwood, Houston</td>\n",
       "      <td>138992.40</td>\n",
       "      <td>138992.40</td>\n",
       "      <td>2024-10-29 16:35:26+00:00</td>\n",
       "      <td>https://www.adzuna.com/land/ad/4917931721?se=N...</td>\n",
       "    </tr>\n",
       "    <tr>\n",
       "      <th>1</th>\n",
       "      <td>Sr. Backend Software Engineer</td>\n",
       "      <td>Meijer</td>\n",
       "      <td>As a family company, we serve people and commu...</td>\n",
       "      <td>Belmont, Kent County</td>\n",
       "      <td>118638.80</td>\n",
       "      <td>118638.80</td>\n",
       "      <td>2024-11-10 01:13:11+00:00</td>\n",
       "      <td>https://www.adzuna.com/land/ad/4933370156?se=N...</td>\n",
       "    </tr>\n",
       "    <tr>\n",
       "      <th>2</th>\n",
       "      <td>Sr. Software Engineer - Mobile</td>\n",
       "      <td>Meijer</td>\n",
       "      <td>As a family company, we serve people and commu...</td>\n",
       "      <td>Belmont, Kent County</td>\n",
       "      <td>108041.95</td>\n",
       "      <td>108041.95</td>\n",
       "      <td>2024-10-15 11:51:30+00:00</td>\n",
       "      <td>https://www.adzuna.com/land/ad/4902683574?se=N...</td>\n",
       "    </tr>\n",
       "    <tr>\n",
       "      <th>3</th>\n",
       "      <td>Acquisition Software Engineer</td>\n",
       "      <td>Naval Air Systems Command</td>\n",
       "      <td>Position Description The Harpoon/SLAM ER/JSOW ...</td>\n",
       "      <td>China Lake, Kern County</td>\n",
       "      <td>88583.57</td>\n",
       "      <td>88583.57</td>\n",
       "      <td>2024-11-16 04:21:41+00:00</td>\n",
       "      <td>https://www.adzuna.com/land/ad/4941260438?se=N...</td>\n",
       "    </tr>\n",
       "    <tr>\n",
       "      <th>4</th>\n",
       "      <td>Senior Software Engineer</td>\n",
       "      <td>Innova</td>\n",
       "      <td>A client of Innova Solutions is immediately hi...</td>\n",
       "      <td>Richardson, Dallas</td>\n",
       "      <td>121932.35</td>\n",
       "      <td>121932.35</td>\n",
       "      <td>2024-11-15 09:42:55+00:00</td>\n",
       "      <td>https://www.adzuna.com/details/4940271538?utm_...</td>\n",
       "    </tr>\n",
       "  </tbody>\n",
       "</table>\n",
       "</div>"
      ],
      "text/plain": [
       "                           Job_Title                     Company  \\\n",
       "0  Senior Software Engineer (Python)                   BP Energy   \n",
       "1      Sr. Backend Software Engineer                      Meijer   \n",
       "2     Sr. Software Engineer - Mobile                      Meijer   \n",
       "3      Acquisition Software Engineer  Naval Air Systems Command    \n",
       "4           Senior Software Engineer                      Innova   \n",
       "\n",
       "                                         Description                 Location  \\\n",
       "0  Entity: Trading & Shipping Job Family Group: S...       Crestwood, Houston   \n",
       "1  As a family company, we serve people and commu...     Belmont, Kent County   \n",
       "2  As a family company, we serve people and commu...     Belmont, Kent County   \n",
       "3  Position Description The Harpoon/SLAM ER/JSOW ...  China Lake, Kern County   \n",
       "4  A client of Innova Solutions is immediately hi...       Richardson, Dallas   \n",
       "\n",
       "   Salary_Min  Salary_Max               Date_Posted  \\\n",
       "0   138992.40   138992.40 2024-10-29 16:35:26+00:00   \n",
       "1   118638.80   118638.80 2024-11-10 01:13:11+00:00   \n",
       "2   108041.95   108041.95 2024-10-15 11:51:30+00:00   \n",
       "3    88583.57    88583.57 2024-11-16 04:21:41+00:00   \n",
       "4   121932.35   121932.35 2024-11-15 09:42:55+00:00   \n",
       "\n",
       "                                                 URL  \n",
       "0  https://www.adzuna.com/land/ad/4917931721?se=N...  \n",
       "1  https://www.adzuna.com/land/ad/4933370156?se=N...  \n",
       "2  https://www.adzuna.com/land/ad/4902683574?se=N...  \n",
       "3  https://www.adzuna.com/land/ad/4941260438?se=N...  \n",
       "4  https://www.adzuna.com/details/4940271538?utm_...  "
      ]
     },
     "execution_count": 2,
     "metadata": {},
     "output_type": "execute_result"
    }
   ],
   "source": [
    "df.head()"
   ]
  },
  {
   "cell_type": "markdown",
   "metadata": {},
   "source": [
    "## iloc\n",
    "\n",
    "Abbiamo già imparato come ottenere le righe usando `iloc[]`.  \n",
    "Ma possiamo fare molto di più con questo strumento: possiamo infatti selezionare *sia* righe *che* colonne.\n",
    "\n",
    "Per fare questo, dobbiamo conoscere gli indici del nostro DataFrame.\n"
   ]
  },
  {
   "cell_type": "code",
   "execution_count": 3,
   "metadata": {},
   "outputs": [
    {
     "data": {
      "text/plain": [
       "Job_Title                      Senior Software Engineer (Python)\n",
       "Company                                                BP Energy\n",
       "Description    Entity: Trading & Shipping Job Family Group: S...\n",
       "Location                                      Crestwood, Houston\n",
       "Salary_Min                                              138992.4\n",
       "Salary_Max                                              138992.4\n",
       "Date_Posted                            2024-10-29 16:35:26+00:00\n",
       "URL            https://www.adzuna.com/land/ad/4917931721?se=N...\n",
       "Name: 0, dtype: object"
      ]
     },
     "execution_count": 3,
     "metadata": {},
     "output_type": "execute_result"
    }
   ],
   "source": [
    "df.iloc[0] #prima riga"
   ]
  },
  {
   "cell_type": "code",
   "execution_count": 4,
   "metadata": {},
   "outputs": [
    {
     "name": "stderr",
     "output_type": "stream",
     "text": [
      "/var/folders/98/2lfxkvhx40ldhrbg5c0920400000gp/T/ipykernel_34153/3296793768.py:1: FutureWarning: Series.__getitem__ treating keys as positions is deprecated. In a future version, integer keys will always be treated as labels (consistent with DataFrame behavior). To access a value by position, use `ser.iloc[pos]`\n",
      "  df.iloc[0][5]\n"
     ]
    },
    {
     "data": {
      "text/plain": [
       "np.float64(138992.4)"
      ]
     },
     "execution_count": 4,
     "metadata": {},
     "output_type": "execute_result"
    }
   ],
   "source": [
    "df.iloc[0][5]"
   ]
  },
  {
   "cell_type": "markdown",
   "metadata": {},
   "source": [
    "##### Nota: usa `df.iloc[0, 15]` invece di `df.iloc[0][15]` per garantire la compatibilità futura con pandas.\n",
    "\n",
    "L’uso dell’indicizzazione concatenata come `df.iloc[0][15]` è in fase di deprecazione in pandas, perché può portare a comportamenti ambigui tra accesso basato sulla posizione e accesso basato sull’etichetta nelle versioni future.  \n",
    "Utilizzando `df.iloc[0, 15]`, specifichi direttamente la posizione dell’elemento che vuoi accedere, in modo più chiaro e sicuro, evitando potenziali errori futuri legati all’interpretazione degli indici interi nelle serie.\n",
    "\n",
    "Quindi dovremmo scrivere:"
   ]
  },
  {
   "cell_type": "code",
   "execution_count": 6,
   "metadata": {},
   "outputs": [
    {
     "data": {
      "text/plain": [
       "np.float64(138992.4)"
      ]
     },
     "execution_count": 6,
     "metadata": {},
     "output_type": "execute_result"
    }
   ],
   "source": [
    "df.iloc[0,5]"
   ]
  },
  {
   "cell_type": "code",
   "execution_count": 7,
   "metadata": {},
   "outputs": [
    {
     "data": {
      "text/html": [
       "<div>\n",
       "<style scoped>\n",
       "    .dataframe tbody tr th:only-of-type {\n",
       "        vertical-align: middle;\n",
       "    }\n",
       "\n",
       "    .dataframe tbody tr th {\n",
       "        vertical-align: top;\n",
       "    }\n",
       "\n",
       "    .dataframe thead th {\n",
       "        text-align: right;\n",
       "    }\n",
       "</style>\n",
       "<table border=\"1\" class=\"dataframe\">\n",
       "  <thead>\n",
       "    <tr style=\"text-align: right;\">\n",
       "      <th></th>\n",
       "      <th>Salary_Min</th>\n",
       "      <th>Salary_Max</th>\n",
       "    </tr>\n",
       "  </thead>\n",
       "  <tbody>\n",
       "    <tr>\n",
       "      <th>2</th>\n",
       "      <td>108041.95</td>\n",
       "      <td>108041.95</td>\n",
       "    </tr>\n",
       "    <tr>\n",
       "      <th>3</th>\n",
       "      <td>88583.57</td>\n",
       "      <td>88583.57</td>\n",
       "    </tr>\n",
       "  </tbody>\n",
       "</table>\n",
       "</div>"
      ],
      "text/plain": [
       "   Salary_Min  Salary_Max\n",
       "2   108041.95   108041.95\n",
       "3    88583.57    88583.57"
      ]
     },
     "execution_count": 7,
     "metadata": {},
     "output_type": "execute_result"
    }
   ],
   "source": [
    "df.iloc[2:4,4:6]"
   ]
  },
  {
   "cell_type": "code",
   "execution_count": 7,
   "metadata": {},
   "outputs": [
    {
     "data": {
      "text/html": [
       "<div>\n",
       "<style scoped>\n",
       "    .dataframe tbody tr th:only-of-type {\n",
       "        vertical-align: middle;\n",
       "    }\n",
       "\n",
       "    .dataframe tbody tr th {\n",
       "        vertical-align: top;\n",
       "    }\n",
       "\n",
       "    .dataframe thead th {\n",
       "        text-align: right;\n",
       "    }\n",
       "</style>\n",
       "<table border=\"1\" class=\"dataframe\">\n",
       "  <thead>\n",
       "    <tr style=\"text-align: right;\">\n",
       "      <th></th>\n",
       "      <th>Salary_Min</th>\n",
       "      <th>Salary_Max</th>\n",
       "    </tr>\n",
       "  </thead>\n",
       "  <tbody>\n",
       "    <tr>\n",
       "      <th>2</th>\n",
       "      <td>108041.95</td>\n",
       "      <td>108041.95</td>\n",
       "    </tr>\n",
       "    <tr>\n",
       "      <th>4</th>\n",
       "      <td>121932.35</td>\n",
       "      <td>121932.35</td>\n",
       "    </tr>\n",
       "  </tbody>\n",
       "</table>\n",
       "</div>"
      ],
      "text/plain": [
       "   Salary_Min  Salary_Max\n",
       "2   108041.95   108041.95\n",
       "4   121932.35   121932.35"
      ]
     },
     "execution_count": 7,
     "metadata": {},
     "output_type": "execute_result"
    }
   ],
   "source": [
    "df.iloc[[2,4],[4,5]]"
   ]
  },
  {
   "cell_type": "markdown",
   "metadata": {},
   "source": [
    "## loc\n",
    "\n",
    "* `df.loc[]`: seleziona righe e colonne per **etichetta** o **intervallo di etichette**.\n",
    "* È simile a `df.iloc[]`, ma consente di usare **etichette** invece degli indici numerici.\n"
   ]
  },
  {
   "cell_type": "code",
   "execution_count": 8,
   "metadata": {},
   "outputs": [
    {
     "data": {
      "text/html": [
       "<div>\n",
       "<style scoped>\n",
       "    .dataframe tbody tr th:only-of-type {\n",
       "        vertical-align: middle;\n",
       "    }\n",
       "\n",
       "    .dataframe tbody tr th {\n",
       "        vertical-align: top;\n",
       "    }\n",
       "\n",
       "    .dataframe thead th {\n",
       "        text-align: right;\n",
       "    }\n",
       "</style>\n",
       "<table border=\"1\" class=\"dataframe\">\n",
       "  <thead>\n",
       "    <tr style=\"text-align: right;\">\n",
       "      <th></th>\n",
       "      <th>Salary_Min</th>\n",
       "      <th>Salary_Max</th>\n",
       "    </tr>\n",
       "  </thead>\n",
       "  <tbody>\n",
       "    <tr>\n",
       "      <th>0</th>\n",
       "      <td>138992.40</td>\n",
       "      <td>138992.40</td>\n",
       "    </tr>\n",
       "    <tr>\n",
       "      <th>1</th>\n",
       "      <td>118638.80</td>\n",
       "      <td>118638.80</td>\n",
       "    </tr>\n",
       "    <tr>\n",
       "      <th>2</th>\n",
       "      <td>108041.95</td>\n",
       "      <td>108041.95</td>\n",
       "    </tr>\n",
       "    <tr>\n",
       "      <th>3</th>\n",
       "      <td>88583.57</td>\n",
       "      <td>88583.57</td>\n",
       "    </tr>\n",
       "    <tr>\n",
       "      <th>4</th>\n",
       "      <td>121932.35</td>\n",
       "      <td>121932.35</td>\n",
       "    </tr>\n",
       "    <tr>\n",
       "      <th>5</th>\n",
       "      <td>133348.23</td>\n",
       "      <td>133348.23</td>\n",
       "    </tr>\n",
       "    <tr>\n",
       "      <th>6</th>\n",
       "      <td>88769.20</td>\n",
       "      <td>88769.20</td>\n",
       "    </tr>\n",
       "    <tr>\n",
       "      <th>7</th>\n",
       "      <td>79830.78</td>\n",
       "      <td>79830.78</td>\n",
       "    </tr>\n",
       "    <tr>\n",
       "      <th>8</th>\n",
       "      <td>94173.15</td>\n",
       "      <td>94173.15</td>\n",
       "    </tr>\n",
       "    <tr>\n",
       "      <th>9</th>\n",
       "      <td>91324.85</td>\n",
       "      <td>91324.85</td>\n",
       "    </tr>\n",
       "  </tbody>\n",
       "</table>\n",
       "</div>"
      ],
      "text/plain": [
       "   Salary_Min  Salary_Max\n",
       "0   138992.40   138992.40\n",
       "1   118638.80   118638.80\n",
       "2   108041.95   108041.95\n",
       "3    88583.57    88583.57\n",
       "4   121932.35   121932.35\n",
       "5   133348.23   133348.23\n",
       "6    88769.20    88769.20\n",
       "7    79830.78    79830.78\n",
       "8    94173.15    94173.15\n",
       "9    91324.85    91324.85"
      ]
     },
     "execution_count": 8,
     "metadata": {},
     "output_type": "execute_result"
    }
   ],
   "source": [
    "df.loc[:9,['Salary_Min',\t'Salary_Max']]"
   ]
  },
  {
   "cell_type": "markdown",
   "metadata": {},
   "source": [
    "## Gestione dei Dati Mancanti\n"
   ]
  },
  {
   "cell_type": "markdown",
   "metadata": {},
   "source": [
    "\n",
    "- `df.dropna()`: elimina i valori mancanti.\n",
    "\n"
   ]
  },
  {
   "cell_type": "markdown",
   "metadata": {},
   "source": [
    "### Fillna\n",
    "\n",
    "- `df.fillna()`: riempie i valori mancanti"
   ]
  },
  {
   "cell_type": "code",
   "execution_count": 8,
   "metadata": {},
   "outputs": [
    {
     "data": {
      "text/html": [
       "<div>\n",
       "<style scoped>\n",
       "    .dataframe tbody tr th:only-of-type {\n",
       "        vertical-align: middle;\n",
       "    }\n",
       "\n",
       "    .dataframe tbody tr th {\n",
       "        vertical-align: top;\n",
       "    }\n",
       "\n",
       "    .dataframe thead th {\n",
       "        text-align: right;\n",
       "    }\n",
       "</style>\n",
       "<table border=\"1\" class=\"dataframe\">\n",
       "  <thead>\n",
       "    <tr style=\"text-align: right;\">\n",
       "      <th></th>\n",
       "      <th>Nome</th>\n",
       "      <th>Età</th>\n",
       "      <th>Città</th>\n",
       "    </tr>\n",
       "  </thead>\n",
       "  <tbody>\n",
       "    <tr>\n",
       "      <th>0</th>\n",
       "      <td>Anna</td>\n",
       "      <td>25.0</td>\n",
       "      <td>Roma</td>\n",
       "    </tr>\n",
       "    <tr>\n",
       "      <th>1</th>\n",
       "      <td>Luca</td>\n",
       "      <td>NaN</td>\n",
       "      <td>Milano</td>\n",
       "    </tr>\n",
       "    <tr>\n",
       "      <th>2</th>\n",
       "      <td>Marco</td>\n",
       "      <td>30.0</td>\n",
       "      <td>NaN</td>\n",
       "    </tr>\n",
       "    <tr>\n",
       "      <th>3</th>\n",
       "      <td>Elisa</td>\n",
       "      <td>NaN</td>\n",
       "      <td>Torino</td>\n",
       "    </tr>\n",
       "  </tbody>\n",
       "</table>\n",
       "</div>"
      ],
      "text/plain": [
       "    Nome   Età   Città\n",
       "0   Anna  25.0    Roma\n",
       "1   Luca   NaN  Milano\n",
       "2  Marco  30.0     NaN\n",
       "3  Elisa   NaN  Torino"
      ]
     },
     "execution_count": 8,
     "metadata": {},
     "output_type": "execute_result"
    }
   ],
   "source": [
    "data = {\n",
    "    'Nome': ['Anna', 'Luca', 'Marco', 'Elisa'],\n",
    "    'Età': [25, np.nan, 30, np.nan],\n",
    "    'Città': ['Roma', 'Milano', np.nan, 'Torino']\n",
    "}\n",
    "\n",
    "df2 = pd.DataFrame(data)\n",
    "df2"
   ]
  },
  {
   "cell_type": "code",
   "execution_count": 9,
   "metadata": {},
   "outputs": [
    {
     "data": {
      "text/html": [
       "<div>\n",
       "<style scoped>\n",
       "    .dataframe tbody tr th:only-of-type {\n",
       "        vertical-align: middle;\n",
       "    }\n",
       "\n",
       "    .dataframe tbody tr th {\n",
       "        vertical-align: top;\n",
       "    }\n",
       "\n",
       "    .dataframe thead th {\n",
       "        text-align: right;\n",
       "    }\n",
       "</style>\n",
       "<table border=\"1\" class=\"dataframe\">\n",
       "  <thead>\n",
       "    <tr style=\"text-align: right;\">\n",
       "      <th></th>\n",
       "      <th>Nome</th>\n",
       "      <th>Età</th>\n",
       "      <th>Città</th>\n",
       "    </tr>\n",
       "  </thead>\n",
       "  <tbody>\n",
       "    <tr>\n",
       "      <th>0</th>\n",
       "      <td>Anna</td>\n",
       "      <td>25.0</td>\n",
       "      <td>Roma</td>\n",
       "    </tr>\n",
       "  </tbody>\n",
       "</table>\n",
       "</div>"
      ],
      "text/plain": [
       "   Nome   Età Città\n",
       "0  Anna  25.0  Roma"
      ]
     },
     "execution_count": 9,
     "metadata": {},
     "output_type": "execute_result"
    }
   ],
   "source": [
    "df_drop = df2.dropna()\n",
    "df_drop"
   ]
  },
  {
   "cell_type": "code",
   "execution_count": 10,
   "metadata": {},
   "outputs": [
    {
     "data": {
      "text/html": [
       "<div>\n",
       "<style scoped>\n",
       "    .dataframe tbody tr th:only-of-type {\n",
       "        vertical-align: middle;\n",
       "    }\n",
       "\n",
       "    .dataframe tbody tr th {\n",
       "        vertical-align: top;\n",
       "    }\n",
       "\n",
       "    .dataframe thead th {\n",
       "        text-align: right;\n",
       "    }\n",
       "</style>\n",
       "<table border=\"1\" class=\"dataframe\">\n",
       "  <thead>\n",
       "    <tr style=\"text-align: right;\">\n",
       "      <th></th>\n",
       "      <th>Nome</th>\n",
       "      <th>Età</th>\n",
       "      <th>Città</th>\n",
       "    </tr>\n",
       "  </thead>\n",
       "  <tbody>\n",
       "    <tr>\n",
       "      <th>0</th>\n",
       "      <td>Anna</td>\n",
       "      <td>25.0</td>\n",
       "      <td>Roma</td>\n",
       "    </tr>\n",
       "    <tr>\n",
       "      <th>1</th>\n",
       "      <td>Luca</td>\n",
       "      <td>27.5</td>\n",
       "      <td>Milano</td>\n",
       "    </tr>\n",
       "    <tr>\n",
       "      <th>2</th>\n",
       "      <td>Marco</td>\n",
       "      <td>30.0</td>\n",
       "      <td>NaN</td>\n",
       "    </tr>\n",
       "    <tr>\n",
       "      <th>3</th>\n",
       "      <td>Elisa</td>\n",
       "      <td>27.5</td>\n",
       "      <td>Torino</td>\n",
       "    </tr>\n",
       "  </tbody>\n",
       "</table>\n",
       "</div>"
      ],
      "text/plain": [
       "    Nome   Età   Città\n",
       "0   Anna  25.0    Roma\n",
       "1   Luca  27.5  Milano\n",
       "2  Marco  30.0     NaN\n",
       "3  Elisa  27.5  Torino"
      ]
     },
     "execution_count": 10,
     "metadata": {},
     "output_type": "execute_result"
    }
   ],
   "source": [
    "media_eta = df2['Età'].mean()\n",
    "df2['Età'] = df2['Età'].fillna(media_eta)\n",
    "df2"
   ]
  },
  {
   "cell_type": "markdown",
   "metadata": {},
   "source": [
    "## Rimozione dei Duplicati\n",
    "\n",
    "* `drop_duplicates()`: rimuove le righe duplicate.\n",
    "* Gli analisti devono spesso ripulire i dati, e uno dei problemi più comuni che si incontrano sono i valori duplicati."
   ]
  },
  {
   "cell_type": "code",
   "execution_count": 15,
   "metadata": {},
   "outputs": [
    {
     "data": {
      "text/plain": [
       "0        5\n",
       "1        5\n",
       "2        5\n",
       "3        5\n",
       "4        5\n",
       "        ..\n",
       "11180    5\n",
       "11181    5\n",
       "11182    5\n",
       "11183    5\n",
       "11184    5\n",
       "Name: Salary_Min, Length: 11185, dtype: int64"
      ]
     },
     "execution_count": 15,
     "metadata": {},
     "output_type": "execute_result"
    }
   ],
   "source": [
    "# DataFrame Copy\n",
    "df_original = df.copy()\n",
    "df_altered = df_original\n",
    "\n",
    "# Filling the missing values with the median salary\n",
    "df_altered['Salary_Min'] = 5\n",
    "df_altered['Salary_Min']"
   ]
  },
  {
   "cell_type": "code",
   "execution_count": 16,
   "metadata": {},
   "outputs": [
    {
     "data": {
      "text/plain": [
       "0        5\n",
       "1        5\n",
       "2        5\n",
       "3        5\n",
       "4        5\n",
       "        ..\n",
       "11180    5\n",
       "11181    5\n",
       "11182    5\n",
       "11183    5\n",
       "11184    5\n",
       "Name: Salary_Min, Length: 11185, dtype: int64"
      ]
     },
     "execution_count": 16,
     "metadata": {},
     "output_type": "execute_result"
    }
   ],
   "source": [
    "df_original['Salary_Min']"
   ]
  },
  {
   "cell_type": "code",
   "execution_count": 14,
   "metadata": {},
   "outputs": [
    {
     "data": {
      "text/plain": [
       "0        138992.40\n",
       "1        118638.80\n",
       "2        108041.95\n",
       "3         88583.57\n",
       "4        121932.35\n",
       "           ...    \n",
       "11180    110000.00\n",
       "11181    110000.00\n",
       "11182    126635.63\n",
       "11183    155731.52\n",
       "11184    174527.50\n",
       "Name: Salary_Min, Length: 11185, dtype: float64"
      ]
     },
     "execution_count": 14,
     "metadata": {},
     "output_type": "execute_result"
    }
   ],
   "source": [
    "df['Salary_Min']"
   ]
  },
  {
   "cell_type": "code",
   "execution_count": 17,
   "metadata": {},
   "outputs": [
    {
     "name": "stdout",
     "output_type": "stream",
     "text": [
      "ID of df_original:                6265881808\n",
      "ID of df_altered:                 6265881808\n",
      "ID of df:                         6291379008\n"
     ]
    }
   ],
   "source": [
    "\n",
    "print('ID of df_original:               ', id(df_original))\n",
    "print('ID of df_altered:                ', id(df_altered))\n",
    "print('ID of df:                        ', id(df))"
   ]
  },
  {
   "cell_type": "markdown",
   "metadata": {},
   "source": [
    "## Campionamento\n",
    "\n",
    "* `sample()`: estrae un campione casuale di elementi.\n",
    "\n",
    "### Esempi\n",
    "\n",
    "Otteniamo un campione casuale dei dati.  \n",
    "È possibile ottenere un campione con un numero fisso di righe.\n"
   ]
  },
  {
   "cell_type": "code",
   "execution_count": 21,
   "metadata": {},
   "outputs": [
    {
     "data": {
      "text/html": [
       "<div>\n",
       "<style scoped>\n",
       "    .dataframe tbody tr th:only-of-type {\n",
       "        vertical-align: middle;\n",
       "    }\n",
       "\n",
       "    .dataframe tbody tr th {\n",
       "        vertical-align: top;\n",
       "    }\n",
       "\n",
       "    .dataframe thead th {\n",
       "        text-align: right;\n",
       "    }\n",
       "</style>\n",
       "<table border=\"1\" class=\"dataframe\">\n",
       "  <thead>\n",
       "    <tr style=\"text-align: right;\">\n",
       "      <th></th>\n",
       "      <th>Job_Title</th>\n",
       "      <th>Company</th>\n",
       "      <th>Description</th>\n",
       "      <th>Location</th>\n",
       "      <th>Salary_Min</th>\n",
       "      <th>Salary_Max</th>\n",
       "      <th>Date_Posted</th>\n",
       "      <th>URL</th>\n",
       "    </tr>\n",
       "  </thead>\n",
       "  <tbody>\n",
       "    <tr>\n",
       "      <th>847</th>\n",
       "      <td>Software Engineer</td>\n",
       "      <td>Moveworks.ai</td>\n",
       "      <td>Who We Are Moveworks is the universal AI copil...</td>\n",
       "      <td>Mountain View, Santa Clara County</td>\n",
       "      <td>181433.84</td>\n",
       "      <td>181433.84</td>\n",
       "      <td>2024-11-19 14:11:27+00:00</td>\n",
       "      <td>https://www.adzuna.com/details/4944619905?utm_...</td>\n",
       "    </tr>\n",
       "    <tr>\n",
       "      <th>10780</th>\n",
       "      <td>Lead Solutions Architect</td>\n",
       "      <td>Humana</td>\n",
       "      <td>Become a part of our caring community and help...</td>\n",
       "      <td>West End, Dauphin County</td>\n",
       "      <td>114487.07</td>\n",
       "      <td>114487.07</td>\n",
       "      <td>2024-11-19 14:09:06+00:00</td>\n",
       "      <td>https://www.adzuna.com/details/4944595636?utm_...</td>\n",
       "    </tr>\n",
       "  </tbody>\n",
       "</table>\n",
       "</div>"
      ],
      "text/plain": [
       "                      Job_Title       Company  \\\n",
       "847           Software Engineer  Moveworks.ai   \n",
       "10780  Lead Solutions Architect        Humana   \n",
       "\n",
       "                                             Description  \\\n",
       "847    Who We Are Moveworks is the universal AI copil...   \n",
       "10780  Become a part of our caring community and help...   \n",
       "\n",
       "                                Location  Salary_Min  Salary_Max  \\\n",
       "847    Mountain View, Santa Clara County   181433.84   181433.84   \n",
       "10780           West End, Dauphin County   114487.07   114487.07   \n",
       "\n",
       "                    Date_Posted  \\\n",
       "847   2024-11-19 14:11:27+00:00   \n",
       "10780 2024-11-19 14:09:06+00:00   \n",
       "\n",
       "                                                     URL  \n",
       "847    https://www.adzuna.com/details/4944619905?utm_...  \n",
       "10780  https://www.adzuna.com/details/4944595636?utm_...  "
      ]
     },
     "execution_count": 21,
     "metadata": {},
     "output_type": "execute_result"
    }
   ],
   "source": [
    "df.sample(n=2)"
   ]
  },
  {
   "cell_type": "markdown",
   "metadata": {},
   "source": [
    "Oppure puoi selezionare casualmente una frazione dei dati (ad esempio, il 10% delle righe), con o senza reinserimento (replacement).\n"
   ]
  },
  {
   "cell_type": "code",
   "execution_count": 28,
   "metadata": {},
   "outputs": [
    {
     "data": {
      "text/html": [
       "<div>\n",
       "<style scoped>\n",
       "    .dataframe tbody tr th:only-of-type {\n",
       "        vertical-align: middle;\n",
       "    }\n",
       "\n",
       "    .dataframe tbody tr th {\n",
       "        vertical-align: top;\n",
       "    }\n",
       "\n",
       "    .dataframe thead th {\n",
       "        text-align: right;\n",
       "    }\n",
       "</style>\n",
       "<table border=\"1\" class=\"dataframe\">\n",
       "  <thead>\n",
       "    <tr style=\"text-align: right;\">\n",
       "      <th></th>\n",
       "      <th>Job_Title</th>\n",
       "      <th>Company</th>\n",
       "      <th>Description</th>\n",
       "      <th>Location</th>\n",
       "      <th>Salary_Min</th>\n",
       "      <th>Salary_Max</th>\n",
       "      <th>Date_Posted</th>\n",
       "      <th>URL</th>\n",
       "    </tr>\n",
       "  </thead>\n",
       "  <tbody>\n",
       "    <tr>\n",
       "      <th>5141</th>\n",
       "      <td>Business Analyst</td>\n",
       "      <td>Maximus</td>\n",
       "      <td>Description &amp; Requirements Maximus, Inc. is lo...</td>\n",
       "      <td>Jenks, Tulsa County</td>\n",
       "      <td>72010.59</td>\n",
       "      <td>72010.59</td>\n",
       "      <td>2024-11-20 10:55:28+00:00</td>\n",
       "      <td>https://www.adzuna.com/details/4945472946?utm_...</td>\n",
       "    </tr>\n",
       "    <tr>\n",
       "      <th>3823</th>\n",
       "      <td>Associate Product Manager  Social app startup</td>\n",
       "      <td>Cheez</td>\n",
       "      <td>Cheez is a new app that sends you the pictures...</td>\n",
       "      <td>Kansas City, Wyandotte County</td>\n",
       "      <td>80706.04</td>\n",
       "      <td>80706.04</td>\n",
       "      <td>2024-05-02 12:57:18+00:00</td>\n",
       "      <td>https://www.adzuna.com/land/ad/4675826411?se=g...</td>\n",
       "    </tr>\n",
       "    <tr>\n",
       "      <th>4896</th>\n",
       "      <td>Principal Product Manager - Controls</td>\n",
       "      <td>Lennox International</td>\n",
       "      <td>Lennox (NYSE: LII) Driven by 130 years of lega...</td>\n",
       "      <td>Richardson, Dallas</td>\n",
       "      <td>133322.16</td>\n",
       "      <td>133322.16</td>\n",
       "      <td>2024-11-16 11:04:03+00:00</td>\n",
       "      <td>https://www.adzuna.com/details/4941503812?utm_...</td>\n",
       "    </tr>\n",
       "    <tr>\n",
       "      <th>7786</th>\n",
       "      <td>Cloud Engineer</td>\n",
       "      <td>02 Caci-Federal</td>\n",
       "      <td>Cloud Engineer Job Category: Information Techn...</td>\n",
       "      <td>US</td>\n",
       "      <td>74600.00</td>\n",
       "      <td>156700.00</td>\n",
       "      <td>2024-10-26 05:47:35+00:00</td>\n",
       "      <td>https://www.adzuna.com/details/4914828971?utm_...</td>\n",
       "    </tr>\n",
       "    <tr>\n",
       "      <th>1324</th>\n",
       "      <td>Fullstack Software Engineer</td>\n",
       "      <td>Hadrian</td>\n",
       "      <td>Hadrian — Manufacturing the Future Hadrian is ...</td>\n",
       "      <td>Los Angeles, Los Angeles County</td>\n",
       "      <td>100361.40</td>\n",
       "      <td>100361.40</td>\n",
       "      <td>2024-08-01 05:30:31+00:00</td>\n",
       "      <td>https://www.adzuna.com/details/4804621695?utm_...</td>\n",
       "    </tr>\n",
       "    <tr>\n",
       "      <th>...</th>\n",
       "      <td>...</td>\n",
       "      <td>...</td>\n",
       "      <td>...</td>\n",
       "      <td>...</td>\n",
       "      <td>...</td>\n",
       "      <td>...</td>\n",
       "      <td>...</td>\n",
       "      <td>...</td>\n",
       "    </tr>\n",
       "    <tr>\n",
       "      <th>3741</th>\n",
       "      <td>Product Manager  Social app startup</td>\n",
       "      <td>Cheez</td>\n",
       "      <td>Cheez is a new app that sends you the pictures...</td>\n",
       "      <td>Indianapolis, Marion County</td>\n",
       "      <td>83070.43</td>\n",
       "      <td>83070.43</td>\n",
       "      <td>2024-05-02 13:04:28+00:00</td>\n",
       "      <td>https://www.adzuna.com/land/ad/4675829230?se=v...</td>\n",
       "    </tr>\n",
       "    <tr>\n",
       "      <th>8877</th>\n",
       "      <td>Cyber Security Engineer - Hybrid Alexandria, VA</td>\n",
       "      <td>Addison Group</td>\n",
       "      <td>Position Title: Cyber Security Engineer Locati...</td>\n",
       "      <td>Alexandria, Alexandria City</td>\n",
       "      <td>142336.69</td>\n",
       "      <td>142336.69</td>\n",
       "      <td>2024-11-23 11:35:45+00:00</td>\n",
       "      <td>https://www.adzuna.com/details/4949062968?utm_...</td>\n",
       "    </tr>\n",
       "    <tr>\n",
       "      <th>6321</th>\n",
       "      <td>UNIV - Information Systems/Business Analyst II...</td>\n",
       "      <td>MUSC</td>\n",
       "      <td>Job Description Summary The Department of Publ...</td>\n",
       "      <td>Charleston, Charleston County</td>\n",
       "      <td>58909.35</td>\n",
       "      <td>58909.35</td>\n",
       "      <td>2024-11-07 05:50:45+00:00</td>\n",
       "      <td>https://www.adzuna.com/details/4929758478?utm_...</td>\n",
       "    </tr>\n",
       "    <tr>\n",
       "      <th>759</th>\n",
       "      <td>Software Engineer</td>\n",
       "      <td>Mudrasys</td>\n",
       "      <td>Job Id: C2S_ Software Engineer _0123_2024 Job ...</td>\n",
       "      <td>Times Square, King County</td>\n",
       "      <td>96723.48</td>\n",
       "      <td>96723.48</td>\n",
       "      <td>2024-11-19 14:11:08+00:00</td>\n",
       "      <td>https://www.adzuna.com/details/4944617059?utm_...</td>\n",
       "    </tr>\n",
       "    <tr>\n",
       "      <th>2886</th>\n",
       "      <td>Staff Software Engineer, Machine Learning, You...</td>\n",
       "      <td>Google</td>\n",
       "      <td>Minimum qualifications: Bachelors degree or eq...</td>\n",
       "      <td>Mountain View, Santa Clara County</td>\n",
       "      <td>182266.30</td>\n",
       "      <td>182266.30</td>\n",
       "      <td>2024-10-15 14:18:30+00:00</td>\n",
       "      <td>https://www.adzuna.com/details/4902852158?utm_...</td>\n",
       "    </tr>\n",
       "  </tbody>\n",
       "</table>\n",
       "<p>1118 rows × 8 columns</p>\n",
       "</div>"
      ],
      "text/plain": [
       "                                              Job_Title               Company  \\\n",
       "5141                                   Business Analyst               Maximus   \n",
       "3823      Associate Product Manager  Social app startup                 Cheez   \n",
       "4896               Principal Product Manager - Controls  Lennox International   \n",
       "7786                                     Cloud Engineer       02 Caci-Federal   \n",
       "1324                        Fullstack Software Engineer               Hadrian   \n",
       "...                                                 ...                   ...   \n",
       "3741                Product Manager  Social app startup                 Cheez   \n",
       "8877    Cyber Security Engineer - Hybrid Alexandria, VA         Addison Group   \n",
       "6321  UNIV - Information Systems/Business Analyst II...                  MUSC   \n",
       "759                                   Software Engineer              Mudrasys   \n",
       "2886  Staff Software Engineer, Machine Learning, You...                Google   \n",
       "\n",
       "                                            Description  \\\n",
       "5141  Description & Requirements Maximus, Inc. is lo...   \n",
       "3823  Cheez is a new app that sends you the pictures...   \n",
       "4896  Lennox (NYSE: LII) Driven by 130 years of lega...   \n",
       "7786  Cloud Engineer Job Category: Information Techn...   \n",
       "1324  Hadrian — Manufacturing the Future Hadrian is ...   \n",
       "...                                                 ...   \n",
       "3741  Cheez is a new app that sends you the pictures...   \n",
       "8877  Position Title: Cyber Security Engineer Locati...   \n",
       "6321  Job Description Summary The Department of Publ...   \n",
       "759   Job Id: C2S_ Software Engineer _0123_2024 Job ...   \n",
       "2886  Minimum qualifications: Bachelors degree or eq...   \n",
       "\n",
       "                               Location  Salary_Min  Salary_Max  \\\n",
       "5141                Jenks, Tulsa County    72010.59    72010.59   \n",
       "3823      Kansas City, Wyandotte County    80706.04    80706.04   \n",
       "4896                 Richardson, Dallas   133322.16   133322.16   \n",
       "7786                                 US    74600.00   156700.00   \n",
       "1324    Los Angeles, Los Angeles County   100361.40   100361.40   \n",
       "...                                 ...         ...         ...   \n",
       "3741        Indianapolis, Marion County    83070.43    83070.43   \n",
       "8877        Alexandria, Alexandria City   142336.69   142336.69   \n",
       "6321      Charleston, Charleston County    58909.35    58909.35   \n",
       "759           Times Square, King County    96723.48    96723.48   \n",
       "2886  Mountain View, Santa Clara County   182266.30   182266.30   \n",
       "\n",
       "                   Date_Posted  \\\n",
       "5141 2024-11-20 10:55:28+00:00   \n",
       "3823 2024-05-02 12:57:18+00:00   \n",
       "4896 2024-11-16 11:04:03+00:00   \n",
       "7786 2024-10-26 05:47:35+00:00   \n",
       "1324 2024-08-01 05:30:31+00:00   \n",
       "...                        ...   \n",
       "3741 2024-05-02 13:04:28+00:00   \n",
       "8877 2024-11-23 11:35:45+00:00   \n",
       "6321 2024-11-07 05:50:45+00:00   \n",
       "759  2024-11-19 14:11:08+00:00   \n",
       "2886 2024-10-15 14:18:30+00:00   \n",
       "\n",
       "                                                    URL  \n",
       "5141  https://www.adzuna.com/details/4945472946?utm_...  \n",
       "3823  https://www.adzuna.com/land/ad/4675826411?se=g...  \n",
       "4896  https://www.adzuna.com/details/4941503812?utm_...  \n",
       "7786  https://www.adzuna.com/details/4914828971?utm_...  \n",
       "1324  https://www.adzuna.com/details/4804621695?utm_...  \n",
       "...                                                 ...  \n",
       "3741  https://www.adzuna.com/land/ad/4675829230?se=v...  \n",
       "8877  https://www.adzuna.com/details/4949062968?utm_...  \n",
       "6321  https://www.adzuna.com/details/4929758478?utm_...  \n",
       "759   https://www.adzuna.com/details/4944617059?utm_...  \n",
       "2886  https://www.adzuna.com/details/4902852158?utm_...  \n",
       "\n",
       "[1118 rows x 8 columns]"
      ]
     },
     "execution_count": 28,
     "metadata": {},
     "output_type": "execute_result"
    }
   ],
   "source": [
    "df.sample(frac=0.10, replace=False) # (senza replacement) → ogni riga può essere selezionata una sola volta nel campione.\n",
    "\n"
   ]
  },
  {
   "cell_type": "markdown",
   "metadata": {},
   "source": [
    "## Pandas Pivot \n",
    "\n",
    "È un'operazione che consente di ristrutturare un DataFrame, trasformando colonne in indici e viceversa. È utile quando vuoi riorganizzare i dati in una forma tabellare più leggibile o più adatta all’analisi.\n",
    "\n"
   ]
  },
  {
   "cell_type": "code",
   "execution_count": 29,
   "metadata": {},
   "outputs": [
    {
     "data": {
      "text/html": [
       "<div>\n",
       "<style scoped>\n",
       "    .dataframe tbody tr th:only-of-type {\n",
       "        vertical-align: middle;\n",
       "    }\n",
       "\n",
       "    .dataframe tbody tr th {\n",
       "        vertical-align: top;\n",
       "    }\n",
       "\n",
       "    .dataframe thead th {\n",
       "        text-align: right;\n",
       "    }\n",
       "</style>\n",
       "<table border=\"1\" class=\"dataframe\">\n",
       "  <thead>\n",
       "    <tr style=\"text-align: right;\">\n",
       "      <th></th>\n",
       "      <th>Data</th>\n",
       "      <th>Prodotto</th>\n",
       "      <th>Vendite</th>\n",
       "    </tr>\n",
       "  </thead>\n",
       "  <tbody>\n",
       "    <tr>\n",
       "      <th>0</th>\n",
       "      <td>2024-01</td>\n",
       "      <td>A</td>\n",
       "      <td>100</td>\n",
       "    </tr>\n",
       "    <tr>\n",
       "      <th>1</th>\n",
       "      <td>2024-01</td>\n",
       "      <td>B</td>\n",
       "      <td>150</td>\n",
       "    </tr>\n",
       "    <tr>\n",
       "      <th>2</th>\n",
       "      <td>2024-02</td>\n",
       "      <td>A</td>\n",
       "      <td>120</td>\n",
       "    </tr>\n",
       "    <tr>\n",
       "      <th>3</th>\n",
       "      <td>2024-02</td>\n",
       "      <td>B</td>\n",
       "      <td>130</td>\n",
       "    </tr>\n",
       "  </tbody>\n",
       "</table>\n",
       "</div>"
      ],
      "text/plain": [
       "      Data Prodotto  Vendite\n",
       "0  2024-01        A      100\n",
       "1  2024-01        B      150\n",
       "2  2024-02        A      120\n",
       "3  2024-02        B      130"
      ]
     },
     "execution_count": 29,
     "metadata": {},
     "output_type": "execute_result"
    }
   ],
   "source": [
    "df = pd.DataFrame({\n",
    "    'Data': ['2024-01', '2024-01', '2024-02', '2024-02'],\n",
    "    'Prodotto': ['A', 'B', 'A', 'B'],\n",
    "    'Vendite': [100, 150, 120, 130]\n",
    "})\n",
    "df"
   ]
  },
  {
   "cell_type": "code",
   "execution_count": null,
   "metadata": {},
   "outputs": [
    {
     "data": {
      "text/html": [
       "<div>\n",
       "<style scoped>\n",
       "    .dataframe tbody tr th:only-of-type {\n",
       "        vertical-align: middle;\n",
       "    }\n",
       "\n",
       "    .dataframe tbody tr th {\n",
       "        vertical-align: top;\n",
       "    }\n",
       "\n",
       "    .dataframe thead th {\n",
       "        text-align: right;\n",
       "    }\n",
       "</style>\n",
       "<table border=\"1\" class=\"dataframe\">\n",
       "  <thead>\n",
       "    <tr style=\"text-align: right;\">\n",
       "      <th>Prodotto</th>\n",
       "      <th>A</th>\n",
       "      <th>B</th>\n",
       "    </tr>\n",
       "    <tr>\n",
       "      <th>Data</th>\n",
       "      <th></th>\n",
       "      <th></th>\n",
       "    </tr>\n",
       "  </thead>\n",
       "  <tbody>\n",
       "    <tr>\n",
       "      <th>2024-01</th>\n",
       "      <td>100</td>\n",
       "      <td>150</td>\n",
       "    </tr>\n",
       "    <tr>\n",
       "      <th>2024-02</th>\n",
       "      <td>120</td>\n",
       "      <td>130</td>\n",
       "    </tr>\n",
       "  </tbody>\n",
       "</table>\n",
       "</div>"
      ],
      "text/plain": [
       "Prodotto    A    B\n",
       "Data              \n",
       "2024-01   100  150\n",
       "2024-02   120  130"
      ]
     },
     "execution_count": 19,
     "metadata": {},
     "output_type": "execute_result"
    }
   ],
   "source": [
    "# rioganizziamo i dati di modo che Le righe (index) siano le date, Le colonne, i prodotti, e le celle contengono i valori di vendite.\n",
    "\n",
    "df.pivot(index='Data', columns='Prodotto', values='Vendite')"
   ]
  },
  {
   "cell_type": "markdown",
   "metadata": {},
   "source": [
    "\n",
    "\n",
    "- `pivot_table()` è una versione più flessibile di `pivot()`, perché ti permette di aggregare dati quando ci sono valori duplicati per la combinazione di indice e colonne.\n",
    "* Syntax: `pivot_table(values='column_to_aggregate', index='row_index', columns='column_index', aggfunc='mean')`\n"
   ]
  },
  {
   "cell_type": "code",
   "execution_count": 30,
   "metadata": {},
   "outputs": [
    {
     "data": {
      "text/html": [
       "<div>\n",
       "<style scoped>\n",
       "    .dataframe tbody tr th:only-of-type {\n",
       "        vertical-align: middle;\n",
       "    }\n",
       "\n",
       "    .dataframe tbody tr th {\n",
       "        vertical-align: top;\n",
       "    }\n",
       "\n",
       "    .dataframe thead th {\n",
       "        text-align: right;\n",
       "    }\n",
       "</style>\n",
       "<table border=\"1\" class=\"dataframe\">\n",
       "  <thead>\n",
       "    <tr style=\"text-align: right;\">\n",
       "      <th></th>\n",
       "      <th>Data</th>\n",
       "      <th>Prodotto</th>\n",
       "      <th>Vendite</th>\n",
       "    </tr>\n",
       "  </thead>\n",
       "  <tbody>\n",
       "    <tr>\n",
       "      <th>0</th>\n",
       "      <td>2024-01</td>\n",
       "      <td>A</td>\n",
       "      <td>100</td>\n",
       "    </tr>\n",
       "    <tr>\n",
       "      <th>1</th>\n",
       "      <td>2024-01</td>\n",
       "      <td>A</td>\n",
       "      <td>120</td>\n",
       "    </tr>\n",
       "    <tr>\n",
       "      <th>2</th>\n",
       "      <td>2024-01</td>\n",
       "      <td>B</td>\n",
       "      <td>150</td>\n",
       "    </tr>\n",
       "    <tr>\n",
       "      <th>3</th>\n",
       "      <td>2024-02</td>\n",
       "      <td>B</td>\n",
       "      <td>130</td>\n",
       "    </tr>\n",
       "  </tbody>\n",
       "</table>\n",
       "</div>"
      ],
      "text/plain": [
       "      Data Prodotto  Vendite\n",
       "0  2024-01        A      100\n",
       "1  2024-01        A      120\n",
       "2  2024-01        B      150\n",
       "3  2024-02        B      130"
      ]
     },
     "execution_count": 30,
     "metadata": {},
     "output_type": "execute_result"
    }
   ],
   "source": [
    "df = pd.DataFrame({\n",
    "    'Data': ['2024-01', '2024-01', '2024-01', '2024-02'],\n",
    "    'Prodotto': ['A', 'A', 'B', 'B'],\n",
    "    'Vendite': [100, 120, 150, 130]\n",
    "})\n",
    "df"
   ]
  },
  {
   "cell_type": "code",
   "execution_count": 31,
   "metadata": {},
   "outputs": [
    {
     "ename": "ValueError",
     "evalue": "Index contains duplicate entries, cannot reshape",
     "output_type": "error",
     "traceback": [
      "\u001b[0;31m---------------------------------------------------------------------------\u001b[0m",
      "\u001b[0;31mValueError\u001b[0m                                Traceback (most recent call last)",
      "Cell \u001b[0;32mIn[31], line 1\u001b[0m\n\u001b[0;32m----> 1\u001b[0m \u001b[43mdf\u001b[49m\u001b[38;5;241;43m.\u001b[39;49m\u001b[43mpivot\u001b[49m\u001b[43m(\u001b[49m\u001b[43mindex\u001b[49m\u001b[38;5;241;43m=\u001b[39;49m\u001b[38;5;124;43m'\u001b[39;49m\u001b[38;5;124;43mData\u001b[39;49m\u001b[38;5;124;43m'\u001b[39;49m\u001b[43m,\u001b[49m\u001b[43m \u001b[49m\u001b[43mcolumns\u001b[49m\u001b[38;5;241;43m=\u001b[39;49m\u001b[38;5;124;43m'\u001b[39;49m\u001b[38;5;124;43mProdotto\u001b[39;49m\u001b[38;5;124;43m'\u001b[39;49m\u001b[43m,\u001b[49m\u001b[43m \u001b[49m\u001b[43mvalues\u001b[49m\u001b[38;5;241;43m=\u001b[39;49m\u001b[38;5;124;43m'\u001b[39;49m\u001b[38;5;124;43mVendite\u001b[39;49m\u001b[38;5;124;43m'\u001b[39;49m\u001b[43m)\u001b[49m\n",
      "File \u001b[0;32m/opt/miniconda3/envs/labPython/lib/python3.12/site-packages/pandas/core/frame.py:9339\u001b[0m, in \u001b[0;36mDataFrame.pivot\u001b[0;34m(self, columns, index, values)\u001b[0m\n\u001b[1;32m   9332\u001b[0m \u001b[38;5;129m@Substitution\u001b[39m(\u001b[38;5;124m\"\u001b[39m\u001b[38;5;124m\"\u001b[39m)\n\u001b[1;32m   9333\u001b[0m \u001b[38;5;129m@Appender\u001b[39m(_shared_docs[\u001b[38;5;124m\"\u001b[39m\u001b[38;5;124mpivot\u001b[39m\u001b[38;5;124m\"\u001b[39m])\n\u001b[1;32m   9334\u001b[0m \u001b[38;5;28;01mdef\u001b[39;00m \u001b[38;5;21mpivot\u001b[39m(\n\u001b[1;32m   9335\u001b[0m     \u001b[38;5;28mself\u001b[39m, \u001b[38;5;241m*\u001b[39m, columns, index\u001b[38;5;241m=\u001b[39mlib\u001b[38;5;241m.\u001b[39mno_default, values\u001b[38;5;241m=\u001b[39mlib\u001b[38;5;241m.\u001b[39mno_default\n\u001b[1;32m   9336\u001b[0m ) \u001b[38;5;241m-\u001b[39m\u001b[38;5;241m>\u001b[39m DataFrame:\n\u001b[1;32m   9337\u001b[0m     \u001b[38;5;28;01mfrom\u001b[39;00m \u001b[38;5;21;01mpandas\u001b[39;00m\u001b[38;5;21;01m.\u001b[39;00m\u001b[38;5;21;01mcore\u001b[39;00m\u001b[38;5;21;01m.\u001b[39;00m\u001b[38;5;21;01mreshape\u001b[39;00m\u001b[38;5;21;01m.\u001b[39;00m\u001b[38;5;21;01mpivot\u001b[39;00m \u001b[38;5;28;01mimport\u001b[39;00m pivot\n\u001b[0;32m-> 9339\u001b[0m     \u001b[38;5;28;01mreturn\u001b[39;00m \u001b[43mpivot\u001b[49m\u001b[43m(\u001b[49m\u001b[38;5;28;43mself\u001b[39;49m\u001b[43m,\u001b[49m\u001b[43m \u001b[49m\u001b[43mindex\u001b[49m\u001b[38;5;241;43m=\u001b[39;49m\u001b[43mindex\u001b[49m\u001b[43m,\u001b[49m\u001b[43m \u001b[49m\u001b[43mcolumns\u001b[49m\u001b[38;5;241;43m=\u001b[39;49m\u001b[43mcolumns\u001b[49m\u001b[43m,\u001b[49m\u001b[43m \u001b[49m\u001b[43mvalues\u001b[49m\u001b[38;5;241;43m=\u001b[39;49m\u001b[43mvalues\u001b[49m\u001b[43m)\u001b[49m\n",
      "File \u001b[0;32m/opt/miniconda3/envs/labPython/lib/python3.12/site-packages/pandas/core/reshape/pivot.py:570\u001b[0m, in \u001b[0;36mpivot\u001b[0;34m(data, columns, index, values)\u001b[0m\n\u001b[1;32m    566\u001b[0m         indexed \u001b[38;5;241m=\u001b[39m data\u001b[38;5;241m.\u001b[39m_constructor_sliced(data[values]\u001b[38;5;241m.\u001b[39m_values, index\u001b[38;5;241m=\u001b[39mmultiindex)\n\u001b[1;32m    567\u001b[0m \u001b[38;5;66;03m# error: Argument 1 to \"unstack\" of \"DataFrame\" has incompatible type \"Union\u001b[39;00m\n\u001b[1;32m    568\u001b[0m \u001b[38;5;66;03m# [List[Any], ExtensionArray, ndarray[Any, Any], Index, Series]\"; expected\u001b[39;00m\n\u001b[1;32m    569\u001b[0m \u001b[38;5;66;03m# \"Hashable\"\u001b[39;00m\n\u001b[0;32m--> 570\u001b[0m result \u001b[38;5;241m=\u001b[39m \u001b[43mindexed\u001b[49m\u001b[38;5;241;43m.\u001b[39;49m\u001b[43munstack\u001b[49m\u001b[43m(\u001b[49m\u001b[43mcolumns_listlike\u001b[49m\u001b[43m)\u001b[49m  \u001b[38;5;66;03m# type: ignore[arg-type]\u001b[39;00m\n\u001b[1;32m    571\u001b[0m result\u001b[38;5;241m.\u001b[39mindex\u001b[38;5;241m.\u001b[39mnames \u001b[38;5;241m=\u001b[39m [\n\u001b[1;32m    572\u001b[0m     name \u001b[38;5;28;01mif\u001b[39;00m name \u001b[38;5;129;01mis\u001b[39;00m \u001b[38;5;129;01mnot\u001b[39;00m lib\u001b[38;5;241m.\u001b[39mno_default \u001b[38;5;28;01melse\u001b[39;00m \u001b[38;5;28;01mNone\u001b[39;00m \u001b[38;5;28;01mfor\u001b[39;00m name \u001b[38;5;129;01min\u001b[39;00m result\u001b[38;5;241m.\u001b[39mindex\u001b[38;5;241m.\u001b[39mnames\n\u001b[1;32m    573\u001b[0m ]\n\u001b[1;32m    575\u001b[0m \u001b[38;5;28;01mreturn\u001b[39;00m result\n",
      "File \u001b[0;32m/opt/miniconda3/envs/labPython/lib/python3.12/site-packages/pandas/core/series.py:4615\u001b[0m, in \u001b[0;36mSeries.unstack\u001b[0;34m(self, level, fill_value, sort)\u001b[0m\n\u001b[1;32m   4570\u001b[0m \u001b[38;5;250m\u001b[39m\u001b[38;5;124;03m\"\"\"\u001b[39;00m\n\u001b[1;32m   4571\u001b[0m \u001b[38;5;124;03mUnstack, also known as pivot, Series with MultiIndex to produce DataFrame.\u001b[39;00m\n\u001b[1;32m   4572\u001b[0m \n\u001b[0;32m   (...)\u001b[0m\n\u001b[1;32m   4611\u001b[0m \u001b[38;5;124;03mb    2    4\u001b[39;00m\n\u001b[1;32m   4612\u001b[0m \u001b[38;5;124;03m\"\"\"\u001b[39;00m\n\u001b[1;32m   4613\u001b[0m \u001b[38;5;28;01mfrom\u001b[39;00m \u001b[38;5;21;01mpandas\u001b[39;00m\u001b[38;5;21;01m.\u001b[39;00m\u001b[38;5;21;01mcore\u001b[39;00m\u001b[38;5;21;01m.\u001b[39;00m\u001b[38;5;21;01mreshape\u001b[39;00m\u001b[38;5;21;01m.\u001b[39;00m\u001b[38;5;21;01mreshape\u001b[39;00m \u001b[38;5;28;01mimport\u001b[39;00m unstack\n\u001b[0;32m-> 4615\u001b[0m \u001b[38;5;28;01mreturn\u001b[39;00m \u001b[43munstack\u001b[49m\u001b[43m(\u001b[49m\u001b[38;5;28;43mself\u001b[39;49m\u001b[43m,\u001b[49m\u001b[43m \u001b[49m\u001b[43mlevel\u001b[49m\u001b[43m,\u001b[49m\u001b[43m \u001b[49m\u001b[43mfill_value\u001b[49m\u001b[43m,\u001b[49m\u001b[43m \u001b[49m\u001b[43msort\u001b[49m\u001b[43m)\u001b[49m\n",
      "File \u001b[0;32m/opt/miniconda3/envs/labPython/lib/python3.12/site-packages/pandas/core/reshape/reshape.py:517\u001b[0m, in \u001b[0;36munstack\u001b[0;34m(obj, level, fill_value, sort)\u001b[0m\n\u001b[1;32m    515\u001b[0m \u001b[38;5;28;01mif\u001b[39;00m is_1d_only_ea_dtype(obj\u001b[38;5;241m.\u001b[39mdtype):\n\u001b[1;32m    516\u001b[0m     \u001b[38;5;28;01mreturn\u001b[39;00m _unstack_extension_series(obj, level, fill_value, sort\u001b[38;5;241m=\u001b[39msort)\n\u001b[0;32m--> 517\u001b[0m unstacker \u001b[38;5;241m=\u001b[39m \u001b[43m_Unstacker\u001b[49m\u001b[43m(\u001b[49m\n\u001b[1;32m    518\u001b[0m \u001b[43m    \u001b[49m\u001b[43mobj\u001b[49m\u001b[38;5;241;43m.\u001b[39;49m\u001b[43mindex\u001b[49m\u001b[43m,\u001b[49m\u001b[43m \u001b[49m\u001b[43mlevel\u001b[49m\u001b[38;5;241;43m=\u001b[39;49m\u001b[43mlevel\u001b[49m\u001b[43m,\u001b[49m\u001b[43m \u001b[49m\u001b[43mconstructor\u001b[49m\u001b[38;5;241;43m=\u001b[39;49m\u001b[43mobj\u001b[49m\u001b[38;5;241;43m.\u001b[39;49m\u001b[43m_constructor_expanddim\u001b[49m\u001b[43m,\u001b[49m\u001b[43m \u001b[49m\u001b[43msort\u001b[49m\u001b[38;5;241;43m=\u001b[39;49m\u001b[43msort\u001b[49m\n\u001b[1;32m    519\u001b[0m \u001b[43m\u001b[49m\u001b[43m)\u001b[49m\n\u001b[1;32m    520\u001b[0m \u001b[38;5;28;01mreturn\u001b[39;00m unstacker\u001b[38;5;241m.\u001b[39mget_result(\n\u001b[1;32m    521\u001b[0m     obj\u001b[38;5;241m.\u001b[39m_values, value_columns\u001b[38;5;241m=\u001b[39m\u001b[38;5;28;01mNone\u001b[39;00m, fill_value\u001b[38;5;241m=\u001b[39mfill_value\n\u001b[1;32m    522\u001b[0m )\n",
      "File \u001b[0;32m/opt/miniconda3/envs/labPython/lib/python3.12/site-packages/pandas/core/reshape/reshape.py:154\u001b[0m, in \u001b[0;36m_Unstacker.__init__\u001b[0;34m(self, index, level, constructor, sort)\u001b[0m\n\u001b[1;32m    146\u001b[0m \u001b[38;5;28;01mif\u001b[39;00m num_cells \u001b[38;5;241m>\u001b[39m np\u001b[38;5;241m.\u001b[39miinfo(np\u001b[38;5;241m.\u001b[39mint32)\u001b[38;5;241m.\u001b[39mmax:\n\u001b[1;32m    147\u001b[0m     warnings\u001b[38;5;241m.\u001b[39mwarn(\n\u001b[1;32m    148\u001b[0m         \u001b[38;5;124mf\u001b[39m\u001b[38;5;124m\"\u001b[39m\u001b[38;5;124mThe following operation may generate \u001b[39m\u001b[38;5;132;01m{\u001b[39;00mnum_cells\u001b[38;5;132;01m}\u001b[39;00m\u001b[38;5;124m cells \u001b[39m\u001b[38;5;124m\"\u001b[39m\n\u001b[1;32m    149\u001b[0m         \u001b[38;5;124mf\u001b[39m\u001b[38;5;124m\"\u001b[39m\u001b[38;5;124min the resulting pandas object.\u001b[39m\u001b[38;5;124m\"\u001b[39m,\n\u001b[1;32m    150\u001b[0m         PerformanceWarning,\n\u001b[1;32m    151\u001b[0m         stacklevel\u001b[38;5;241m=\u001b[39mfind_stack_level(),\n\u001b[1;32m    152\u001b[0m     )\n\u001b[0;32m--> 154\u001b[0m \u001b[38;5;28;43mself\u001b[39;49m\u001b[38;5;241;43m.\u001b[39;49m\u001b[43m_make_selectors\u001b[49m\u001b[43m(\u001b[49m\u001b[43m)\u001b[49m\n",
      "File \u001b[0;32m/opt/miniconda3/envs/labPython/lib/python3.12/site-packages/pandas/core/reshape/reshape.py:210\u001b[0m, in \u001b[0;36m_Unstacker._make_selectors\u001b[0;34m(self)\u001b[0m\n\u001b[1;32m    207\u001b[0m mask\u001b[38;5;241m.\u001b[39mput(selector, \u001b[38;5;28;01mTrue\u001b[39;00m)\n\u001b[1;32m    209\u001b[0m \u001b[38;5;28;01mif\u001b[39;00m mask\u001b[38;5;241m.\u001b[39msum() \u001b[38;5;241m<\u001b[39m \u001b[38;5;28mlen\u001b[39m(\u001b[38;5;28mself\u001b[39m\u001b[38;5;241m.\u001b[39mindex):\n\u001b[0;32m--> 210\u001b[0m     \u001b[38;5;28;01mraise\u001b[39;00m \u001b[38;5;167;01mValueError\u001b[39;00m(\u001b[38;5;124m\"\u001b[39m\u001b[38;5;124mIndex contains duplicate entries, cannot reshape\u001b[39m\u001b[38;5;124m\"\u001b[39m)\n\u001b[1;32m    212\u001b[0m \u001b[38;5;28mself\u001b[39m\u001b[38;5;241m.\u001b[39mgroup_index \u001b[38;5;241m=\u001b[39m comp_index\n\u001b[1;32m    213\u001b[0m \u001b[38;5;28mself\u001b[39m\u001b[38;5;241m.\u001b[39mmask \u001b[38;5;241m=\u001b[39m mask\n",
      "\u001b[0;31mValueError\u001b[0m: Index contains duplicate entries, cannot reshape"
     ]
    }
   ],
   "source": [
    "df.pivot(index='Data', columns='Prodotto', values='Vendite')"
   ]
  },
  {
   "cell_type": "code",
   "execution_count": 32,
   "metadata": {},
   "outputs": [
    {
     "data": {
      "text/html": [
       "<div>\n",
       "<style scoped>\n",
       "    .dataframe tbody tr th:only-of-type {\n",
       "        vertical-align: middle;\n",
       "    }\n",
       "\n",
       "    .dataframe tbody tr th {\n",
       "        vertical-align: top;\n",
       "    }\n",
       "\n",
       "    .dataframe thead th {\n",
       "        text-align: right;\n",
       "    }\n",
       "</style>\n",
       "<table border=\"1\" class=\"dataframe\">\n",
       "  <thead>\n",
       "    <tr style=\"text-align: right;\">\n",
       "      <th>Prodotto</th>\n",
       "      <th>A</th>\n",
       "      <th>B</th>\n",
       "    </tr>\n",
       "    <tr>\n",
       "      <th>Data</th>\n",
       "      <th></th>\n",
       "      <th></th>\n",
       "    </tr>\n",
       "  </thead>\n",
       "  <tbody>\n",
       "    <tr>\n",
       "      <th>2024-01</th>\n",
       "      <td>220.0</td>\n",
       "      <td>150.0</td>\n",
       "    </tr>\n",
       "    <tr>\n",
       "      <th>2024-02</th>\n",
       "      <td>NaN</td>\n",
       "      <td>130.0</td>\n",
       "    </tr>\n",
       "  </tbody>\n",
       "</table>\n",
       "</div>"
      ],
      "text/plain": [
       "Prodotto      A      B\n",
       "Data                  \n",
       "2024-01   220.0  150.0\n",
       "2024-02     NaN  130.0"
      ]
     },
     "execution_count": 32,
     "metadata": {},
     "output_type": "execute_result"
    }
   ],
   "source": [
    "df.pivot_table(index='Data', columns='Prodotto', values='Vendite', aggfunc='sum')"
   ]
  },
  {
   "cell_type": "code",
   "execution_count": 33,
   "metadata": {},
   "outputs": [
    {
     "data": {
      "text/html": [
       "<div>\n",
       "<style scoped>\n",
       "    .dataframe tbody tr th:only-of-type {\n",
       "        vertical-align: middle;\n",
       "    }\n",
       "\n",
       "    .dataframe tbody tr th {\n",
       "        vertical-align: top;\n",
       "    }\n",
       "\n",
       "    .dataframe thead th {\n",
       "        text-align: right;\n",
       "    }\n",
       "</style>\n",
       "<table border=\"1\" class=\"dataframe\">\n",
       "  <thead>\n",
       "    <tr style=\"text-align: right;\">\n",
       "      <th></th>\n",
       "      <th>Vendite</th>\n",
       "    </tr>\n",
       "    <tr>\n",
       "      <th>Prodotto</th>\n",
       "      <th></th>\n",
       "    </tr>\n",
       "  </thead>\n",
       "  <tbody>\n",
       "    <tr>\n",
       "      <th>A</th>\n",
       "      <td>220</td>\n",
       "    </tr>\n",
       "    <tr>\n",
       "      <th>B</th>\n",
       "      <td>280</td>\n",
       "    </tr>\n",
       "  </tbody>\n",
       "</table>\n",
       "</div>"
      ],
      "text/plain": [
       "          Vendite\n",
       "Prodotto         \n",
       "A             220\n",
       "B             280"
      ]
     },
     "execution_count": 33,
     "metadata": {},
     "output_type": "execute_result"
    }
   ],
   "source": [
    "df.pivot_table(index='Prodotto', values='Vendite', aggfunc='sum')"
   ]
  },
  {
   "cell_type": "code",
   "execution_count": null,
   "metadata": {},
   "outputs": [
    {
     "data": {
      "text/plain": [
       "Prodotto\n",
       "A    220\n",
       "B    280\n",
       "Name: Vendite, dtype: int64"
      ]
     },
     "execution_count": 26,
     "metadata": {},
     "output_type": "execute_result"
    }
   ],
   "source": [
    "df.groupby('Prodotto')['Vendite'].sum()\n"
   ]
  },
  {
   "cell_type": "markdown",
   "metadata": {},
   "source": [
    "## Esempio\n",
    "Contiamo quanti lavori per ogni tipo ci sono"
   ]
  },
  {
   "cell_type": "code",
   "execution_count": null,
   "metadata": {},
   "outputs": [
    {
     "data": {
      "text/plain": [
       "Job_Title\n",
       "Software Engineer                                                     311\n",
       "Product Manager  Social app startup                                   282\n",
       "Associate Product Manager  Social app startup                         277\n",
       "2025 Virtual Summer Intern Program - Product Analyst Intern (Xome)    267\n",
       "Real-Time Software Engineer                                           266\n",
       "                                                                     ... \n",
       "Information Systems Security Engineer, Senior                           1\n",
       "Information Systems Security Engineering (ISSE)                         1\n",
       "Information Systems Security Officer/ Engineer                          1\n",
       "Information Technology - Senior Business Analyst IT                     1\n",
       "☁ Cloud HPC Engineer ☁                                                  1\n",
       "Length: 4848, dtype: int64"
      ]
     },
     "execution_count": 34,
     "metadata": {},
     "output_type": "execute_result"
    }
   ],
   "source": [
    "df.pivot_table(index='Job_Title', aggfunc='size').sort_values(ascending=False)"
   ]
  },
  {
   "cell_type": "code",
   "execution_count": null,
   "metadata": {},
   "outputs": [
    {
     "data": {
      "text/plain": [
       "Job_Title\n",
       "Software Engineer                                                     311\n",
       "Product Manager  Social app startup                                   282\n",
       "Associate Product Manager  Social app startup                         277\n",
       "2025 Virtual Summer Intern Program - Product Analyst Intern (Xome)    267\n",
       "Real-Time Software Engineer                                           266\n",
       "                                                                     ... \n",
       "Information Systems Security Engineer, Senior                           1\n",
       "Information Systems Security Engineering (ISSE)                         1\n",
       "Information Systems Security Officer/ Engineer                          1\n",
       "Information Technology - Senior Business Analyst IT                     1\n",
       "☁ Cloud HPC Engineer ☁                                                  1\n",
       "Length: 4848, dtype: int64"
      ]
     },
     "execution_count": 35,
     "metadata": {},
     "output_type": "execute_result"
    }
   ],
   "source": [
    "df.groupby('Job_Title').size().sort_values(ascending=False)"
   ]
  }
 ],
 "metadata": {
  "colab": {
   "authorship_tag": "ABX9TyO7QGE4EmxtJp+NvT7AZdbk",
   "provenance": []
  },
  "kernelspec": {
   "display_name": "labPython",
   "language": "python",
   "name": "python3"
  },
  "language_info": {
   "codemirror_mode": {
    "name": "ipython",
    "version": 3
   },
   "file_extension": ".py",
   "mimetype": "text/x-python",
   "name": "python",
   "nbconvert_exporter": "python",
   "pygments_lexer": "ipython3",
   "version": "3.12.7"
  }
 },
 "nbformat": 4,
 "nbformat_minor": 0
}
