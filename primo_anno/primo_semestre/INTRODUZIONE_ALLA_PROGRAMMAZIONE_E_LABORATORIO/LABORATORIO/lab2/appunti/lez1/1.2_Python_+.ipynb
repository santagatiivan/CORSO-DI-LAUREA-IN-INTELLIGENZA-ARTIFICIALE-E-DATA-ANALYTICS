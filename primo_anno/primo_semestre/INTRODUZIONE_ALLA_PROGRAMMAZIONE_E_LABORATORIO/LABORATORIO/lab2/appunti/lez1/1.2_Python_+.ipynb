{
 "cells": [
  {
   "cell_type": "markdown",
   "metadata": {},
   "source": [
    "# Guida di stile\n",
    "\n"
   ]
  },
  {
   "cell_type": "markdown",
   "metadata": {},
   "source": [
    "- Python ha una guida di stile chiamata **PEP 8**\n",
    "  - Pensala come una \"Guida alle migliori pratiche\" per scrivere codice Python\n",
    "- Non entreremo nei dettagli, ma la seguiremo per la formattazione del codice\n",
    "- Documentazione ufficiale 👉 [clicca qui](https://peps.python.org/pep-0008/#block-comments)\n"
   ]
  },
  {
   "cell_type": "markdown",
   "metadata": {},
   "source": [
    "## Formattazione e sintassi\n",
    "\n"
   ]
  },
  {
   "cell_type": "markdown",
   "metadata": {},
   "source": [
    "### Indentazione\n",
    "\n",
    "* **Indentazione** - si riferisce agli spazi all'inizio di una riga di codice.\n",
    "* L'indentazione è **molto** importante.\n",
    "* Python utilizza l'indentazione per indicare un blocco di codice.\n",
    "* Necessaria per eseguire correttamente il codice."
   ]
  },
  {
   "cell_type": "code",
   "execution_count": null,
   "metadata": {},
   "outputs": [
    {
     "name": "stdout",
     "output_type": "stream",
     "text": [
      "Five is greater than two!\n"
     ]
    }
   ],
   "source": [
    "if 5 > 2:\n",
    "    print('Five is greater than two!')"
   ]
  },
  {
   "cell_type": "markdown",
   "metadata": {},
   "source": [
    "Tuttavia, se non si inserisce un'indentazione nella seconda riga, Python non capirà che questa seconda istruzione `print()` dipende dalla dichiarazione `if`.\n"
   ]
  },
  {
   "cell_type": "code",
   "execution_count": 5,
   "metadata": {},
   "outputs": [
    {
     "ename": "IndentationError",
     "evalue": "expected an indented block after 'if' statement on line 1 (3357700666.py, line 2)",
     "output_type": "error",
     "traceback": [
      "\u001b[0;36m  Cell \u001b[0;32mIn[5], line 2\u001b[0;36m\u001b[0m\n\u001b[0;31m    print('Five is greater than two!')\u001b[0m\n\u001b[0m    ^\u001b[0m\n\u001b[0;31mIndentationError\u001b[0m\u001b[0;31m:\u001b[0m expected an indented block after 'if' statement on line 1\n"
     ]
    }
   ],
   "source": [
    "if 5 > 2:\n",
    "print('Five is greater than two!')"
   ]
  },
  {
   "cell_type": "markdown",
   "metadata": {},
   "source": [
    "### Dimenticarsi i  \":\"\n",
    "\n",
    "- Assicurati di includere \":\" alla fine delle strutture di Python che lo richiedono.\n",
    "- È necessario alla fine della riga prima di iniziare un blocco di codice indentato.\n",
    "- Di seguito è riportato un elenco delle strutture più comuni che richiedono due punti:\n",
    "- Questi due punti indicano a Python che sta iniziando un nuovo blocco di codice e che le righe successive devono essere trattate come un gruppo fino a quando il livello di indentazione non torna allo stesso livello della dichiarazione che ha introdotto il blocco.\n",
    "\n",
    "#### Esempi\n",
    "\n",
    "Ecco alcuni esempi di cosa accade se dimentichi i due punti \":\" nel codice (questo codice è **errato**).\n"
   ]
  },
  {
   "cell_type": "code",
   "execution_count": 1,
   "metadata": {},
   "outputs": [
    {
     "ename": "SyntaxError",
     "evalue": "expected ':' (3877278052.py, line 2)",
     "output_type": "error",
     "traceback": [
      "\u001b[0;36m  Cell \u001b[0;32mIn[1], line 2\u001b[0;36m\u001b[0m\n\u001b[0;31m    if x > 5\u001b[0m\n\u001b[0m            ^\u001b[0m\n\u001b[0;31mSyntaxError\u001b[0m\u001b[0;31m:\u001b[0m expected ':'\n"
     ]
    }
   ],
   "source": [
    "x = 1\n",
    "if x > 5\n",
    "    print('x is greater than 5')"
   ]
  },
  {
   "cell_type": "code",
   "execution_count": null,
   "metadata": {},
   "outputs": [],
   "source": [
    "for i in range(5)\n",
    "    print(i)"
   ]
  },
  {
   "cell_type": "code",
   "execution_count": null,
   "metadata": {},
   "outputs": [],
   "source": [
    "def greet(name)\n",
    "    print(f'Hello, {name}')"
   ]
  },
  {
   "cell_type": "markdown",
   "metadata": {},
   "source": [
    "### Spazi\n",
    "\n",
    "- Fai attenzione a dove metti gli spazi.\n",
    "- Molte funzioni non richiedono spazi aggiuntivi.\n",
    "\n",
    "#### Esempi\n",
    "\n",
    "Ecco alcuni esempi di spaziatura **errata** nel codice.\n",
    "\n",
    "Il primo esempio ha uno spazio dopo `print`.\n"
   ]
  },
  {
   "cell_type": "code",
   "execution_count": null,
   "metadata": {},
   "outputs": [],
   "source": [
    "print ('Hello, world!')  # Extra space after print"
   ]
  },
  {
   "cell_type": "markdown",
   "metadata": {},
   "source": [
    "Questo codice contiene spazi extra:\n",
    "- Attorno a `=` per il valore predefinito del parametro: `def greet(name = 'World')`\n",
    "- Spazio tra il nome della funzione e le parentesi: `print ('Hello, ' + name)`\n",
    "- Spazio all'interno delle parentesi di chiamata: `greet ( 'Bob' )`\n",
    "\n",
    "Anche se il codice funzionerà comunque, è una cattiva pratica (secondo PEP 8)."
   ]
  },
  {
   "cell_type": "code",
   "execution_count": null,
   "metadata": {},
   "outputs": [],
   "source": [
    "def greet(name = 'World'):  \n",
    "    print ('Hello, ' + name)  \n",
    "greet ( 'Bob' ) "
   ]
  },
  {
   "cell_type": "markdown",
   "metadata": {},
   "source": [
    "Questa è la spaziatura corretta."
   ]
  },
  {
   "cell_type": "code",
   "execution_count": null,
   "metadata": {},
   "outputs": [],
   "source": [
    "def greet(name='World'):  \n",
    "    print('Hello, ' + name) \n",
    "greet('Bob')  \n"
   ]
  },
  {
   "cell_type": "markdown",
   "metadata": {},
   "source": [
    "!!! Lo slicing non mi da mai errore anche se considero degli indici che \n",
    "non ci sono sulla lista o la stringa, anche se la lista vuota"
   ]
  },
  {
   "cell_type": "code",
   "execution_count": null,
   "metadata": {},
   "outputs": [
    {
     "data": {
      "text/plain": [
       "('', [], [3])"
      ]
     },
     "execution_count": 6,
     "metadata": {},
     "output_type": "execute_result"
    }
   ],
   "source": [
    "lista = []\n",
    "lista2 = [2,3]\n",
    "stringa =\"\"\n",
    "\n",
    "stringa[1:2], lista[:], lista2[1:4]"
   ]
  },
  {
   "cell_type": "markdown",
   "metadata": {},
   "source": [
    "## Commenti\n",
    "\n",
    "* I commenti vengono utilizzati per spiegare il codice Python ed aiutano a renderlo più leggibile.\n",
    "* Possono essere usati per impedire l'esecuzione di parti di codice durante i test.\n",
    "\n",
    "### Linee guida generali\n",
    "\n",
    "Stiamo utilizzando lo standard **PEP 8** per i nostri commenti.\n",
    "\n",
    "* I commenti devono essere frasi complete, con la corretta capitalizzazione.\n",
    "* I commenti a blocchi sono commenti multi-frase o multi-riga, con ogni frase che termina con un punto.\n",
    "* Dopo un punto di fine frase, usa uno o due spazi, tranne dopo l'ultima frase.\n",
    "* I commenti devono essere chiari e facilmente comprensibili.\n",
    "\n",
    "Consulta la documentazione ufficiale [qui](https://peps.python.org/pep-0008/#comments).\n"
   ]
  },
  {
   "cell_type": "markdown",
   "metadata": {},
   "source": [
    "### Tipi di commenti\n",
    "\n",
    "Esistono quattro principali tipi di commenti:\n",
    "1. Commenti su una singola riga\n",
    "2. Commenti in linea\n",
    "3. Commenti a blocchi\n",
    "4. Docstring\n"
   ]
  },
  {
   "cell_type": "markdown",
   "metadata": {},
   "source": [
    "#### Commenti su una singola riga\n",
    "\n",
    "* Iniziano con `#`.\n",
    "* Non devono necessariamente contenere testo esplicativo; possono anche essere usati per impedire a Python di eseguire il codice.\n",
    "\n",
    "Esempio:\n",
    "\n",
    "```python\n",
    "# Questo è un commento su una singola riga.\n",
    "```"
   ]
  },
  {
   "cell_type": "markdown",
   "metadata": {},
   "source": [
    "#### Commenti in linea\n",
    "\n",
    "* Posizionati sulla stessa riga del codice che descrivono, seguendo il codice e separati da almeno due spazi.\n",
    "* Dovrebbero essere usati con parsimonia e solo quando aiutano significativamente la comprensione.\n",
    "\n",
    "Esempio:  \n",
    "\n",
    "```python\n",
    "x = x + 1  # Incrementa x"
   ]
  },
  {
   "cell_type": "markdown",
   "metadata": {},
   "source": [
    "#### Commenti a blocchi\n",
    "\n",
    "* I commenti a blocchi spiegano il codice che segue il commento e sono separati dal codice da una riga vuota sopra e, possibilmente, sotto il commento a blocchi.\n",
    "* Dovrebbero essere scritti come uno o più paragrafi composti da frasi complete.\n",
    "* Ogni riga di un commento a blocchi inizia con `#` seguito da uno spazio.\n",
    "\n",
    "Esempio:\n",
    "\n",
    "```python\n",
    "# Questo è un commento a blocchi. Può estendersi su più righe.\n",
    "# Questo paragrafo spiega in dettaglio il blocco di codice successivo.\n"
   ]
  },
  {
   "cell_type": "markdown",
   "metadata": {},
   "source": [
    "#### Docstring\n",
    "\n",
    "* Documentano lo scopo di un modulo, una classe o una funzione.\n",
    "* Sono racchiuse tra triple virgolette (`\"\"\"Docstring\"\"\"`) e posizionate immediatamente dopo la definizione della funzione o della classe.\n",
    "* Anche se non sono strettamente commenti, servono a scopo di documentazione in modo simile.\n",
    "\n",
    "Esempio:\n",
    "\n",
    "```python\n",
    "def add(a, b):\n",
    "    \"\"\"Restituisce la somma di a e b.\"\"\"\n",
    "    return a + b\n"
   ]
  },
  {
   "cell_type": "markdown",
   "metadata": {
    "id": "sGv0RJ4-awf3"
   },
   "source": [
    "# List Comprehensions"
   ]
  },
  {
   "cell_type": "markdown",
   "metadata": {},
   "source": [
    "## Note\n",
    "\n",
    "* Un modo per creare una nuova lista (con una sintassi più breve) basata sui valori di una lista esistente.\n",
    "\n",
    "Non è limitato solo alla **list comprehension**:\n",
    "- **set comprehension**\n",
    "- **tuple comprehension**\n",
    "- **dictionary comprehension**\n",
    "\n",
    "## Importanza\n",
    "\n",
    "Fornisce un metodo conciso per creare liste.  \n",
    "È utile per la manipolazione e il filtraggio dei dati in **pandas**.\n"
   ]
  },
  {
   "cell_type": "code",
   "execution_count": 2,
   "metadata": {},
   "outputs": [
    {
     "data": {
      "text/plain": [
       "([0, 1, 4, 9, 16, 25, 36, 49, 64, 81], [0, 1, 4, 9, 16, 25, 36, 49, 64, 81])"
      ]
     },
     "execution_count": 2,
     "metadata": {},
     "output_type": "execute_result"
    }
   ],
   "source": [
    "# Creare una lista dei quadrati dei numeri da 0 a 9\n",
    "\n",
    "# con un ciclo\n",
    "numbers = []\n",
    "for x in range(10):\n",
    "    numbers.append(x*x)\n",
    "\n",
    "# con la list comprehension\n",
    "numbers_listc = [x*x for x in range(10)]\n",
    "\n",
    "numbers, numbers_listc"
   ]
  },
  {
   "cell_type": "markdown",
   "metadata": {},
   "source": [
    "Ora stiamo aggiungendo una condizione **if** alla nostra **list comprehension**.  \n",
    "Questa condizione verifica se il numero è **pari** per ciascun valore (`x`) presente nella lista `range(10)`."
   ]
  },
  {
   "cell_type": "code",
   "execution_count": 3,
   "metadata": {},
   "outputs": [
    {
     "data": {
      "text/plain": [
       "[0, 4, 16, 36, 64]"
      ]
     },
     "execution_count": 3,
     "metadata": {},
     "output_type": "execute_result"
    }
   ],
   "source": [
    "# Creare una lista dei quadrati dei numeri pari tra 0 a 9\n",
    "    \n",
    "pair_numbers = [x*x for x in range(10) if x%2==0]\n",
    "\n",
    "pair_numbers "
   ]
  },
  {
   "cell_type": "code",
   "execution_count": 4,
   "metadata": {},
   "outputs": [
    {
     "data": {
      "text/plain": [
       "['c', 'i', 'a', 'o', ' ', 'g', 'i', 'g', 'i']"
      ]
     },
     "execution_count": 4,
     "metadata": {},
     "output_type": "execute_result"
    }
   ],
   "source": [
    "# Creare una lista dei caratteri di una stringa\n",
    "caratteri = [x for x in \"ciao gigi\"]\n",
    "caratteri"
   ]
  },
  {
   "cell_type": "markdown",
   "metadata": {},
   "source": [
    "Come detto posso fare uguale per set, tuple e dizionari"
   ]
  },
  {
   "cell_type": "code",
   "execution_count": 5,
   "metadata": {},
   "outputs": [
    {
     "data": {
      "text/plain": [
       "{' ', 'a', 'c', 'g', 'i', 'o'}"
      ]
     },
     "execution_count": 5,
     "metadata": {},
     "output_type": "execute_result"
    }
   ],
   "source": [
    "{x for x in \"ciao gigi\"}"
   ]
  },
  {
   "cell_type": "code",
   "execution_count": 6,
   "metadata": {},
   "outputs": [
    {
     "data": {
      "text/plain": [
       "True"
      ]
     },
     "execution_count": 6,
     "metadata": {},
     "output_type": "execute_result"
    }
   ],
   "source": [
    "mia_lista = [2,4,5]\n",
    "altra_lista = [1,2,3,4,5,6,7,8,9]\n",
    "\n",
    "all(mio_numero in altra_lista  for mio_numero in mia_lista)"
   ]
  },
  {
   "cell_type": "code",
   "execution_count": 7,
   "metadata": {},
   "outputs": [
    {
     "data": {
      "text/plain": [
       "True"
      ]
     },
     "execution_count": 7,
     "metadata": {},
     "output_type": "execute_result"
    }
   ],
   "source": [
    "all(lettera in \"supercalifragilistechespiralidoso\" for lettera in 'colla')"
   ]
  },
  {
   "cell_type": "markdown",
   "metadata": {},
   "source": [
    "## Tipi di Funzioni\n",
    "\n",
    "| Tipo di Funzione             | Esempio di Funzione           |\n",
    "|------------------------------|-------------------------------|\n",
    "| Funzioni Built-in            | `max()`                       | \n",
    "| Funzioni definite dall'utente | `def mia_funzione(): pass`   | \n",
    "| Funzioni lambda              | `lambda x: x + 1`             |\n",
    "| Funzioni dei moduli        | `math.sqrt()`             |\n",
    "| Funzioni di librerie esterne | `numpy.array()`               |\n"
   ]
  },
  {
   "cell_type": "markdown",
   "metadata": {},
   "source": [
    "# Lambda"
   ]
  },
  {
   "cell_type": "markdown",
   "metadata": {},
   "source": [
    "## Note\n",
    "\n",
    "* Le funzioni `lambda` sono piccole funzioni anonime.\n",
    "* Possono avere un numero qualsiasi di argomenti ma **una sola espressione**.\n",
    "* L'espressione viene valutata e restituita.\n",
    "* La sintassi è: `lambda argomenti: espressione`.\n",
    "* Perché usarle?\n",
    "    * Sono concise e permettono di scrivere funzioni in una singola riga di codice.\n",
    "    * Essendo anonime, non richiedono un nome separato come le funzioni definite con `def` (utili quando serve una funzione temporanea).\n",
    "\n",
    "## Importanza\n",
    "\n",
    "Offrono un modo sintetico per definire funzioni anonime.  \n",
    "Sono particolarmente utili in **pandas** per applicare rapidamente trasformazioni ai dati.\n"
   ]
  },
  {
   "cell_type": "code",
   "execution_count": 9,
   "metadata": {},
   "outputs": [
    {
     "data": {
      "text/plain": [
       "<function __main__.<lambda>(x, y)>"
      ]
     },
     "execution_count": 9,
     "metadata": {},
     "output_type": "execute_result"
    }
   ],
   "source": [
    "# Definire una funzione lambda per sommare due numeri\n",
    "somma = lambda x, y: x + y\n",
    "\n",
    "somma\n"
   ]
  },
  {
   "cell_type": "code",
   "execution_count": 10,
   "metadata": {},
   "outputs": [
    {
     "name": "stdout",
     "output_type": "stream",
     "text": [
      "8\n"
     ]
    }
   ],
   "source": [
    "# Utilizzare la funzione lambda per sommare due numeri\n",
    "risultato1 = somma(3, 5)\n",
    "print(risultato1)  # Output: 8\n"
   ]
  },
  {
   "cell_type": "markdown",
   "metadata": {},
   "source": [
    "### Esempio #1\n",
    "\n",
    "Creiamo una funzione per calcolare lo **stipendio totale**.\n",
    "\n",
    "Ma cosa succede se dobbiamo applicare questa funzione a una **lista** di stipendi?\n",
    "\n",
    "Possiamo usare la **list comprehension** per farlo in modo efficiente!\n"
   ]
  },
  {
   "cell_type": "code",
   "execution_count": 11,
   "metadata": {},
   "outputs": [
    {
     "data": {
      "text/plain": [
       "[110000.00000000001,\n",
       " 220000.00000000003,\n",
       " 165000.0,\n",
       " 132000.0,\n",
       " 88000.0,\n",
       " 825000.0000000001]"
      ]
     },
     "execution_count": 11,
     "metadata": {},
     "output_type": "execute_result"
    }
   ],
   "source": [
    "salary_list = [100000, 200000, 150000, 120000, 80000, 750000]\n",
    "\n",
    "def calculate_salary(base_salary, bonus_rate=.1):\n",
    "  return base_salary * (1 + bonus_rate)\n",
    "\n",
    "total_salary_list = [calculate_salary(salary) for salary in salary_list]\n",
    "\n",
    "total_salary_list"
   ]
  },
  {
   "cell_type": "code",
   "execution_count": 12,
   "metadata": {},
   "outputs": [
    {
     "data": {
      "text/plain": [
       "[110000.00000000001,\n",
       " 220000.00000000003,\n",
       " 165000.0,\n",
       " 132000.0,\n",
       " 88000.0,\n",
       " 825000.0000000001]"
      ]
     },
     "execution_count": 12,
     "metadata": {},
     "output_type": "execute_result"
    }
   ],
   "source": [
    "total_salary_list = [(lambda x: x * (1.1))(salary) for salary in salary_list]\n",
    "\n",
    "total_salary_list"
   ]
  },
  {
   "cell_type": "markdown",
   "metadata": {},
   "source": [
    "**NOTA: Questo esempio è stato fornito a scopo dimostrativo per l'uso di lambda**  \n",
    "\n",
    "Tecnicamente, potresti semplicemente fare così:"
   ]
  },
  {
   "cell_type": "code",
   "execution_count": 13,
   "metadata": {},
   "outputs": [
    {
     "data": {
      "text/plain": [
       "[110000.00000000001,\n",
       " 220000.00000000003,\n",
       " 165000.0,\n",
       " 132000.0,\n",
       " 88000.0,\n",
       " 825000.0000000001]"
      ]
     },
     "execution_count": 13,
     "metadata": {},
     "output_type": "execute_result"
    }
   ],
   "source": [
    "total_salary_list = [salary * 1.1 for salary in salary_list]\n",
    "\n",
    "total_salary_list"
   ]
  },
  {
   "cell_type": "markdown",
   "metadata": {},
   "source": [
    "### Esempio #2\n",
    "\n",
    "Filtra le offerte di lavoro in base ai seguenti criteri:\n",
    "- Le competenze richieste includono \"Python\"\n",
    "- Il lavoro è remoto (cioè, `True`)\n"
   ]
  },
  {
   "cell_type": "code",
   "execution_count": 15,
   "metadata": {},
   "outputs": [],
   "source": [
    "jobs_data = [\n",
    "    {'job_title': 'Data Scientist',  'job_skills': ['Python', 'Machine Learning'], 'remote': True},\n",
    "    {'job_title': 'Data Analyst',  'job_skills': ['Excel', 'SQL'], 'remote': False},\n",
    "    {'job_title': 'Machine Learning Engineer', 'job_skills': ['Python', 'TensorFlow', 'Keras'], 'remote': True},\n",
    "    {'job_title': 'Software Developer', 'job_skills': ['Java', 'C++'], 'remote': True},\n",
    "    {'job_title': 'Data Scientist', 'job_skills': ['R', 'Statistics'], 'remote': False}\n",
    "]"
   ]
  },
  {
   "cell_type": "markdown",
   "metadata": {},
   "source": [
    "Per questo utilizzeremo la funzione `filter()`\n"
   ]
  },
  {
   "cell_type": "code",
   "execution_count": null,
   "metadata": {},
   "outputs": [],
   "source": [
    "help(filter)"
   ]
  },
  {
   "cell_type": "markdown",
   "metadata": {},
   "source": [
    "Per la funzione `  filter(function or None, iterable) --> filter object`, \n",
    "sono necessari due argomenti:\n",
    "- Una funzione (useremo una funzione lambda)\n",
    "- Un iterabile (useremo `job_data` per questo)\n",
    "   \n",
    " Restituisce un iteratore che produce solo gli elementi dell'iterabile per cui `function(item)` restituisce `True`.  \n",
    " Se `function` è `None`, vengono restituiti gli elementi che sono valutati come `True`."
   ]
  },
  {
   "cell_type": "markdown",
   "metadata": {},
   "source": [
    "Ora rendiamolo più leggibile e aggiungiamo il filtro per \"Python\".\n"
   ]
  },
  {
   "cell_type": "code",
   "execution_count": 18,
   "metadata": {},
   "outputs": [
    {
     "data": {
      "text/plain": [
       "[{'job_title': 'Data Scientist',\n",
       "  'job_skills': ['Python', 'Machine Learning'],\n",
       "  'remote': True},\n",
       " {'job_title': 'Machine Learning Engineer',\n",
       "  'job_skills': ['Python', 'TensorFlow', 'Keras'],\n",
       "  'remote': True},\n",
       " {'job_title': 'Software Developer',\n",
       "  'job_skills': ['Java', 'C++'],\n",
       "  'remote': True}]"
      ]
     },
     "execution_count": 18,
     "metadata": {},
     "output_type": "execute_result"
    }
   ],
   "source": [
    "list(filter(lambda job: job['remote'], jobs_data))"
   ]
  },
  {
   "cell_type": "markdown",
   "metadata": {},
   "source": [
    "# Moduli"
   ]
  },
  {
   "cell_type": "markdown",
   "metadata": {},
   "source": [
    "## Cos'è un Modulo\n",
    "\n",
    "* È un file che contiene un insieme di funzioni che vuoi includere.\n",
    "* Considera un modulo come una libreria di codice.\n",
    "\n",
    "#### Importanza\n",
    "\n",
    "Essenziale per accedere alle funzionalità di pandas e Matplotlib, permettendo l'analisi e la visualizzazione dei dati."
   ]
  },
  {
   "cell_type": "markdown",
   "metadata": {},
   "source": [
    "Esamineremo due tipi principali di moduli:\n",
    "\n",
    "1. **Moduli importati dalla libreria standard o esterna (Imported Modules)**\n",
    "1. **Moduli definiti dall'utente (User Defined)**\n",
    "\n"
   ]
  },
  {
   "cell_type": "markdown",
   "metadata": {},
   "source": [
    "# Moduli della Libreria Standard di Python\n",
    "\n",
    "- Python dispone di una **varietà di moduli standard** che forniscono funzionalità utili senza bisogno di installazioni aggiuntive.\n",
    "- Ecco alcuni dei moduli più comuni:\n",
    "\n",
    "  - **math** → Funzioni matematiche (trigonometria, logaritmi, ecc.).\n",
    "  - **random** → Generazione di numeri casuali.\n",
    "  - **statistics** →  Funzioni statistiche.\n",
    "  - **datetime** → Classi per la gestione di date e orari.\n",
    "  - **json** → Funzioni per codificare e decodificare dati in formato JSON.\n",
    "  - **csv** → Classi per leggere e scrivere dati in formato CSV.\n",
    "  - **re** → Supporto per espressioni regolari per la manipolazione e la ricerca di pattern.\n",
    "\n",
    "\n",
    "Puoi consultare il codice sorgente dei moduli standard di Python su GitHub:  \n",
    "🔗 [Python Standard Library Source Code](https://github.com/python/cpython/tree/3.12/Lib)"
   ]
  },
  {
   "cell_type": "markdown",
   "metadata": {},
   "source": [
    "Abbiamo già visto delle librerie standard di python che sono singoli moduli come random o math\n"
   ]
  },
  {
   "cell_type": "code",
   "execution_count": 19,
   "metadata": {},
   "outputs": [
    {
     "data": {
      "text/plain": [
       "5"
      ]
     },
     "execution_count": 19,
     "metadata": {},
     "output_type": "execute_result"
    }
   ],
   "source": [
    "import random\n",
    "\n",
    "random.randint(0,5)"
   ]
  },
  {
   "cell_type": "code",
   "execution_count": 20,
   "metadata": {},
   "outputs": [
    {
     "name": "stdout",
     "output_type": "stream",
     "text": [
      "Help on module random:\n",
      "\n",
      "NAME\n",
      "    random - Random variable generators.\n",
      "\n",
      "MODULE REFERENCE\n",
      "    https://docs.python.org/3.12/library/random.html\n",
      "\n",
      "    The following documentation is automatically generated from the Python\n",
      "    source files.  It may be incomplete, incorrect or include features that\n",
      "    are considered implementation detail and may vary between Python\n",
      "    implementations.  When in doubt, consult the module reference at the\n",
      "    location listed above.\n",
      "\n",
      "DESCRIPTION\n",
      "        bytes\n",
      "        -----\n",
      "               uniform bytes (values between 0 and 255)\n",
      "\n",
      "        integers\n",
      "        --------\n",
      "               uniform within range\n",
      "\n",
      "        sequences\n",
      "        ---------\n",
      "               pick random element\n",
      "               pick random sample\n",
      "               pick weighted random sample\n",
      "               generate random permutation\n",
      "\n",
      "        distributions on the real line:\n",
      "        ------------------------------\n",
      "               uniform\n",
      "               triangular\n",
      "               normal (Gaussian)\n",
      "               lognormal\n",
      "               negative exponential\n",
      "               gamma\n",
      "               beta\n",
      "               pareto\n",
      "               Weibull\n",
      "\n",
      "        distributions on the circle (angles 0 to 2pi)\n",
      "        ---------------------------------------------\n",
      "               circular uniform\n",
      "               von Mises\n",
      "\n",
      "        discrete distributions\n",
      "        ----------------------\n",
      "               binomial\n",
      "\n",
      "\n",
      "    General notes on the underlying Mersenne Twister core generator:\n",
      "\n",
      "    * The period is 2**19937-1.\n",
      "    * It is one of the most extensively tested generators in existence.\n",
      "    * The random() method is implemented in C, executes in a single Python step,\n",
      "      and is, therefore, threadsafe.\n",
      "\n",
      "CLASSES\n",
      "    _random.Random(builtins.object)\n",
      "        Random\n",
      "            SystemRandom\n",
      "\n",
      "    class Random(_random.Random)\n",
      "     |  Random(x=None)\n",
      "     |\n",
      "     |  Random number generator base class used by bound module functions.\n",
      "     |\n",
      "     |  Used to instantiate instances of Random to get generators that don't\n",
      "     |  share state.\n",
      "     |\n",
      "     |  Class Random can also be subclassed if you want to use a different basic\n",
      "     |  generator of your own devising: in that case, override the following\n",
      "     |  methods:  random(), seed(), getstate(), and setstate().\n",
      "     |  Optionally, implement a getrandbits() method so that randrange()\n",
      "     |  can cover arbitrarily large ranges.\n",
      "     |\n",
      "     |  Method resolution order:\n",
      "     |      Random\n",
      "     |      _random.Random\n",
      "     |      builtins.object\n",
      "     |\n",
      "     |  Methods defined here:\n",
      "     |\n",
      "     |  __getstate__(self)\n",
      "     |      Helper for pickle.\n",
      "     |\n",
      "     |  __init__(self, x=None)\n",
      "     |      Initialize an instance.\n",
      "     |\n",
      "     |      Optional argument x controls seeding, as for Random.seed().\n",
      "     |\n",
      "     |  __reduce__(self)\n",
      "     |      Helper for pickle.\n",
      "     |\n",
      "     |  __setstate__(self, state)\n",
      "     |\n",
      "     |  betavariate(self, alpha, beta)\n",
      "     |      Beta distribution.\n",
      "     |\n",
      "     |      Conditions on the parameters are alpha > 0 and beta > 0.\n",
      "     |      Returned values range between 0 and 1.\n",
      "     |\n",
      "     |      The mean (expected value) and variance of the random variable are:\n",
      "     |\n",
      "     |          E[X] = alpha / (alpha + beta)\n",
      "     |          Var[X] = alpha * beta / ((alpha + beta)**2 * (alpha + beta + 1))\n",
      "     |\n",
      "     |  binomialvariate(self, n=1, p=0.5)\n",
      "     |      Binomial random variable.\n",
      "     |\n",
      "     |      Gives the number of successes for *n* independent trials\n",
      "     |      with the probability of success in each trial being *p*:\n",
      "     |\n",
      "     |          sum(random() < p for i in range(n))\n",
      "     |\n",
      "     |      Returns an integer in the range:   0 <= X <= n\n",
      "     |\n",
      "     |      The mean (expected value) and variance of the random variable are:\n",
      "     |\n",
      "     |          E[X] = n * p\n",
      "     |          Var[x] = n * p * (1 - p)\n",
      "     |\n",
      "     |  choice(self, seq)\n",
      "     |      Choose a random element from a non-empty sequence.\n",
      "     |\n",
      "     |  choices(self, population, weights=None, *, cum_weights=None, k=1)\n",
      "     |      Return a k sized list of population elements chosen with replacement.\n",
      "     |\n",
      "     |      If the relative weights or cumulative weights are not specified,\n",
      "     |      the selections are made with equal probability.\n",
      "     |\n",
      "     |  expovariate(self, lambd=1.0)\n",
      "     |      Exponential distribution.\n",
      "     |\n",
      "     |      lambd is 1.0 divided by the desired mean.  It should be\n",
      "     |      nonzero.  (The parameter would be called \"lambda\", but that is\n",
      "     |      a reserved word in Python.)  Returned values range from 0 to\n",
      "     |      positive infinity if lambd is positive, and from negative\n",
      "     |      infinity to 0 if lambd is negative.\n",
      "     |\n",
      "     |      The mean (expected value) and variance of the random variable are:\n",
      "     |\n",
      "     |          E[X] = 1 / lambd\n",
      "     |          Var[X] = 1 / lambd ** 2\n",
      "     |\n",
      "     |  gammavariate(self, alpha, beta)\n",
      "     |      Gamma distribution.  Not the gamma function!\n",
      "     |\n",
      "     |      Conditions on the parameters are alpha > 0 and beta > 0.\n",
      "     |\n",
      "     |      The probability distribution function is:\n",
      "     |\n",
      "     |                  x ** (alpha - 1) * math.exp(-x / beta)\n",
      "     |        pdf(x) =  --------------------------------------\n",
      "     |                    math.gamma(alpha) * beta ** alpha\n",
      "     |\n",
      "     |      The mean (expected value) and variance of the random variable are:\n",
      "     |\n",
      "     |          E[X] = alpha * beta\n",
      "     |          Var[X] = alpha * beta ** 2\n",
      "     |\n",
      "     |  gauss(self, mu=0.0, sigma=1.0)\n",
      "     |      Gaussian distribution.\n",
      "     |\n",
      "     |      mu is the mean, and sigma is the standard deviation.  This is\n",
      "     |      slightly faster than the normalvariate() function.\n",
      "     |\n",
      "     |      Not thread-safe without a lock around calls.\n",
      "     |\n",
      "     |  getstate(self)\n",
      "     |      Return internal state; can be passed to setstate() later.\n",
      "     |\n",
      "     |  lognormvariate(self, mu, sigma)\n",
      "     |      Log normal distribution.\n",
      "     |\n",
      "     |      If you take the natural logarithm of this distribution, you'll get a\n",
      "     |      normal distribution with mean mu and standard deviation sigma.\n",
      "     |      mu can have any value, and sigma must be greater than zero.\n",
      "     |\n",
      "     |  normalvariate(self, mu=0.0, sigma=1.0)\n",
      "     |      Normal distribution.\n",
      "     |\n",
      "     |      mu is the mean, and sigma is the standard deviation.\n",
      "     |\n",
      "     |  paretovariate(self, alpha)\n",
      "     |      Pareto distribution.  alpha is the shape parameter.\n",
      "     |\n",
      "     |  randbytes(self, n)\n",
      "     |      Generate n random bytes.\n",
      "     |\n",
      "     |  randint(self, a, b)\n",
      "     |      Return random integer in range [a, b], including both end points.\n",
      "     |\n",
      "     |  randrange(self, start, stop=None, step=1)\n",
      "     |      Choose a random item from range(stop) or range(start, stop[, step]).\n",
      "     |\n",
      "     |      Roughly equivalent to ``choice(range(start, stop, step))`` but\n",
      "     |      supports arbitrarily large ranges and is optimized for common cases.\n",
      "     |\n",
      "     |  sample(self, population, k, *, counts=None)\n",
      "     |      Chooses k unique random elements from a population sequence.\n",
      "     |\n",
      "     |      Returns a new list containing elements from the population while\n",
      "     |      leaving the original population unchanged.  The resulting list is\n",
      "     |      in selection order so that all sub-slices will also be valid random\n",
      "     |      samples.  This allows raffle winners (the sample) to be partitioned\n",
      "     |      into grand prize and second place winners (the subslices).\n",
      "     |\n",
      "     |      Members of the population need not be hashable or unique.  If the\n",
      "     |      population contains repeats, then each occurrence is a possible\n",
      "     |      selection in the sample.\n",
      "     |\n",
      "     |      Repeated elements can be specified one at a time or with the optional\n",
      "     |      counts parameter.  For example:\n",
      "     |\n",
      "     |          sample(['red', 'blue'], counts=[4, 2], k=5)\n",
      "     |\n",
      "     |      is equivalent to:\n",
      "     |\n",
      "     |          sample(['red', 'red', 'red', 'red', 'blue', 'blue'], k=5)\n",
      "     |\n",
      "     |      To choose a sample from a range of integers, use range() for the\n",
      "     |      population argument.  This is especially fast and space efficient\n",
      "     |      for sampling from a large population:\n",
      "     |\n",
      "     |          sample(range(10000000), 60)\n",
      "     |\n",
      "     |  seed(self, a=None, version=2)\n",
      "     |      Initialize internal state from a seed.\n",
      "     |\n",
      "     |      The only supported seed types are None, int, float,\n",
      "     |      str, bytes, and bytearray.\n",
      "     |\n",
      "     |      None or no argument seeds from current time or from an operating\n",
      "     |      system specific randomness source if available.\n",
      "     |\n",
      "     |      If *a* is an int, all bits are used.\n",
      "     |\n",
      "     |      For version 2 (the default), all of the bits are used if *a* is a str,\n",
      "     |      bytes, or bytearray.  For version 1 (provided for reproducing random\n",
      "     |      sequences from older versions of Python), the algorithm for str and\n",
      "     |      bytes generates a narrower range of seeds.\n",
      "     |\n",
      "     |  setstate(self, state)\n",
      "     |      Restore internal state from object returned by getstate().\n",
      "     |\n",
      "     |  shuffle(self, x)\n",
      "     |      Shuffle list x in place, and return None.\n",
      "     |\n",
      "     |  triangular(self, low=0.0, high=1.0, mode=None)\n",
      "     |      Triangular distribution.\n",
      "     |\n",
      "     |      Continuous distribution bounded by given lower and upper limits,\n",
      "     |      and having a given mode value in-between.\n",
      "     |\n",
      "     |      http://en.wikipedia.org/wiki/Triangular_distribution\n",
      "     |\n",
      "     |      The mean (expected value) and variance of the random variable are:\n",
      "     |\n",
      "     |          E[X] = (low + high + mode) / 3\n",
      "     |          Var[X] = (low**2 + high**2 + mode**2 - low*high - low*mode - high*mode) / 18\n",
      "     |\n",
      "     |  uniform(self, a, b)\n",
      "     |      Get a random number in the range [a, b) or [a, b] depending on rounding.\n",
      "     |\n",
      "     |      The mean (expected value) and variance of the random variable are:\n",
      "     |\n",
      "     |          E[X] = (a + b) / 2\n",
      "     |          Var[X] = (b - a) ** 2 / 12\n",
      "     |\n",
      "     |  vonmisesvariate(self, mu, kappa)\n",
      "     |      Circular data distribution.\n",
      "     |\n",
      "     |      mu is the mean angle, expressed in radians between 0 and 2*pi, and\n",
      "     |      kappa is the concentration parameter, which must be greater than or\n",
      "     |      equal to zero.  If kappa is equal to zero, this distribution reduces\n",
      "     |      to a uniform random angle over the range 0 to 2*pi.\n",
      "     |\n",
      "     |  weibullvariate(self, alpha, beta)\n",
      "     |      Weibull distribution.\n",
      "     |\n",
      "     |      alpha is the scale parameter and beta is the shape parameter.\n",
      "     |\n",
      "     |  ----------------------------------------------------------------------\n",
      "     |  Class methods defined here:\n",
      "     |\n",
      "     |  __init_subclass__(**kwargs)\n",
      "     |      Control how subclasses generate random integers.\n",
      "     |\n",
      "     |      The algorithm a subclass can use depends on the random() and/or\n",
      "     |      getrandbits() implementation available to it and determines\n",
      "     |      whether it can generate random integers from arbitrarily large\n",
      "     |      ranges.\n",
      "     |\n",
      "     |  ----------------------------------------------------------------------\n",
      "     |  Data descriptors defined here:\n",
      "     |\n",
      "     |  __dict__\n",
      "     |      dictionary for instance variables\n",
      "     |\n",
      "     |  __weakref__\n",
      "     |      list of weak references to the object\n",
      "     |\n",
      "     |  ----------------------------------------------------------------------\n",
      "     |  Data and other attributes defined here:\n",
      "     |\n",
      "     |  VERSION = 3\n",
      "     |\n",
      "     |  ----------------------------------------------------------------------\n",
      "     |  Methods inherited from _random.Random:\n",
      "     |\n",
      "     |  getrandbits(self, k, /)\n",
      "     |      getrandbits(k) -> x.  Generates an int with k random bits.\n",
      "     |\n",
      "     |  random(self, /)\n",
      "     |      random() -> x in the interval [0, 1).\n",
      "     |\n",
      "     |  ----------------------------------------------------------------------\n",
      "     |  Static methods inherited from _random.Random:\n",
      "     |\n",
      "     |  __new__(*args, **kwargs) class method of _random.Random\n",
      "     |      Create and return a new object.  See help(type) for accurate signature.\n",
      "\n",
      "    class SystemRandom(Random)\n",
      "     |  SystemRandom(x=None)\n",
      "     |\n",
      "     |  Alternate random number generator using sources provided\n",
      "     |  by the operating system (such as /dev/urandom on Unix or\n",
      "     |  CryptGenRandom on Windows).\n",
      "     |\n",
      "     |   Not available on all systems (see os.urandom() for details).\n",
      "     |\n",
      "     |  Method resolution order:\n",
      "     |      SystemRandom\n",
      "     |      Random\n",
      "     |      _random.Random\n",
      "     |      builtins.object\n",
      "     |\n",
      "     |  Methods defined here:\n",
      "     |\n",
      "     |  getrandbits(self, k)\n",
      "     |      getrandbits(k) -> x.  Generates an int with k random bits.\n",
      "     |\n",
      "     |  getstate = _notimplemented(self, *args, **kwds)\n",
      "     |\n",
      "     |  randbytes(self, n)\n",
      "     |      Generate n random bytes.\n",
      "     |\n",
      "     |  random(self)\n",
      "     |      Get the next random number in the range 0.0 <= X < 1.0.\n",
      "     |\n",
      "     |  seed(self, *args, **kwds)\n",
      "     |      Stub method.  Not used for a system random number generator.\n",
      "     |\n",
      "     |  setstate = _notimplemented(self, *args, **kwds)\n",
      "     |\n",
      "     |  ----------------------------------------------------------------------\n",
      "     |  Methods inherited from Random:\n",
      "     |\n",
      "     |  __getstate__(self)\n",
      "     |      Helper for pickle.\n",
      "     |\n",
      "     |  __init__(self, x=None)\n",
      "     |      Initialize an instance.\n",
      "     |\n",
      "     |      Optional argument x controls seeding, as for Random.seed().\n",
      "     |\n",
      "     |  __reduce__(self)\n",
      "     |      Helper for pickle.\n",
      "     |\n",
      "     |  __setstate__(self, state)\n",
      "     |\n",
      "     |  betavariate(self, alpha, beta)\n",
      "     |      Beta distribution.\n",
      "     |\n",
      "     |      Conditions on the parameters are alpha > 0 and beta > 0.\n",
      "     |      Returned values range between 0 and 1.\n",
      "     |\n",
      "     |      The mean (expected value) and variance of the random variable are:\n",
      "     |\n",
      "     |          E[X] = alpha / (alpha + beta)\n",
      "     |          Var[X] = alpha * beta / ((alpha + beta)**2 * (alpha + beta + 1))\n",
      "     |\n",
      "     |  binomialvariate(self, n=1, p=0.5)\n",
      "     |      Binomial random variable.\n",
      "     |\n",
      "     |      Gives the number of successes for *n* independent trials\n",
      "     |      with the probability of success in each trial being *p*:\n",
      "     |\n",
      "     |          sum(random() < p for i in range(n))\n",
      "     |\n",
      "     |      Returns an integer in the range:   0 <= X <= n\n",
      "     |\n",
      "     |      The mean (expected value) and variance of the random variable are:\n",
      "     |\n",
      "     |          E[X] = n * p\n",
      "     |          Var[x] = n * p * (1 - p)\n",
      "     |\n",
      "     |  choice(self, seq)\n",
      "     |      Choose a random element from a non-empty sequence.\n",
      "     |\n",
      "     |  choices(self, population, weights=None, *, cum_weights=None, k=1)\n",
      "     |      Return a k sized list of population elements chosen with replacement.\n",
      "     |\n",
      "     |      If the relative weights or cumulative weights are not specified,\n",
      "     |      the selections are made with equal probability.\n",
      "     |\n",
      "     |  expovariate(self, lambd=1.0)\n",
      "     |      Exponential distribution.\n",
      "     |\n",
      "     |      lambd is 1.0 divided by the desired mean.  It should be\n",
      "     |      nonzero.  (The parameter would be called \"lambda\", but that is\n",
      "     |      a reserved word in Python.)  Returned values range from 0 to\n",
      "     |      positive infinity if lambd is positive, and from negative\n",
      "     |      infinity to 0 if lambd is negative.\n",
      "     |\n",
      "     |      The mean (expected value) and variance of the random variable are:\n",
      "     |\n",
      "     |          E[X] = 1 / lambd\n",
      "     |          Var[X] = 1 / lambd ** 2\n",
      "     |\n",
      "     |  gammavariate(self, alpha, beta)\n",
      "     |      Gamma distribution.  Not the gamma function!\n",
      "     |\n",
      "     |      Conditions on the parameters are alpha > 0 and beta > 0.\n",
      "     |\n",
      "     |      The probability distribution function is:\n",
      "     |\n",
      "     |                  x ** (alpha - 1) * math.exp(-x / beta)\n",
      "     |        pdf(x) =  --------------------------------------\n",
      "     |                    math.gamma(alpha) * beta ** alpha\n",
      "     |\n",
      "     |      The mean (expected value) and variance of the random variable are:\n",
      "     |\n",
      "     |          E[X] = alpha * beta\n",
      "     |          Var[X] = alpha * beta ** 2\n",
      "     |\n",
      "     |  gauss(self, mu=0.0, sigma=1.0)\n",
      "     |      Gaussian distribution.\n",
      "     |\n",
      "     |      mu is the mean, and sigma is the standard deviation.  This is\n",
      "     |      slightly faster than the normalvariate() function.\n",
      "     |\n",
      "     |      Not thread-safe without a lock around calls.\n",
      "     |\n",
      "     |  lognormvariate(self, mu, sigma)\n",
      "     |      Log normal distribution.\n",
      "     |\n",
      "     |      If you take the natural logarithm of this distribution, you'll get a\n",
      "     |      normal distribution with mean mu and standard deviation sigma.\n",
      "     |      mu can have any value, and sigma must be greater than zero.\n",
      "     |\n",
      "     |  normalvariate(self, mu=0.0, sigma=1.0)\n",
      "     |      Normal distribution.\n",
      "     |\n",
      "     |      mu is the mean, and sigma is the standard deviation.\n",
      "     |\n",
      "     |  paretovariate(self, alpha)\n",
      "     |      Pareto distribution.  alpha is the shape parameter.\n",
      "     |\n",
      "     |  randint(self, a, b)\n",
      "     |      Return random integer in range [a, b], including both end points.\n",
      "     |\n",
      "     |  randrange(self, start, stop=None, step=1)\n",
      "     |      Choose a random item from range(stop) or range(start, stop[, step]).\n",
      "     |\n",
      "     |      Roughly equivalent to ``choice(range(start, stop, step))`` but\n",
      "     |      supports arbitrarily large ranges and is optimized for common cases.\n",
      "     |\n",
      "     |  sample(self, population, k, *, counts=None)\n",
      "     |      Chooses k unique random elements from a population sequence.\n",
      "     |\n",
      "     |      Returns a new list containing elements from the population while\n",
      "     |      leaving the original population unchanged.  The resulting list is\n",
      "     |      in selection order so that all sub-slices will also be valid random\n",
      "     |      samples.  This allows raffle winners (the sample) to be partitioned\n",
      "     |      into grand prize and second place winners (the subslices).\n",
      "     |\n",
      "     |      Members of the population need not be hashable or unique.  If the\n",
      "     |      population contains repeats, then each occurrence is a possible\n",
      "     |      selection in the sample.\n",
      "     |\n",
      "     |      Repeated elements can be specified one at a time or with the optional\n",
      "     |      counts parameter.  For example:\n",
      "     |\n",
      "     |          sample(['red', 'blue'], counts=[4, 2], k=5)\n",
      "     |\n",
      "     |      is equivalent to:\n",
      "     |\n",
      "     |          sample(['red', 'red', 'red', 'red', 'blue', 'blue'], k=5)\n",
      "     |\n",
      "     |      To choose a sample from a range of integers, use range() for the\n",
      "     |      population argument.  This is especially fast and space efficient\n",
      "     |      for sampling from a large population:\n",
      "     |\n",
      "     |          sample(range(10000000), 60)\n",
      "     |\n",
      "     |  shuffle(self, x)\n",
      "     |      Shuffle list x in place, and return None.\n",
      "     |\n",
      "     |  triangular(self, low=0.0, high=1.0, mode=None)\n",
      "     |      Triangular distribution.\n",
      "     |\n",
      "     |      Continuous distribution bounded by given lower and upper limits,\n",
      "     |      and having a given mode value in-between.\n",
      "     |\n",
      "     |      http://en.wikipedia.org/wiki/Triangular_distribution\n",
      "     |\n",
      "     |      The mean (expected value) and variance of the random variable are:\n",
      "     |\n",
      "     |          E[X] = (low + high + mode) / 3\n",
      "     |          Var[X] = (low**2 + high**2 + mode**2 - low*high - low*mode - high*mode) / 18\n",
      "     |\n",
      "     |  uniform(self, a, b)\n",
      "     |      Get a random number in the range [a, b) or [a, b] depending on rounding.\n",
      "     |\n",
      "     |      The mean (expected value) and variance of the random variable are:\n",
      "     |\n",
      "     |          E[X] = (a + b) / 2\n",
      "     |          Var[X] = (b - a) ** 2 / 12\n",
      "     |\n",
      "     |  vonmisesvariate(self, mu, kappa)\n",
      "     |      Circular data distribution.\n",
      "     |\n",
      "     |      mu is the mean angle, expressed in radians between 0 and 2*pi, and\n",
      "     |      kappa is the concentration parameter, which must be greater than or\n",
      "     |      equal to zero.  If kappa is equal to zero, this distribution reduces\n",
      "     |      to a uniform random angle over the range 0 to 2*pi.\n",
      "     |\n",
      "     |  weibullvariate(self, alpha, beta)\n",
      "     |      Weibull distribution.\n",
      "     |\n",
      "     |      alpha is the scale parameter and beta is the shape parameter.\n",
      "     |\n",
      "     |  ----------------------------------------------------------------------\n",
      "     |  Class methods inherited from Random:\n",
      "     |\n",
      "     |  __init_subclass__(**kwargs)\n",
      "     |      Control how subclasses generate random integers.\n",
      "     |\n",
      "     |      The algorithm a subclass can use depends on the random() and/or\n",
      "     |      getrandbits() implementation available to it and determines\n",
      "     |      whether it can generate random integers from arbitrarily large\n",
      "     |      ranges.\n",
      "     |\n",
      "     |  ----------------------------------------------------------------------\n",
      "     |  Data descriptors inherited from Random:\n",
      "     |\n",
      "     |  __dict__\n",
      "     |      dictionary for instance variables\n",
      "     |\n",
      "     |  __weakref__\n",
      "     |      list of weak references to the object\n",
      "     |\n",
      "     |  ----------------------------------------------------------------------\n",
      "     |  Data and other attributes inherited from Random:\n",
      "     |\n",
      "     |  VERSION = 3\n",
      "     |\n",
      "     |  ----------------------------------------------------------------------\n",
      "     |  Static methods inherited from _random.Random:\n",
      "     |\n",
      "     |  __new__(*args, **kwargs) class method of _random.Random\n",
      "     |      Create and return a new object.  See help(type) for accurate signature.\n",
      "\n",
      "FUNCTIONS\n",
      "    betavariate(alpha, beta) method of Random instance\n",
      "        Beta distribution.\n",
      "\n",
      "        Conditions on the parameters are alpha > 0 and beta > 0.\n",
      "        Returned values range between 0 and 1.\n",
      "\n",
      "        The mean (expected value) and variance of the random variable are:\n",
      "\n",
      "            E[X] = alpha / (alpha + beta)\n",
      "            Var[X] = alpha * beta / ((alpha + beta)**2 * (alpha + beta + 1))\n",
      "\n",
      "    binomialvariate(n=1, p=0.5) method of Random instance\n",
      "        Binomial random variable.\n",
      "\n",
      "        Gives the number of successes for *n* independent trials\n",
      "        with the probability of success in each trial being *p*:\n",
      "\n",
      "            sum(random() < p for i in range(n))\n",
      "\n",
      "        Returns an integer in the range:   0 <= X <= n\n",
      "\n",
      "        The mean (expected value) and variance of the random variable are:\n",
      "\n",
      "            E[X] = n * p\n",
      "            Var[x] = n * p * (1 - p)\n",
      "\n",
      "    choice(seq) method of Random instance\n",
      "        Choose a random element from a non-empty sequence.\n",
      "\n",
      "    choices(population, weights=None, *, cum_weights=None, k=1) method of Random instance\n",
      "        Return a k sized list of population elements chosen with replacement.\n",
      "\n",
      "        If the relative weights or cumulative weights are not specified,\n",
      "        the selections are made with equal probability.\n",
      "\n",
      "    expovariate(lambd=1.0) method of Random instance\n",
      "        Exponential distribution.\n",
      "\n",
      "        lambd is 1.0 divided by the desired mean.  It should be\n",
      "        nonzero.  (The parameter would be called \"lambda\", but that is\n",
      "        a reserved word in Python.)  Returned values range from 0 to\n",
      "        positive infinity if lambd is positive, and from negative\n",
      "        infinity to 0 if lambd is negative.\n",
      "\n",
      "        The mean (expected value) and variance of the random variable are:\n",
      "\n",
      "            E[X] = 1 / lambd\n",
      "            Var[X] = 1 / lambd ** 2\n",
      "\n",
      "    gammavariate(alpha, beta) method of Random instance\n",
      "        Gamma distribution.  Not the gamma function!\n",
      "\n",
      "        Conditions on the parameters are alpha > 0 and beta > 0.\n",
      "\n",
      "        The probability distribution function is:\n",
      "\n",
      "                    x ** (alpha - 1) * math.exp(-x / beta)\n",
      "          pdf(x) =  --------------------------------------\n",
      "                      math.gamma(alpha) * beta ** alpha\n",
      "\n",
      "        The mean (expected value) and variance of the random variable are:\n",
      "\n",
      "            E[X] = alpha * beta\n",
      "            Var[X] = alpha * beta ** 2\n",
      "\n",
      "    gauss(mu=0.0, sigma=1.0) method of Random instance\n",
      "        Gaussian distribution.\n",
      "\n",
      "        mu is the mean, and sigma is the standard deviation.  This is\n",
      "        slightly faster than the normalvariate() function.\n",
      "\n",
      "        Not thread-safe without a lock around calls.\n",
      "\n",
      "    getrandbits(k, /) method of Random instance\n",
      "        getrandbits(k) -> x.  Generates an int with k random bits.\n",
      "\n",
      "    getstate() method of Random instance\n",
      "        Return internal state; can be passed to setstate() later.\n",
      "\n",
      "    lognormvariate(mu, sigma) method of Random instance\n",
      "        Log normal distribution.\n",
      "\n",
      "        If you take the natural logarithm of this distribution, you'll get a\n",
      "        normal distribution with mean mu and standard deviation sigma.\n",
      "        mu can have any value, and sigma must be greater than zero.\n",
      "\n",
      "    normalvariate(mu=0.0, sigma=1.0) method of Random instance\n",
      "        Normal distribution.\n",
      "\n",
      "        mu is the mean, and sigma is the standard deviation.\n",
      "\n",
      "    paretovariate(alpha) method of Random instance\n",
      "        Pareto distribution.  alpha is the shape parameter.\n",
      "\n",
      "    randbytes(n) method of Random instance\n",
      "        Generate n random bytes.\n",
      "\n",
      "    randint(a, b) method of Random instance\n",
      "        Return random integer in range [a, b], including both end points.\n",
      "\n",
      "    random() method of Random instance\n",
      "        random() -> x in the interval [0, 1).\n",
      "\n",
      "    randrange(start, stop=None, step=1) method of Random instance\n",
      "        Choose a random item from range(stop) or range(start, stop[, step]).\n",
      "\n",
      "        Roughly equivalent to ``choice(range(start, stop, step))`` but\n",
      "        supports arbitrarily large ranges and is optimized for common cases.\n",
      "\n",
      "    sample(population, k, *, counts=None) method of Random instance\n",
      "        Chooses k unique random elements from a population sequence.\n",
      "\n",
      "        Returns a new list containing elements from the population while\n",
      "        leaving the original population unchanged.  The resulting list is\n",
      "        in selection order so that all sub-slices will also be valid random\n",
      "        samples.  This allows raffle winners (the sample) to be partitioned\n",
      "        into grand prize and second place winners (the subslices).\n",
      "\n",
      "        Members of the population need not be hashable or unique.  If the\n",
      "        population contains repeats, then each occurrence is a possible\n",
      "        selection in the sample.\n",
      "\n",
      "        Repeated elements can be specified one at a time or with the optional\n",
      "        counts parameter.  For example:\n",
      "\n",
      "            sample(['red', 'blue'], counts=[4, 2], k=5)\n",
      "\n",
      "        is equivalent to:\n",
      "\n",
      "            sample(['red', 'red', 'red', 'red', 'blue', 'blue'], k=5)\n",
      "\n",
      "        To choose a sample from a range of integers, use range() for the\n",
      "        population argument.  This is especially fast and space efficient\n",
      "        for sampling from a large population:\n",
      "\n",
      "            sample(range(10000000), 60)\n",
      "\n",
      "    seed(a=None, version=2) method of Random instance\n",
      "        Initialize internal state from a seed.\n",
      "\n",
      "        The only supported seed types are None, int, float,\n",
      "        str, bytes, and bytearray.\n",
      "\n",
      "        None or no argument seeds from current time or from an operating\n",
      "        system specific randomness source if available.\n",
      "\n",
      "        If *a* is an int, all bits are used.\n",
      "\n",
      "        For version 2 (the default), all of the bits are used if *a* is a str,\n",
      "        bytes, or bytearray.  For version 1 (provided for reproducing random\n",
      "        sequences from older versions of Python), the algorithm for str and\n",
      "        bytes generates a narrower range of seeds.\n",
      "\n",
      "    setstate(state) method of Random instance\n",
      "        Restore internal state from object returned by getstate().\n",
      "\n",
      "    shuffle(x) method of Random instance\n",
      "        Shuffle list x in place, and return None.\n",
      "\n",
      "    triangular(low=0.0, high=1.0, mode=None) method of Random instance\n",
      "        Triangular distribution.\n",
      "\n",
      "        Continuous distribution bounded by given lower and upper limits,\n",
      "        and having a given mode value in-between.\n",
      "\n",
      "        http://en.wikipedia.org/wiki/Triangular_distribution\n",
      "\n",
      "        The mean (expected value) and variance of the random variable are:\n",
      "\n",
      "            E[X] = (low + high + mode) / 3\n",
      "            Var[X] = (low**2 + high**2 + mode**2 - low*high - low*mode - high*mode) / 18\n",
      "\n",
      "    uniform(a, b) method of Random instance\n",
      "        Get a random number in the range [a, b) or [a, b] depending on rounding.\n",
      "\n",
      "        The mean (expected value) and variance of the random variable are:\n",
      "\n",
      "            E[X] = (a + b) / 2\n",
      "            Var[X] = (b - a) ** 2 / 12\n",
      "\n",
      "    vonmisesvariate(mu, kappa) method of Random instance\n",
      "        Circular data distribution.\n",
      "\n",
      "        mu is the mean angle, expressed in radians between 0 and 2*pi, and\n",
      "        kappa is the concentration parameter, which must be greater than or\n",
      "        equal to zero.  If kappa is equal to zero, this distribution reduces\n",
      "        to a uniform random angle over the range 0 to 2*pi.\n",
      "\n",
      "    weibullvariate(alpha, beta) method of Random instance\n",
      "        Weibull distribution.\n",
      "\n",
      "        alpha is the scale parameter and beta is the shape parameter.\n",
      "\n",
      "DATA\n",
      "    __all__ = ['Random', 'SystemRandom', 'betavariate', 'binomialvariate',...\n",
      "\n",
      "FILE\n",
      "    /opt/miniconda3/envs/labPython/lib/python3.12/random.py\n",
      "\n",
      "\n"
     ]
    }
   ],
   "source": [
    "help(random)"
   ]
  },
  {
   "cell_type": "markdown",
   "metadata": {},
   "source": [
    "### `from` e `import` in Python\n",
    "\n",
    "#### **`from` Statement**\n",
    "- Utilizzato per **importare elementi specifici** da un modulo o libreria.\n",
    "- Permette di importare **funzioni, classi o variabili specifiche** senza dover richiamare tutto il modulo.\n",
    "- Esempio:"
   ]
  },
  {
   "cell_type": "code",
   "execution_count": 14,
   "metadata": {},
   "outputs": [
    {
     "data": {
      "text/plain": [
       "5"
      ]
     },
     "execution_count": 14,
     "metadata": {},
     "output_type": "execute_result"
    }
   ],
   "source": [
    "from random import randint\n",
    "\n",
    "randint(0,10)"
   ]
  },
  {
   "cell_type": "code",
   "execution_count": 21,
   "metadata": {},
   "outputs": [
    {
     "name": "stdout",
     "output_type": "stream",
     "text": [
      "Mean: 99400\n",
      "Median: 99000\n",
      "Mode: 98000\n"
     ]
    }
   ],
   "source": [
    "import statistics\n",
    "\n",
    "salary_list = [98000, 101000, 102000, 99000, 97000]\n",
    "\n",
    "# Calcolo media, mediana e moda\n",
    "mean = statistics.mean(salary_list)\n",
    "median = statistics.median(salary_list)\n",
    "mode = statistics.mode(salary_list)\n",
    "\n",
    "# Stampo media, mediana e moda\n",
    "print(f'Mean: {mean}')\n",
    "print(f'Median: {median}')\n",
    "print(f'Mode: {mode}')"
   ]
  },
  {
   "cell_type": "markdown",
   "metadata": {},
   "source": [
    "# Creare un Modulo in Python\n",
    "\n",
    "- Per creare un modulo in Python, è necessario **salvare il codice in un file** con estensione `.py`.\n",
    "- Nei **Jupyter Notebook**, il metodo per salvare un modulo è leggermente diverso:\n",
    "  - Questo metodo ci permette di salvare il contenuto di una cella come file Python con estensione `.py`.\n",
    "  - **Perché facciamo questo?**  \n",
    "    I file **Python script** (`.py`) sono file autonomi, mentre i **Jupyter Notebook** sono organizzati in celle.  \n",
    "  - **Come fare?** Usando il comando:  \n",
    "    Il comando:\n",
    "\n",
    "  ```python\n",
    "    %%writefile nome_file.py\n",
    "  ```\n",
    "  permette di scrivere il contenuto della cella in un file nome_file.py e salvarlo nella directory corrente\n",
    "\n",
    "\n",
    "---\n",
    "\n",
    "## **Esempio**\n",
    "\n",
    "-  Creiamo un file chiamato **`my_module.py`** utilizzando il seguente codice:\n"
   ]
  },
  {
   "cell_type": "code",
   "execution_count": 22,
   "metadata": {},
   "outputs": [
    {
     "name": "stdout",
     "output_type": "stream",
     "text": [
      "Writing my_module.py\n"
     ]
    }
   ],
   "source": [
    "%%writefile my_module.py\n",
    "\n",
    "def somma(x,y):\n",
    "    return x + y"
   ]
  },
  {
   "cell_type": "markdown",
   "metadata": {},
   "source": [
    "Possiamo anche modificare il file nel seguento modo "
   ]
  },
  {
   "cell_type": "code",
   "execution_count": 23,
   "metadata": {},
   "outputs": [
    {
     "name": "stdout",
     "output_type": "stream",
     "text": [
      "Appending to my_module.py\n"
     ]
    }
   ],
   "source": [
    "%%writefile -a my_module.py\n",
    "\n",
    "def sottrazione(x,y):\n",
    "    return x + y"
   ]
  },
  {
   "cell_type": "markdown",
   "metadata": {},
   "source": [
    "### **Utilizzare il Modulo Creato**\n",
    "\n",
    "#### **Note**\n",
    "- Per utilizzare una funzione da un modulo, usa la sintassi:  \n",
    "  \n",
    "  ```python\n",
    "  module_name.function_name\n"
   ]
  },
  {
   "cell_type": "code",
   "execution_count": 11,
   "metadata": {},
   "outputs": [
    {
     "data": {
      "text/plain": [
       "3"
      ]
     },
     "execution_count": 11,
     "metadata": {},
     "output_type": "execute_result"
    }
   ],
   "source": [
    "import my_module\n",
    "\n",
    "my_module.somma(1,2)"
   ]
  },
  {
   "cell_type": "markdown",
   "metadata": {},
   "source": [
    "Nei moduli Python, è possibile definire variabili di qualsiasi tipo, come **array, dizionari, liste, stringhe, numeri e altro**.\n"
   ]
  },
  {
   "cell_type": "code",
   "execution_count": 24,
   "metadata": {},
   "outputs": [
    {
     "name": "stdout",
     "output_type": "stream",
     "text": [
      "Appending to my_module.py\n"
     ]
    }
   ],
   "source": [
    "%%writefile -a my_module.py\n",
    "\n",
    "pi_value = 3.14159\n",
    "colors = [\"red\", \"blue\", \"green\"]\n",
    "user_info = {\"name\": \"Alice\", \"age\": 25}"
   ]
  },
  {
   "cell_type": "code",
   "execution_count": 25,
   "metadata": {},
   "outputs": [
    {
     "data": {
      "text/plain": [
       "['red', 'blue', 'green']"
      ]
     },
     "execution_count": 25,
     "metadata": {},
     "output_type": "execute_result"
    }
   ],
   "source": [
    "import my_module\n",
    "\n",
    "my_module.colors"
   ]
  },
  {
   "cell_type": "markdown",
   "metadata": {},
   "source": [
    "# Librerie\n"
   ]
  },
  {
   "cell_type": "markdown",
   "metadata": {},
   "source": [
    "* Una libreria è una raccolta di pacchetti o singoli moduli che vengono raggruppati per estendere le funzionalità.\n",
    "* Tipologie:\n",
    "  1. Librerie standard (incluse in Python)\n",
    "  2. Librerie e pacchetti di terze parti (devono essere installati)\n",
    "* Di solito vengono installate tramite gestori di librerie come pip o conda.\n",
    "\n",
    "### Cosa sono allora i pacchetti?\n",
    "- Un pacchetto può includere moduli e sotto-pacchetti. Non è più obbligatorio dopo Python 3.3 ma di solito contiene un file __init__.py (che lo identifica come pacchetto Python).\n",
    "\n",
    "mypackage/\n",
    "│── __init__.py\n",
    "│── module1.py\n",
    "│── module2.py\n",
    "\n",
    "\n",
    "### Pacchetti vs Librerie\n",
    "- Python utilizza i pacchetti per organizzare all'interno le sue librerie e le librerie per fornire ed estendere funzionalità.\n",
    "- Anche se tutte le librerie possono essere considerate pacchetti (se strutturate in quel modo), non tutti i pacchetti sono librerie.\n",
    "\n",
    "### Importanza\n",
    "* Aiutano a risparmiare tempo, standardizzare i processi e aggiungere facilmente funzionalità complesse.\n",
    "* Utilizzate per attività come analisi dati, machine learning, sviluppo web, automazione e altro."
   ]
  },
  {
   "cell_type": "markdown",
   "metadata": {},
   "source": [
    "## Librerie Standard di Python\n",
    "\n",
    "### Note\n",
    "\n",
    "* Come per i moduli, utilizziamo le parole chiave `from` e `import`.  \n",
    "    * `import` importa l'intero modulo.  \n",
    "    * `from` permette di importare direttamente specifici attributi o funzioni di un modulo.  \n",
    "\n",
    "* Quando usare uno o l'altro:  \n",
    "    * `import nome_modulo`: Da usare quando hai bisogno di accedere a più funzioni o attributi di un modulo.  \n",
    "    * `from nome_modulo import nome_attributo`: Da usare quando hai bisogno solo di una funzione o un attributo specifico da un modulo.  \n"
   ]
  },
  {
   "cell_type": "markdown",
   "metadata": {},
   "source": [
    "  Esempi di librerie standard di ptyhon sono:\n",
    "  \n",
    "  - **os** → Funzioni per interagire con il sistema operativo (es. operazioni sui file).\n",
    "  - **sys** → Accesso a variabili e funzioni del Python interpreter."
   ]
  },
  {
   "cell_type": "code",
   "execution_count": 26,
   "metadata": {},
   "outputs": [
    {
     "name": "stdout",
     "output_type": "stream",
     "text": [
      "Cartella corrente: /Users/laura/git/MyProgrammingLab/Lab2/1_JupyterNotebook_e_numpy\n",
      "Cartella creata: /Users/laura/git/MyProgrammingLab/Lab2/1_JupyterNotebook_e_numpy/mia_cartella\n",
      "File nella cartella: ['my_module.py', '1.1_JupitierNotebook.ipynb', '1.3_NumPy2.ipynb', '1.4_Esercizi_lez_1.ipynb', '__pycache__', 'numpy_e_matplolib.ipynb', 'Extra', '21_Classes.ipynb', '1.2_Python_+.ipynb', 'mia_cartella', '1.3_NumPy.ipynb']\n",
      "Il file non esiste\n"
     ]
    }
   ],
   "source": [
    "import os\n",
    "\n",
    "# 1. Ottenere il percorso della cartella corrente\n",
    "current_dir = os.getcwd()\n",
    "print(\"Cartella corrente:\", current_dir)\n",
    "\n",
    "# 2. Creare una nuova cartella\n",
    "new_folder = os.path.join(current_dir, \"mia_cartella\")\n",
    "os.makedirs(new_folder, exist_ok=True)\n",
    "print(f\"Cartella creata: {new_folder}\")\n",
    "\n",
    "# 3. Elencare i file nella cartella\n",
    "files = os.listdir(current_dir)\n",
    "print(\"File nella cartella:\", files)\n",
    "\n",
    "# 4. Controllare se un file esiste\n",
    "file_path = os.path.join(current_dir, \"test.txt\")\n",
    "if os.path.exists(file_path):\n",
    "    print(\"Il file esiste:\", file_path)\n",
    "else:\n",
    "    print(\"Il file non esiste\")\n"
   ]
  },
  {
   "cell_type": "code",
   "execution_count": 27,
   "metadata": {},
   "outputs": [
    {
     "name": "stdout",
     "output_type": "stream",
     "text": [
      "1.1_JupitierNotebook.ipynb \u001b[34mExtra\u001b[m\u001b[m\n",
      "1.2_Python_+.ipynb         \u001b[34m__pycache__\u001b[m\u001b[m\n",
      "1.3_NumPy.ipynb            \u001b[34mmia_cartella\u001b[m\u001b[m\n",
      "1.3_NumPy2.ipynb           my_module.py\n",
      "1.4_Esercizi_lez_1.ipynb   numpy_e_matplolib.ipynb\n",
      "21_Classes.ipynb\n"
     ]
    }
   ],
   "source": [
    "!ls"
   ]
  },
  {
   "cell_type": "code",
   "execution_count": 24,
   "metadata": {},
   "outputs": [
    {
     "name": "stdout",
     "output_type": "stream",
     "text": [
      "[['1949-01', '112'], ['1949-02', '118'], ['1949-03', '132'], ['1949-04', '129'], ['1949-05', '121'], ['1949-06', '135'], ['1949-07', '148'], ['1949-08', '148'], ['1949-09', '136'], ['1949-10', '119'], ['1949-11', '104'], ['1949-12', '118'], ['1950-01', '115'], ['1950-02', '126'], ['1950-03', '141'], ['1950-04', '135'], ['1950-05', '125'], ['1950-06', '149'], ['1950-07', '170'], ['1950-08', '170'], ['1950-09', '158'], ['1950-10', '133'], ['1950-11', '114'], ['1950-12', '140'], ['1951-01', '145'], ['1951-02', '150'], ['1951-03', '178'], ['1951-04', '163'], ['1951-05', '172'], ['1951-06', '178'], ['1951-07', '199'], ['1951-08', '199'], ['1951-09', '184'], ['1951-10', '162'], ['1951-11', '146'], ['1951-12', '166'], ['1952-01', '171'], ['1952-02', '180'], ['1952-03', '193'], ['1952-04', '181'], ['1952-05', '183'], ['1952-06', '218'], ['1952-07', '230'], ['1952-08', '242'], ['1952-09', '209'], ['1952-10', '191'], ['1952-11', '172'], ['1952-12', '194'], ['1953-01', '196'], ['1953-02', '196'], ['1953-03', '236'], ['1953-04', '235'], ['1953-05', '229'], ['1953-06', '243'], ['1953-07', '264'], ['1953-08', '272'], ['1953-09', '237'], ['1953-10', '211'], ['1953-11', '180'], ['1953-12', '201'], ['1955-01', '242'], ['1955-02', '233'], ['1955-03', '267'], ['1955-04', '269'], ['1955-05', '270'], ['1955-06', '315'], ['1955-07', '364'], ['1955-08', '347'], ['1955-09', '312'], ['1955-10', '274'], ['1955-11', '237'], ['1955-12', '278'], ['1956-01', '284'], ['1956-02', '277'], ['1956-03', '317'], ['1956-04', '313'], ['1956-05', '318'], ['1956-06', '374'], ['1956-07', '413'], ['1956-08', '405'], ['1956-09', '355'], ['1956-10', '306'], ['1956-11', '271'], ['1956-12', '306'], ['1957-01', '315'], ['1957-02', '301'], ['1957-03', '356'], ['1957-04', '348'], ['1957-05', '355'], ['1957-06', '422'], ['1957-07', '465'], ['1957-08', '467'], ['1957-09', '404'], ['1957-10', '347'], ['1957-11', '305'], ['1957-12', '336'], ['1958-01', '340'], ['1958-02', '318'], ['1958-03', '362'], ['1958-04', '348'], ['1958-05', '363'], ['1958-06', '435'], ['1958-07', '491'], ['1958-08', '505'], ['1958-09', '404'], ['1958-10', '359'], ['1958-11', '310'], ['1958-12', '337'], ['1959-01', '360'], ['1959-02', '342'], ['1959-03', '406'], ['1959-04', '396'], ['1959-05', '420'], ['1959-06', '472'], ['1959-07', '548'], ['1959-08', '559'], ['1959-09', '463'], ['1959-10', '407'], ['1959-11', '362'], ['1959-12', '405'], ['1960-02', '391'], ['1960-03', '419'], ['1960-04', '461'], ['1960-05', '472'], ['1960-06', '535'], ['1960-07', '622'], ['1960-08', '606'], ['1960-09', '508'], ['1960-10', '461'], ['1960-11', ''], ['1960-12', '432']]\n"
     ]
    }
   ],
   "source": [
    "import csv\n",
    "# Percorso relativo per risalire di una cartella\n",
    "file_path = \"../dati/data.csv\"\n",
    "\n",
    "# Apro il file in modalità read \n",
    "file = open(file_path)\n",
    "\n",
    "# Leggo il file \n",
    "content = file.read()\n",
    "\n",
    "# Chiudo il file \n",
    "file.close()\n",
    "\n",
    "data_list = []\n",
    "for riga in csv.reader(content.strip().split('\\n')):\n",
    "    if riga[0]!='date':\n",
    "        data_list.append(riga)\n",
    "\n",
    "print(data_list)"
   ]
  },
  {
   "cell_type": "markdown",
   "metadata": {},
   "source": []
  },
  {
   "cell_type": "markdown",
   "metadata": {},
   "source": [
    "## Librerie di Terze Parti\n",
    "\n",
    "### Esempio con Pandas\n",
    "\n",
    "Con una libreria come `pandas`, puoi leggere un file e convertirlo in un DataFrame con solo **3 righe di codice!**"
   ]
  },
  {
   "cell_type": "code",
   "execution_count": 35,
   "metadata": {},
   "outputs": [
    {
     "name": "stdout",
     "output_type": "stream",
     "text": [
      "        date  passengers\n",
      "0    1949-01       112.0\n",
      "1    1949-02       118.0\n",
      "2    1949-03       132.0\n",
      "3    1949-04       129.0\n",
      "4    1949-05       121.0\n",
      "..       ...         ...\n",
      "126  1960-08       606.0\n",
      "127  1960-09       508.0\n",
      "128  1960-10       461.0\n",
      "129  1960-11         NaN\n",
      "130  1960-12       432.0\n",
      "\n",
      "[131 rows x 2 columns]\n"
     ]
    }
   ],
   "source": [
    "import pandas as pd\n",
    "\n",
    "# Creiamo un DataFrame leggendo un file CSV\n",
    "df = pd.read_csv('../dati/data.csv')\n",
    "\n",
    "# Stampiamo il DataFrame per visualizzare i dati\n",
    "print(df)\n"
   ]
  },
  {
   "cell_type": "markdown",
   "metadata": {},
   "source": [
    "### `import` con Alias\n",
    "\n",
    "Stiamo importando la libreria Python **pandas** e assegnandole l'alias `pd`.  \n",
    "Per le librerie, assegnare un alias aiuta a scrivere il codice più rapidamente ed è una pratica comune.\n",
    "\n",
    "```python\n",
    "import pandas as pd\n"
   ]
  },
  {
   "cell_type": "markdown",
   "metadata": {},
   "source": [
    "### Note\n",
    "\n",
    "* Questi sono pacchetti e librerie di terze parti (**non inclusi nella Libreria Standard di Python**) che devono essere installati separatamente.\n",
    "* Il metodo di installazione dipende dal **gestore di pacchetti** utilizzato.\n",
    "* Esistono due modi principali per installarli:\n",
    "    1. **Pip** - Se usi `pip` per la gestione dei pacchetti (usato in Google Colab).\n",
    "    2. **Conda** - Se usi `conda` o `mamba` per la gestione dei pacchetti (è quello che utiliziamo noi).\n",
    "\n",
    "---\n",
    "\n",
    "### **Librerie di Terze Parti più Comuni**\n",
    "\n",
    "Le librerie di terze parti comunemente utilizzate nella data science e che vedremo in questo corso:\n",
    "\n",
    "- **Pandas** → Strutture dati e operazioni per manipolare tabelle numeriche e serie temporali.\n",
    "- **NumPy** → Supporto per array e matrici multi-dimensionali, con funzioni matematiche avanzate.\n",
    "- **Matplotlib** → Libreria per creare grafici statici, animati e interattivi in Python.\n",
    "- **Seaborn** → Interfaccia avanzata per visualizzazioni statistiche e grafiche informative.\n",
    "- **SciPy** → Strumenti per calcoli scientifici e tecnici, tra cui ottimizzazione e algebra lineare.\n",
    "- **Scikit-learn** → Implementazione di algoritmi di machine learning per analisi e data mining.\n",
    "- **Plotly** → Creazione di grafici interattivi e visivamente accattivanti per il web.\n",
    "\n",
    "---\n",
    "\n",
    "### **Dove posso trovare i pacchetti?**\n",
    "\n",
    "- [PyPi](https://pypi.org/) - per `pip`  \n",
    "- [Anaconda](https://www.anaconda.com/) - per `conda`\n"
   ]
  },
  {
   "cell_type": "code",
   "execution_count": 28,
   "metadata": {},
   "outputs": [
    {
     "name": "stdout",
     "output_type": "stream",
     "text": [
      "# packages in environment at /opt/miniconda3/envs/labPython:\n",
      "#\n",
      "# Name                    Version                   Build  Channel\n",
      "ansi2html                 1.9.1           py312hca03da5_0  \n",
      "anyio                     4.6.2           py312hca03da5_0  \n",
      "appnope                   0.1.4              pyhd8ed1ab_0    conda-forge\n",
      "argon2-cffi               21.3.0             pyhd3eb1b0_0  \n",
      "argon2-cffi-bindings      21.2.0          py312h80987f9_0  \n",
      "asttokens                 2.4.1              pyhd8ed1ab_0    conda-forge\n",
      "async-lru                 2.0.4           py312hca03da5_0  \n",
      "attrs                     24.2.0          py312hca03da5_0  \n",
      "babel                     2.11.0          py312hca03da5_0  \n",
      "beautifulsoup4            4.12.3          py312hca03da5_0  \n",
      "blas                      1.0                    openblas  \n",
      "bleach                    4.1.0              pyhd3eb1b0_0  \n",
      "blinker                   1.9.0           py312hca03da5_0  \n",
      "brotli                    1.0.9                h80987f9_8  \n",
      "brotli-bin                1.0.9                h80987f9_8  \n",
      "brotli-python             1.0.9           py312h313beb8_8  \n",
      "bzip2                     1.0.8                h80987f9_6  \n",
      "ca-certificates           2025.2.25            hca03da5_0  \n",
      "certifi                   2025.1.31       py312hca03da5_0  \n",
      "cffi                      1.17.1          py312h3eb5a62_0  \n",
      "charset-normalizer        3.3.2              pyhd3eb1b0_0  \n",
      "click                     8.1.7           py312hca03da5_0  \n",
      "comm                      0.2.2              pyhd8ed1ab_0    conda-forge\n",
      "contourpy                 1.3.1           py312h48ca7d4_0  \n",
      "cycler                    0.11.0             pyhd3eb1b0_0  \n",
      "dash                      2.14.2          py312hca03da5_0  \n",
      "debugpy                   1.6.7           py312h313beb8_0  \n",
      "decorator                 5.1.1              pyhd8ed1ab_0    conda-forge\n",
      "defusedxml                0.7.1              pyhd3eb1b0_0  \n",
      "exceptiongroup            1.2.2              pyhd8ed1ab_0    conda-forge\n",
      "executing                 2.1.0              pyhd8ed1ab_0    conda-forge\n",
      "expat                     2.6.3                h313beb8_0  \n",
      "flask                     3.0.3           py312hca03da5_0  \n",
      "flask-compress            1.13            py312hca03da5_0  \n",
      "fonttools                 4.51.0          py312h80987f9_0  \n",
      "freetype                  2.12.1               h1192e45_0  \n",
      "h11                       0.14.0          py312hca03da5_0  \n",
      "httpcore                  1.0.2           py312hca03da5_0  \n",
      "httpx                     0.27.0          py312hca03da5_0  \n",
      "idna                      3.7             py312hca03da5_0  \n",
      "importlib-metadata        8.5.0              pyha770c72_0    conda-forge\n",
      "ipykernel                 6.29.5             pyh57ce528_0    conda-forge\n",
      "ipython                   8.29.0             pyh707e725_0    conda-forge\n",
      "itsdangerous              2.2.0           py312hca03da5_0  \n",
      "jedi                      0.19.2             pyhff2d567_0    conda-forge\n",
      "jinja2                    3.1.4           py312hca03da5_1  \n",
      "jpeg                      9e                   h80987f9_3  \n",
      "json5                     0.9.25          py312hca03da5_0  \n",
      "jsonschema                4.23.0          py312hca03da5_0  \n",
      "jsonschema-specifications 2023.7.1        py312hca03da5_0  \n",
      "jupyter-lsp               2.2.0           py312hca03da5_0  \n",
      "jupyter_client            8.6.3              pyhd8ed1ab_0    conda-forge\n",
      "jupyter_core              5.7.2              pyh31011fe_1    conda-forge\n",
      "jupyter_events            0.10.0          py312hca03da5_0  \n",
      "jupyter_server            2.14.1          py312hca03da5_0  \n",
      "jupyter_server_terminals  0.4.4           py312hca03da5_1  \n",
      "jupyterlab                4.2.5           py312hca03da5_0  \n",
      "jupyterlab_pygments       0.1.2                      py_0  \n",
      "jupyterlab_server         2.27.3          py312hca03da5_0  \n",
      "kiwisolver                1.4.4           py312h313beb8_0  \n",
      "lcms2                     2.12                 hba8e193_0  \n",
      "lerc                      3.0                  hc377ac9_0  \n",
      "libbrotlicommon           1.0.9                h80987f9_8  \n",
      "libbrotlidec              1.0.9                h80987f9_8  \n",
      "libbrotlienc              1.0.9                h80987f9_8  \n",
      "libcxx                    14.0.6               h848a8c0_0  \n",
      "libdeflate                1.17                 h80987f9_1  \n",
      "libffi                    3.4.4                hca03da5_1  \n",
      "libgfortran               5.0.0           11_3_0_hca03da5_28  \n",
      "libgfortran5              11.3.0              h009349e_28  \n",
      "libopenblas               0.3.21               h269037a_0  \n",
      "libpng                    1.6.39               h80987f9_0  \n",
      "libsodium                 1.0.18               h27ca646_1    conda-forge\n",
      "libtiff                   4.5.1                h313beb8_0  \n",
      "libwebp-base              1.3.2                h80987f9_1  \n",
      "llvm-openmp               14.0.6               hc6e5704_0  \n",
      "lz4-c                     1.9.4                h313beb8_1  \n",
      "markupsafe                2.1.3           py312h80987f9_0  \n",
      "matplotlib                3.9.2           py312hca03da5_0  \n",
      "matplotlib-base           3.9.2           py312h7ef442a_1  \n",
      "matplotlib-inline         0.1.7              pyhd8ed1ab_0    conda-forge\n",
      "mistune                   2.0.4           py312hca03da5_0  \n",
      "nbclient                  0.8.0           py312hca03da5_0  \n",
      "nbconvert                 7.16.4          py312hca03da5_0  \n",
      "nbformat                  5.10.4          py312hca03da5_0  \n",
      "ncurses                   6.4                  h313beb8_0  \n",
      "nest-asyncio              1.6.0              pyhd8ed1ab_0    conda-forge\n",
      "notebook-shim             0.2.3           py312hca03da5_0  \n",
      "numpy                     2.2.2           py312h7f4fdc5_0  \n",
      "numpy-base                2.2.2           py312he047099_0  \n",
      "openjpeg                  2.5.2                h54b8e55_0  \n",
      "openssl                   3.4.0                h39f12f2_0    conda-forge\n",
      "overrides                 7.4.0           py312hca03da5_0  \n",
      "packaging                 24.1               pyhd8ed1ab_0    conda-forge\n",
      "pandas                    2.2.3                    pypi_0    pypi\n",
      "pandocfilters             1.5.0              pyhd3eb1b0_0  \n",
      "parso                     0.8.4              pyhd8ed1ab_0    conda-forge\n",
      "pexpect                   4.9.0              pyhd8ed1ab_0    conda-forge\n",
      "pickleshare               0.7.5                   py_1003    conda-forge\n",
      "pillow                    11.0.0          py312hfaf4e14_0  \n",
      "pip                       24.2            py312hca03da5_0  \n",
      "platformdirs              4.3.6              pyhd8ed1ab_0    conda-forge\n",
      "plotly                    5.24.1          py312h989b03a_1  \n",
      "prometheus_client         0.14.1          py312hca03da5_0  \n",
      "prompt-toolkit            3.0.48             pyha770c72_0    conda-forge\n",
      "psutil                    5.9.0           py312h80987f9_0  \n",
      "ptyprocess                0.7.0              pyhd3deb0d_0    conda-forge\n",
      "pure_eval                 0.2.3              pyhd8ed1ab_0    conda-forge\n",
      "pycparser                 2.21               pyhd3eb1b0_0  \n",
      "pygments                  2.18.0             pyhd8ed1ab_0    conda-forge\n",
      "pyparsing                 3.2.0           py312hca03da5_0  \n",
      "pysocks                   1.7.1           py312hca03da5_0  \n",
      "python                    3.12.7               h99e199e_0  \n",
      "python-dateutil           2.9.0              pyhd8ed1ab_0    conda-forge\n",
      "python-fastjsonschema     2.16.2          py312hca03da5_0  \n",
      "python-json-logger        2.0.7           py312hca03da5_0  \n",
      "pytz                      2024.1          py312hca03da5_0  \n",
      "pyyaml                    6.0.2           py312h80987f9_0  \n",
      "pyzmq                     25.1.2          py312h313beb8_0  \n",
      "readline                  8.2                  h1a28f6b_0  \n",
      "referencing               0.30.2          py312hca03da5_0  \n",
      "requests                  2.32.3          py312hca03da5_1  \n",
      "retrying                  1.3.3              pyhd3eb1b0_2  \n",
      "rfc3339-validator         0.1.4           py312hca03da5_0  \n",
      "rfc3986-validator         0.1.1           py312hca03da5_0  \n",
      "rpds-py                   0.10.6          py312hf0e4da2_0  \n",
      "send2trash                1.8.2           py312hca03da5_0  \n",
      "setuptools                72.1.0          py312hca03da5_0  \n",
      "six                       1.16.0             pyh6c4a22f_0    conda-forge\n",
      "sniffio                   1.3.0           py312hca03da5_0  \n",
      "soupsieve                 2.5             py312hca03da5_0  \n",
      "sqlite                    3.45.3               h80987f9_0  \n",
      "stack_data                0.6.2              pyhd8ed1ab_0    conda-forge\n",
      "tenacity                  9.0.0           py312hca03da5_0  \n",
      "terminado                 0.17.1          py312hca03da5_0  \n",
      "tinycss2                  1.2.1           py312hca03da5_0  \n",
      "tk                        8.6.14               h6ba3021_0  \n",
      "tornado                   6.4.1           py312h80987f9_0  \n",
      "traitlets                 5.14.3             pyhd8ed1ab_0    conda-forge\n",
      "typing-extensions         4.12.2               hd8ed1ab_0    conda-forge\n",
      "typing_extensions         4.12.2             pyha770c72_0    conda-forge\n",
      "tzdata                    2025.1                   pypi_0    pypi\n",
      "unicodedata2              15.1.0          py312h80987f9_0  \n",
      "urllib3                   2.2.3           py312hca03da5_0  \n",
      "wcwidth                   0.2.13             pyhd8ed1ab_0    conda-forge\n",
      "webencodings              0.5.1           py312hca03da5_2  \n",
      "websocket-client          1.8.0           py312hca03da5_0  \n",
      "werkzeug                  3.0.6           py312hca03da5_0  \n",
      "wheel                     0.44.0          py312hca03da5_0  \n",
      "xz                        5.4.6                h80987f9_1  \n",
      "yaml                      0.2.5                h1a28f6b_0  \n",
      "zeromq                    4.3.5                h313beb8_0  \n",
      "zipp                      3.21.0             pyhd8ed1ab_0    conda-forge\n",
      "zlib                      1.2.13               h18a0788_1  \n",
      "zstd                      1.5.6                hfb09047_0  \n",
      "\n",
      "Note: you may need to restart the kernel to use updated packages.\n"
     ]
    }
   ],
   "source": [
    "%conda list"
   ]
  },
  {
   "cell_type": "markdown",
   "metadata": {},
   "source": [
    "Nota:  Il comando `!pip list` funzionerà anche se stai usando **Conda**; **Tuttavia, non mostrerà tutti i pacchetti installati**."
   ]
  },
  {
   "cell_type": "code",
   "execution_count": 29,
   "metadata": {},
   "outputs": [
    {
     "name": "stdout",
     "output_type": "stream",
     "text": [
      "Package                   Version\n",
      "------------------------- ---------\n",
      "ansi2html                 1.9.1\n",
      "anyio                     4.6.2\n",
      "appnope                   0.1.4\n",
      "argon2-cffi               21.3.0\n",
      "argon2-cffi-bindings      21.2.0\n",
      "asttokens                 2.4.1\n",
      "async-lru                 2.0.4\n",
      "attrs                     24.2.0\n",
      "Babel                     2.11.0\n",
      "beautifulsoup4            4.12.3\n",
      "bleach                    4.1.0\n",
      "blinker                   1.9.0\n",
      "Brotli                    1.0.9\n",
      "certifi                   2025.1.31\n",
      "cffi                      1.17.1\n",
      "charset-normalizer        3.3.2\n",
      "click                     8.1.7\n",
      "comm                      0.2.2\n",
      "contourpy                 1.3.1\n",
      "cycler                    0.11.0\n",
      "dash                      2.14.2\n",
      "debugpy                   1.6.7\n",
      "decorator                 5.1.1\n",
      "defusedxml                0.7.1\n",
      "exceptiongroup            1.2.2\n",
      "executing                 2.1.0\n",
      "fastjsonschema            2.16.2\n",
      "Flask                     3.0.3\n",
      "Flask-Compress            1.13\n",
      "fonttools                 4.51.0\n",
      "h11                       0.14.0\n",
      "httpcore                  1.0.2\n",
      "httpx                     0.27.0\n",
      "idna                      3.7\n",
      "importlib_metadata        8.5.0\n",
      "ipykernel                 6.29.5\n",
      "ipython                   8.29.0\n",
      "itsdangerous              2.2.0\n",
      "jedi                      0.19.2\n",
      "Jinja2                    3.1.4\n",
      "json5                     0.9.25\n",
      "jsonschema                4.23.0\n",
      "jsonschema-specifications 2023.7.1\n",
      "jupyter_client            8.6.3\n",
      "jupyter_core              5.7.2\n",
      "jupyter-events            0.10.0\n",
      "jupyter-lsp               2.2.0\n",
      "jupyter_server            2.14.1\n",
      "jupyter_server_terminals  0.4.4\n",
      "jupyterlab                4.2.5\n",
      "jupyterlab-pygments       0.1.2\n",
      "jupyterlab_server         2.27.3\n",
      "kiwisolver                1.4.4\n",
      "MarkupSafe                2.1.3\n",
      "matplotlib                3.9.2\n",
      "matplotlib-inline         0.1.7\n",
      "mistune                   2.0.4\n",
      "nbclient                  0.8.0\n",
      "nbconvert                 7.16.4\n",
      "nbformat                  5.10.4\n",
      "nest_asyncio              1.6.0\n",
      "notebook_shim             0.2.3\n",
      "numpy                     2.2.2\n",
      "overrides                 7.4.0\n",
      "packaging                 24.1\n",
      "pandas                    2.2.3\n",
      "pandocfilters             1.5.0\n",
      "parso                     0.8.4\n",
      "pexpect                   4.9.0\n",
      "pickleshare               0.7.5\n",
      "pillow                    11.0.0\n",
      "pip                       24.2\n",
      "platformdirs              4.3.6\n",
      "plotly                    5.24.1\n",
      "prometheus-client         0.14.1\n",
      "prompt_toolkit            3.0.48\n",
      "psutil                    5.9.0\n",
      "ptyprocess                0.7.0\n",
      "pure_eval                 0.2.3\n",
      "pycparser                 2.21\n",
      "Pygments                  2.18.0\n",
      "pyparsing                 3.2.0\n",
      "PySocks                   1.7.1\n",
      "python-dateutil           2.9.0\n",
      "python-json-logger        2.0.7\n",
      "pytz                      2024.1\n",
      "PyYAML                    6.0.2\n",
      "pyzmq                     25.1.2\n",
      "referencing               0.30.2\n",
      "requests                  2.32.3\n",
      "retrying                  1.3.3\n",
      "rfc3339-validator         0.1.4\n",
      "rfc3986-validator         0.1.1\n",
      "rpds-py                   0.10.6\n",
      "Send2Trash                1.8.2\n",
      "setuptools                72.1.0\n",
      "six                       1.16.0\n",
      "sniffio                   1.3.0\n",
      "soupsieve                 2.5\n",
      "stack-data                0.6.2\n",
      "tenacity                  9.0.0\n",
      "terminado                 0.17.1\n",
      "tinycss2                  1.2.1\n",
      "tornado                   6.4.1\n",
      "traitlets                 5.14.3\n",
      "typing_extensions         4.12.2\n",
      "tzdata                    2025.1\n",
      "unicodedata2              15.1.0\n",
      "urllib3                   2.2.3\n",
      "wcwidth                   0.2.13\n",
      "webencodings              0.5.1\n",
      "websocket-client          1.8.0\n",
      "Werkzeug                  3.0.6\n",
      "wheel                     0.44.0\n",
      "zipp                      3.21.0\n",
      "Note: you may need to restart the kernel to use updated packages.\n"
     ]
    }
   ],
   "source": [
    "%pip list"
   ]
  },
  {
   "cell_type": "code",
   "execution_count": 30,
   "metadata": {},
   "outputs": [
    {
     "name": "stdout",
     "output_type": "stream",
     "text": [
      "Channels:\n",
      " - defaults\n",
      " - conda-forge\n",
      "Platform: osx-arm64\n",
      "Collecting package metadata (repodata.json): done\n",
      "Solving environment: done\n",
      "\n",
      "## Package Plan ##\n",
      "\n",
      "  environment location: /Users/lauranenzi/miniconda3/envs/mio_ambiente\n",
      "\n",
      "  added / updated specs:\n",
      "    - pandas\n",
      "\n",
      "\n",
      "The following packages will be downloaded:\n",
      "\n",
      "    package                    |            build\n",
      "    ---------------------------|-----------------\n",
      "    bottleneck-1.4.2           |  py311hb9f6ed7_0         127 KB\n",
      "    numexpr-2.10.1             |  py311h5d9532f_0         185 KB\n",
      "    pandas-2.2.3               |  py311hcf29cfe_0        14.9 MB\n",
      "    python-tzdata-2023.3       |     pyhd3eb1b0_0         140 KB\n",
      "    pytz-2024.1                |  py311hca03da5_0         222 KB\n",
      "    ------------------------------------------------------------\n",
      "                                           Total:        15.6 MB\n",
      "\n",
      "The following NEW packages will be INSTALLED:\n",
      "\n",
      "  bottleneck         pkgs/main/osx-arm64::bottleneck-1.4.2-py311hb9f6ed7_0 \n",
      "  numexpr            pkgs/main/osx-arm64::numexpr-2.10.1-py311h5d9532f_0 \n",
      "  pandas             pkgs/main/osx-arm64::pandas-2.2.3-py311hcf29cfe_0 \n",
      "  python-tzdata      pkgs/main/noarch::python-tzdata-2023.3-pyhd3eb1b0_0 \n",
      "  pytz               pkgs/main/osx-arm64::pytz-2024.1-py311hca03da5_0 \n",
      "\n",
      "\n",
      "\n",
      "Downloading and Extracting Packages:\n",
      "pandas-2.2.3         | 14.9 MB   |                                       |   0% \n",
      "pytz-2024.1          | 222 KB    |                                       |   0% \u001b[A\n",
      "\n",
      "numexpr-2.10.1       | 185 KB    |                                       |   0% \u001b[A\u001b[A\n",
      "\n",
      "\n",
      "python-tzdata-2023.3 | 140 KB    |                                       |   0% \u001b[A\u001b[A\u001b[A\n",
      "\n",
      "\n",
      "\n",
      "pandas-2.2.3         | 14.9 MB   | ######7                               |  18% \u001b[A\u001b[A\u001b[A\u001b[A\n",
      "\n",
      "numexpr-2.10.1       | 185 KB    | ##################################### | 100% \u001b[A\u001b[A\n",
      "\n",
      "\n",
      "\n",
      "bottleneck-1.4.2     | 127 KB    | ##################################### | 100% \u001b[A\u001b[A\u001b[A\u001b[A\n",
      "\n",
      "numexpr-2.10.1       | 185 KB    | ##################################### | 100% \u001b[A\u001b[A\n",
      "\n",
      "\n",
      "\n",
      "bottleneck-1.4.2     | 127 KB    | ##################################### | 100% \u001b[A\u001b[A\u001b[A\u001b[A\n",
      "\n",
      "\n",
      "pandas-2.2.3         | 14.9 MB   | ##################################1   |  92% \u001b[A\u001b[A\u001b[A\n",
      "pytz-2024.1          | 222 KB    | ##################################### | 100% \u001b[A\n",
      "pytz-2024.1          | 222 KB    | ##################################### | 100% \u001b[A\n",
      "\n",
      "\n",
      "python-tzdata-2023.3 | 140 KB    | ##################################### | 100% \u001b[A\u001b[A\u001b[A\n",
      "\n",
      "\n",
      "                                                                                \u001b[A\u001b[A\u001b[A\n",
      "                                                                                \u001b[A\n",
      "\n",
      "                                                                                \u001b[A\u001b[A\n",
      "\n",
      "\n",
      "                                                                                \u001b[A\u001b[A\u001b[A\n",
      "\n",
      "\n",
      "\n",
      "                                                                                \u001b[A\u001b[A\u001b[A\u001b[A\n",
      "Preparing transaction: done\n",
      "Verifying transaction: done\n",
      "Executing transaction: done\n",
      "\n",
      "Note: you may need to restart the kernel to use updated packages.\n"
     ]
    }
   ],
   "source": [
    "%conda install pandas "
   ]
  }
 ],
 "metadata": {
  "colab": {
   "provenance": []
  },
  "kernelspec": {
   "display_name": "labPython",
   "language": "python",
   "name": "python3"
  },
  "language_info": {
   "codemirror_mode": {
    "name": "ipython",
    "version": 3
   },
   "file_extension": ".py",
   "mimetype": "text/x-python",
   "name": "python",
   "nbconvert_exporter": "python",
   "pygments_lexer": "ipython3",
   "version": "3.12.7"
  }
 },
 "nbformat": 4,
 "nbformat_minor": 0
}
