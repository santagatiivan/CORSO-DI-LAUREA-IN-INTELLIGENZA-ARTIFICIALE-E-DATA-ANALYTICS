{
 "cells": [
  {
   "cell_type": "markdown",
   "metadata": {
    "id": "KtHs7Rb9lDC0"
   },
   "source": [
    "# Jupyter Notebooks \n",
    "\n",
    "È una interfaccia che permette di scrivere, eseguire e condividere codice interattivo"
   ]
  },
  {
   "cell_type": "markdown",
   "metadata": {
    "id": "VBXhTX4cV-w0"
   },
   "source": [
    "## Aggiunta e spostamento delle celle\n",
    "\n",
    "Aggiungi nuove celle utilizzando i pulsanti **+ Code** e **+ Markdown**, che appaiono quando passi il mouse tra le celle.\n",
    "\n",
    "Puoi spostare una cella selezionandola col mouse e muovendoti su e giù col mouse o le option + frecce\n"
   ]
  },
  {
   "cell_type": "markdown",
   "metadata": {
    "id": "oYRz_DkflDC2"
   },
   "source": [
    "## Celle Markdown Cell vs. Celle Python"
   ]
  },
  {
   "cell_type": "markdown",
   "metadata": {
    "id": "YtHqbPyVlDC2"
   },
   "source": [
    "#### Esempio Markdown \n",
    "Questo è un testo Markdown"
   ]
  },
  {
   "cell_type": "markdown",
   "metadata": {
    "id": "RDvcZiK3YxBI"
   },
   "source": [
    "\n",
    "#### Python Example"
   ]
  },
  {
   "cell_type": "code",
   "execution_count": null,
   "metadata": {
    "colab": {
     "base_uri": "https://localhost:8080/",
     "height": 35
    },
    "id": "NzpvOnLglDC2",
    "outputId": "30094308-dea4-4c0d-b88d-00502d1b0b24"
   },
   "outputs": [],
   "source": [
    "\"Questa è una cella python\""
   ]
  },
  {
   "cell_type": "markdown",
   "metadata": {
    "id": "E8vANqitlDC1"
   },
   "source": [
    "## Come eseguire una cella\n",
    "\n",
    "*Modo semplice:* Clicca il pulsante di esecuzione.\n",
    "\n",
    "*Modo avanzato:* Con la cella selezionata, premi **Cmd/Ctrl+Enter**.\n",
    "\n",
    "*Altri suggerimenti avanzati:*\n",
    "* Premi **Shift+Enter** per "
   ]
  },
  {
   "cell_type": "code",
   "execution_count": null,
   "metadata": {
    "colab": {
     "base_uri": "https://localhost:8080/"
    },
    "id": "VUu7zqeslDC1",
    "outputId": "89a709a6-f825-4a13-89d7-e9e54ae99662"
   },
   "outputs": [],
   "source": [
    "2 + 2"
   ]
  },
  {
   "cell_type": "markdown",
   "metadata": {
    "id": "en-IAd0ylDC2"
   },
   "source": [
    "## Note per Jupyter"
   ]
  },
  {
   "cell_type": "markdown",
   "metadata": {
    "id": "kMfjQfxYfoPI"
   },
   "source": [
    "Se hai più righe, solo l'ultima riga verrà mostrata.\n"
   ]
  },
  {
   "cell_type": "code",
   "execution_count": null,
   "metadata": {
    "colab": {
     "base_uri": "https://localhost:8080/"
    },
    "id": "TDYU5xKafRMD",
    "outputId": "9939e8fb-788a-447e-d921-a2582f9bbf7e"
   },
   "outputs": [],
   "source": [
    "2 + 2\n",
    "\"Ciaooo\""
   ]
  },
  {
   "cell_type": "code",
   "execution_count": null,
   "metadata": {},
   "outputs": [],
   "source": [
    "2 + 2, \"Ciaooo\""
   ]
  },
  {
   "cell_type": "code",
   "execution_count": null,
   "metadata": {
    "colab": {
     "base_uri": "https://localhost:8080/"
    },
    "id": "Dn_qjN6Gf4ex",
    "outputId": "489d2ddd-20ed-4411-9e00-fa7a18c3f90f"
   },
   "outputs": [],
   "source": [
    "print(2 + 2)\n",
    "print(3 * 3)\n",
    "print(\"Ciaooo\")"
   ]
  },
  {
   "cell_type": "code",
   "execution_count": null,
   "metadata": {
    "colab": {
     "base_uri": "https://localhost:8080/"
    },
    "id": "K9slvGiQgxUs",
    "outputId": "65f34568-6c38-407d-df12-3b81a28c3621"
   },
   "outputs": [],
   "source": [
    "# Questo è un commento come sempre\n",
    "\n",
    "print(\"Ciaooo\")\n",
    "print(2 + 2) # Anche questo\n",
    "print(3 * 3)"
   ]
  },
  {
   "cell_type": "markdown",
   "metadata": {
    "id": "5Dh7ROpkY0js"
   },
   "source": [
    "## Nozioni di base su Markdown\n",
    "\n",
    "Markdown è un linguaggio di markup leggero che utilizza caratteri come `#` per i titoli e `*` per l'enfasi, permettendo di formattare il testo in modo semplice e intuitivo.\n"
   ]
  },
  {
   "cell_type": "markdown",
   "metadata": {
    "id": "tlt-IiEoXL7K"
   },
   "source": [
    "| Element        | Markdown Syntax                        |\n",
    "|----------------|----------------------------------------|\n",
    "| Heading        | `# H1`<br>`## H2`<br>`### H3`          |\n",
    "| Bold           | `**bold text**`                        |\n",
    "| Italic         | `*italicized text*`                    |\n",
    "| Blockquote     | `> blockquote`                         |\n",
    "| Ordered List   | `1. First item`<br>`2. Second item`<br>`3. Third item` |\n",
    "| Unordered List | `- First item`<br>`- Second item`<br>`- Third item`   |\n",
    "| Code           | `` `code` ``                           |\n",
    "| Horizontal Rule| `---`                                  |\n",
    "| Link           | `[title](https://www.example.com)`     |\n",
    "| Image          | `![alt text](image.jpg)`               |\n",
    "\n",
    "[Here is a more info on Markdown](https://www.markdownguide.org/basic-syntax/)"
   ]
  },
  {
   "cell_type": "markdown",
   "metadata": {
    "id": "2bxBnWjmmAND"
   },
   "source": [
    "## Uso avanzato di Jupyter Notebook\n",
    "\n",
    "Iniziare una riga con uno dei seguenti simboli ha proprietà speciali.\n",
    "\n",
    "| Simbolo | Nome            | Esempio               | Spiegazione dell'uso                                                              |\n",
    "|---------|----------------|-----------------------|-----------------------------------------------------------------------------------|\n",
    "| `!`     | Comando Shell   | `!ls`                 | Esegue comandi della shell direttamente dalla cella del notebook, ad esempio elencare i file. |\n",
    "| `%`     | Magic Line      | `%cd sample_data`     | Esegue un comando magic su una singola riga, come cambiare directory.             |\n",
    "| `%%`    | Magic Cell      | `%%writefile test.txt` | Applica il comando magic all'intera cella, ad esempio scrivendo il contenuto della cella in un file. |\n"
   ]
  },
  {
   "cell_type": "code",
   "execution_count": null,
   "metadata": {
    "colab": {
     "base_uri": "https://localhost:8080/"
    },
    "id": "OSsLjn-1hj3L",
    "outputId": "3fcf7176-2e78-4662-d57f-00986b0eaefe"
   },
   "outputs": [],
   "source": [
    "!ls"
   ]
  },
  {
   "cell_type": "code",
   "execution_count": null,
   "metadata": {},
   "outputs": [],
   "source": [
    "%timeit [n*n for n in range(200)]"
   ]
  },
  {
   "cell_type": "code",
   "execution_count": null,
   "metadata": {
    "colab": {
     "base_uri": "https://localhost:8080/"
    },
    "id": "e7Ehl7eciGM3",
    "outputId": "d30ad0d5-263d-4937-f26d-aa31779f32a0"
   },
   "outputs": [],
   "source": [
    "%%timeit\n",
    "lista = []\n",
    "for n in range(200):\n",
    "    lista.append(n*n)"
   ]
  },
  {
   "cell_type": "markdown",
   "metadata": {},
   "source": [
    "Potete vedere le variabili salvate facilmente nella Juputer cella "
   ]
  },
  {
   "cell_type": "code",
   "execution_count": null,
   "metadata": {},
   "outputs": [],
   "source": [
    "id_lavoro = 101\n",
    "nome_azienda = 'DataWiz Inc.'\n",
    "titolo_lavoro = 'Data Analyst'\n",
    "stipendio_lavoro = 125000\n",
    "lavoro_da_casa = True\n"
   ]
  }
 ],
 "metadata": {
  "colab": {
   "provenance": []
  },
  "kernelspec": {
   "display_name": "Python 3",
   "language": "python",
   "name": "python3"
  },
  "language_info": {
   "codemirror_mode": {
    "name": "ipython",
    "version": 3
   },
   "file_extension": ".py",
   "mimetype": "text/x-python",
   "name": "python",
   "nbconvert_exporter": "python",
   "pygments_lexer": "ipython3",
   "version": "3.12.1"
  }
 },
 "nbformat": 4,
 "nbformat_minor": 0
}
