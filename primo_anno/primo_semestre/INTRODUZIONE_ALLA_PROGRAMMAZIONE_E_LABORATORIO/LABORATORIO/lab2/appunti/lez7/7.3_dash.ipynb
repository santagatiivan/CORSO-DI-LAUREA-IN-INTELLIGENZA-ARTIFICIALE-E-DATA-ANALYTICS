{
 "cells": [
  {
   "cell_type": "markdown",
   "metadata": {},
   "source": [
    "## Dash\n",
    "\n",
    "**Dash** è un framework Python sviluppato da Plotly che consente di creare **applicazioni web interattive** per la visualizzazione di dati, in modo semplice e dichiarativo.\n",
    "\n",
    "Dash permette di:\n",
    "- creare dashboard interattive con pochi comandi Python;\n",
    "- aggiornare grafici e componenti dinamicamente con i **callback**;\n",
    "- costruire interfacce complete con **slider, dropdown, input, grafici, tabelle**.\n",
    "\n",
    "\n",
    "Dash è ideale per costruire applicazioni di **data analysis interattiva**, anche in ambito didattico, scientifico o aziendale.\n"
   ]
  },
  {
   "cell_type": "markdown",
   "metadata": {},
   "source": [
    "### Esempio 2 di uno Slider che calcola il quadrato di un numero\n",
    "\n",
    "Facciamo un'interfaccia che mostra uno **slider interattivo** da 1 a 10. Quando l’utente seleziona un numero, l’app visualizza in tempo reale il **quadrato del numero selezionato** (es. `6² = 36`)."
   ]
  },
  {
   "cell_type": "code",
   "execution_count": 1,
   "metadata": {},
   "outputs": [],
   "source": [
    "import dash                      \n",
    "from dash import dcc, html      \n",
    "from dash.dependencies import Input, Output\n",
    "import plotly.express as px     \n",
    "import pandas as pd  \n",
    "\n",
    "# Inizializza app\n",
    "app = dash.Dash(__name__)   # __name__ serve per sapere se il file è eseguito direttamente\n",
    "\n",
    "# Layout dell'applicazione: ciò che l'utente vedrà nel browser\n",
    "app.layout = html.Div([\n",
    "    html.H3(\"Seleziona un numero\"),  # Titolo\n",
    "\n",
    "    # Slider da 1 a 10 con step 1 e valore iniziale 4\n",
    "    dcc.Slider(\n",
    "        id='slider-numero',        # ID del componente (serve per il callback)\n",
    "        min=1,\n",
    "        max=10,\n",
    "        step=1,\n",
    "        value=4,                   # Valore iniziale\n",
    "        marks={i: str(i) for i in range(1, 11)}  # Etichette visibili sullo slider\n",
    "    ),\n",
    "\n",
    "    # Div dove verrà mostrato il risultato (es: \"4² = 16\")\n",
    "    html.Div(id='output-quadrato')\n",
    "])\n",
    "\n",
    "# Callback che collega lo slider all'output testuale\n",
    "@app.callback(\n",
    "    Output('output-quadrato', 'children'),       # Dove mostrare il risultato\n",
    "    Input('slider-numero', 'value')              # Quando cambia il valore dello slider\n",
    ")\n",
    "def calcola_quadrato(valore):\n",
    "    # Calcola il quadrato del numero selezionato e restituisce la stringa da visualizzare\n",
    "    return f\"{valore}² = {valore**2}\"\n"
   ]
  },
  {
   "cell_type": "markdown",
   "metadata": {},
   "source": [
    "### Funzionamento:\n",
    "1. L’utente sposta lo slider.\n",
    "2. Il callback `calcola_quadrato` riceve il numero scelto come input.\n",
    "3. Calcola il quadrato (`valore ** 2`) e restituisce una stringa.\n",
    "4. Il risultato viene mostrato nella pagina."
   ]
  },
  {
   "cell_type": "code",
   "execution_count": 2,
   "metadata": {},
   "outputs": [
    {
     "data": {
      "text/html": [
       "\n",
       "        <iframe\n",
       "            width=\"100%\"\n",
       "            height=\"650\"\n",
       "            src=\"http://127.0.0.1:8050/\"\n",
       "            frameborder=\"0\"\n",
       "            allowfullscreen\n",
       "            \n",
       "        ></iframe>\n",
       "        "
      ],
      "text/plain": [
       "<IPython.lib.display.IFrame at 0x15c325460>"
      ]
     },
     "metadata": {},
     "output_type": "display_data"
    }
   ],
   "source": [
    "# Avvia il server web se il file viene eseguito direttamente\n",
    "if __name__ == '__main__':\n",
    "    app.run_server(debug=True)"
   ]
  },
  {
   "cell_type": "markdown",
   "metadata": {},
   "source": [
    "### Esempio 2 \n",
    "Facciamo un'interfaccia che visualizzi un **grafico a dispersione (scatter plot)** delle misure dei petali di fiori (dataset Iris), e che permetta all’utente di **selezionare una specie** da un menu a tendina. Il grafico si aggiorna automaticamente con i dati della specie scelta."
   ]
  },
  {
   "cell_type": "code",
   "execution_count": 3,
   "metadata": {},
   "outputs": [],
   "source": [
    "# Caricamento dataset di esempio (Iris)\n",
    "df = px.data.iris() \n",
    "\n",
    "# Crea l'applicazione Dash\n",
    "app = dash.Dash(__name__)  # __name__ serve per sapere se il file è eseguito direttamente\n",
    "\n",
    "# Layout dell'app: definisce cosa l'utente vede\n",
    "app.layout = html.Div([\n",
    "    html.H2(\"Iris Dataset Scatter Plot\"),  # Titolo\n",
    "\n",
    "    # Menu a tendina per selezionare la specie\n",
    "    dcc.Dropdown(\n",
    "        id='species-dropdown',  # ID usato per il callback\n",
    "        options=[{'label': s, 'value': s} for s in df['species'].unique()],  # Una voce per specie\n",
    "        value='setosa'  # Valore iniziale\n",
    "    ),\n",
    "\n",
    "    # Area dove sarà visualizzato il grafico\n",
    "    dcc.Graph(id='scatter-plot')\n",
    "])"
   ]
  },
  {
   "cell_type": "code",
   "execution_count": 4,
   "metadata": {},
   "outputs": [],
   "source": [
    "# Callback: funzione che aggiorna il grafico quando cambia la selezione, \n",
    "# quindi collega la selezione del dropdown al grafico aggiornato.\n",
    "@app.callback(\n",
    "    dash.dependencies.Output('scatter-plot', 'figure'),  # Output: grafico da aggiornare\n",
    "    [dash.dependencies.Input('species-dropdown', 'value')]  # Input: specie selezionata\n",
    ")\n",
    "def update_figure(species):\n",
    "    # Filtra il DataFrame per la specie scelta\n",
    "    filtered_df = df[df['species'] == species]\n",
    "\n",
    "    # Crea uno scatter plot con i dati filtrati\n",
    "    return px.scatter(\n",
    "        filtered_df,\n",
    "        x=\"sepal_width\",    # Asse X: larghezza sepalo\n",
    "        y=\"sepal_length\",   # Asse Y: lunghezza sepalo\n",
    "        color=\"species\"     # Colore diverso per ogni specie (anche se è solo una)\n",
    "    )"
   ]
  },
  {
   "cell_type": "markdown",
   "metadata": {},
   "source": [
    "### Funzionamento:\n",
    "1. L’utente seleziona una specie dal menu.\n",
    "2. Il callback `update_figure` riceve il valore scelto.\n",
    "3. Il dataframe viene filtrato in base alla specie.\n",
    "4. Il grafico viene ridisegnato con solo i dati filtrati."
   ]
  },
  {
   "cell_type": "code",
   "execution_count": 5,
   "metadata": {},
   "outputs": [
    {
     "data": {
      "text/html": [
       "\n",
       "        <iframe\n",
       "            width=\"100%\"\n",
       "            height=\"650\"\n",
       "            src=\"http://127.0.0.1:8050/\"\n",
       "            frameborder=\"0\"\n",
       "            allowfullscreen\n",
       "            \n",
       "        ></iframe>\n",
       "        "
      ],
      "text/plain": [
       "<IPython.lib.display.IFrame at 0x15cda2c60>"
      ]
     },
     "metadata": {},
     "output_type": "display_data"
    }
   ],
   "source": [
    "# Avvio del server Dash\n",
    "if __name__ == '__main__':\n",
    "    # Avvia il server sulla porta 8050, accessibile da http://127.0.0.1:8050\n",
    "    app.run_server(debug=True)"
   ]
  },
  {
   "cell_type": "markdown",
   "metadata": {},
   "source": []
  },
  {
   "cell_type": "code",
   "execution_count": null,
   "metadata": {},
   "outputs": [],
   "source": []
  }
 ],
 "metadata": {
  "kernelspec": {
   "display_name": "labPython",
   "language": "python",
   "name": "python3"
  },
  "language_info": {
   "codemirror_mode": {
    "name": "ipython",
    "version": 3
   },
   "file_extension": ".py",
   "mimetype": "text/x-python",
   "name": "python",
   "nbconvert_exporter": "python",
   "pygments_lexer": "ipython3",
   "version": "3.12.7"
  }
 },
 "nbformat": 4,
 "nbformat_minor": 2
}
