{
 "cells": [
  {
   "cell_type": "markdown",
   "metadata": {},
   "source": [
    "### **1. Indicizzazione booleana**\n",
    "\n",
    "1. Creare un nuovo vettore con tutti i numeri primi tra 0 e 20. I numeri primi compresi tra 0 e 20 sono: **2, 3, 5, 7, 11, 13, 17, 19**.\n",
    "\n",
    "2. Utilizza un test logico (ad esempio `>`, `<`, `==`, `!=`) per **selezionare tutte le voci del vettore maggiori di 10**.\n",
    "\n",
    "3. Utilizza un test logico per selezionare **tutti i numeri primi pari** dalla lista.  \n"
   ]
  },
  {
   "cell_type": "code",
   "execution_count": 17,
   "metadata": {},
   "outputs": [
    {
     "name": "stdout",
     "output_type": "stream",
     "text": [
      "Numeri primi tra 0 e 20: [ 2  3  5  7 11 13 17 19] \n",
      "\n",
      "Primi > 10: [11 13 17 19] \n",
      "\n",
      "Primi pari: [2]\n"
     ]
    }
   ],
   "source": [
    "import numpy as np\n",
    "\n",
    "numeri_primi = np.array([2, 3, 5, 7, 11, 13, 17, 19])\n",
    "print(\"Numeri primi tra 0 e 20:\", numeri_primi, \"\\n\")\n",
    "\n",
    "sopra_10 = numeri_primi[numeri_primi > 10]\n",
    "print(\"Primi > 10:\", sopra_10, \"\\n\")\n",
    "\n",
    "pari_primi = numeri_primi[numeri_primi % 2 == 0]\n",
    "print(\"Primi pari:\", pari_primi)\n",
    "\n"
   ]
  },
  {
   "cell_type": "markdown",
   "metadata": {},
   "source": [
    "### **2.  Operazioni su array**\n",
    "Crea un array **a**, 2D (senza digitarlo esplicitamente), e genera due nuovi array **b**, contenente la sua 2ª e 4ª riga, e **c** contenente solo la 3ª.  Dividi ogni colonna dell'array a, elemento per elemento, con l'array c."
   ]
  },
  {
   "cell_type": "code",
   "execution_count": 18,
   "metadata": {},
   "outputs": [
    {
     "name": "stdout",
     "output_type": "stream",
     "text": [
      "Array a:\n",
      " [[ 1  2  3  4]\n",
      " [ 5  6  7  8]\n",
      " [ 9 10 11 12]\n",
      " [13 14 15 16]\n",
      " [17 18 19 20]] \n",
      "\n",
      "b (2ª e 4ª riga):\n",
      " [[ 5  6  7  8]\n",
      " [13 14 15 16]] \n",
      "\n",
      "c (3ª riga): [ 9 10 11 12] \n",
      "\n",
      "a diviso per c:\n",
      " [[0.11111111 0.2        0.27272727 0.33333333]\n",
      " [0.55555556 0.6        0.63636364 0.66666667]\n",
      " [1.         1.         1.         1.        ]\n",
      " [1.44444444 1.4        1.36363636 1.33333333]\n",
      " [1.88888889 1.8        1.72727273 1.66666667]]\n"
     ]
    }
   ],
   "source": [
    "a = np.arange(1, 21).reshape(5, 4)\n",
    "print(\"Array a:\\n\", a, \"\\n\")\n",
    "\n",
    "b = a[[1, 3], :]\n",
    "print(\"b (2ª e 4ª riga):\\n\", b, \"\\n\")\n",
    "\n",
    "c = a[2, :]\n",
    "print(\"c (3ª riga):\", c, \"\\n\")\n",
    "\n",
    "divisione = a / c\n",
    "print(\"a diviso per c:\\n\", divisione)\n",
    "      \n"
   ]
  },
  {
   "cell_type": "markdown",
   "metadata": {},
   "source": [
    "### **3. Seleziona il numero più vicino a 0.5 in un array casuale**\n",
    "Genera un array 10 x 3 con numeri casuali nell'intervallo [0,1].\n",
    "Per ogni riga, seleziona il numero più vicino a 0.5. Per farlo usa il fancy indexing."
   ]
  },
  {
   "cell_type": "code",
   "execution_count": 20,
   "metadata": {},
   "outputs": [
    {
     "name": "stdout",
     "output_type": "stream",
     "text": [
      "Array 10x3 casuale:\n",
      " [[0.37454012 0.95071431 0.73199394]\n",
      " [0.59865848 0.15601864 0.15599452]\n",
      " [0.05808361 0.86617615 0.60111501]\n",
      " [0.70807258 0.02058449 0.96990985]\n",
      " [0.83244264 0.21233911 0.18182497]\n",
      " [0.18340451 0.30424224 0.52475643]\n",
      " [0.43194502 0.29122914 0.61185289]\n",
      " [0.13949386 0.29214465 0.36636184]\n",
      " [0.45606998 0.78517596 0.19967378]\n",
      " [0.51423444 0.59241457 0.04645041]] \n",
      "\n",
      "Valori più vicini a 0.5 per riga: [0.37454012 0.59865848 0.60111501 0.70807258 0.21233911 0.52475643\n",
      " 0.43194502 0.36636184 0.45606998 0.51423444]\n"
     ]
    }
   ],
   "source": [
    "np.random.seed(42)\n",
    "matrice = np.random.rand(10, 3)\n",
    "print(\"Array 10x3 casuale:\\n\", matrice, \"\\n\")\n",
    "\n",
    "distanza = np.abs(matrice - 0.5)\n",
    "\n",
    "colonne_minime = distanza.argmin(axis=1)\n",
    "\n",
    "righe = np.arange(matrice.shape[0])\n",
    "vicini = matrice[righe, colonne_minime]\n",
    "\n",
    "print(\"Valori più vicini a 0.5 per riga:\", vicini)\n"
   ]
  },
  {
   "cell_type": "markdown",
   "metadata": {},
   "source": [
    "### **4. Analisi della Frequenza Cardiaca con NumPy**\n",
    "\n",
    "1. **Supponiamo che i seguenti valori rappresentino la tua frequenza cardiaca** registrata dal tuo Fitbit durante la giornata:  \n",
    "   `68, 65, 77, 110, 160, 161, 162, 161, 160, 161, 162, 163, 164, 163, 162, 100, 90, 97, 72, 60, 70`  \n",
    "   Inserisci questi valori in un array NumPy.\n",
    "\n",
    "2. **Trova la frequenza cardiaca minima** registrata durante la giornata.  \n",
    "   _(Questo valore rappresenta approssimativamente la tua frequenza cardiaca a riposo, un comune indicatore di salute.)_\n",
    "\n",
    "3. **Trova la frequenza cardiaca massima** registrata durante la giornata.  \n",
    "   _(Questo valore è un'indicazione dell'intensità dell'esercizio fisico.)_\n",
    "\n",
    "4. **Calcoliamo la percentuale di letture effettuate mentre stavi facendo esercizio fisico (frequenza cardiaca sopra a 120)**:  \n",
    "   - Crea un nuovo array che contiene `True` quando la frequenza cardiaca è **superiore a 120**, e `False` quando è **inferiore o uguale a 120**.\n",
    "   - Utilizza una funzione di sintesi per calcolare la percentuale di osservazioni in cui la tua frequenza cardiaca era sopra 120.\n"
   ]
  },
  {
   "cell_type": "code",
   "execution_count": 21,
   "metadata": {},
   "outputs": [
    {
     "name": "stdout",
     "output_type": "stream",
     "text": [
      "Frequenze registrate: [ 68  65  77 110 160 161 162 161 160 161 162 163 164 163 162 100  90  97\n",
      "  72  60  70] \n",
      "\n",
      "Frequenza minima: 60 \n",
      "\n",
      "Frequenza massima: 164 \n",
      "\n",
      "Percentuale sopra 120 bpm: 52.38 %\n"
     ]
    }
   ],
   "source": [
    "frequenze = np.array([\n",
    "    68, 65, 77, 110, 160, 161, 162, 161, 160,\n",
    "    161, 162, 163, 164, 163, 162, 100, 90, 97, 72, 60, 70\n",
    "])\n",
    "print(\"Frequenze registrate:\", frequenze, \"\\n\")\n",
    "\n",
    "min_frequenza = frequenze.min()\n",
    "print(\"Frequenza minima:\", min_frequenza, \"\\n\")\n",
    "\n",
    "max_frequenza = frequenze.max()\n",
    "print(\"Frequenza massima:\", max_frequenza, \"\\n\")\n",
    "\n",
    "sopra_120 = frequenze > 120\n",
    "percentuale = sopra_120.sum() / len(frequenze) * 100\n",
    "print(\"Percentuale sopra 120 bpm:\", round(percentuale, 2), \"%\")\n"
   ]
  },
  {
   "cell_type": "markdown",
   "metadata": {},
   "source": [
    "### **5. Manipolazione di vettori**\n",
    "\n",
    "1. Creare un vettore contenente i seguenti stipendi: **50.000, 105.250, 55.000, 89.000**.  \n",
    "Qual è il costo totale del personale (somma di tutti gli stipendi dell'azienda)?\n",
    "\n",
    "2. Supponiamo che il nostro malvagio CEO abbia deciso di darsi un aumento.  \n",
    "Modifica il vettore degli stipendi in modo che il CEO, la persona che guadagna **105.250 dollari**, riceva un aumento del **15%**.\n",
    "\n",
    "3. Il **115%** di **105.250 dollari** è **121.037,50 dollari**.  \n",
    "Questo valore è presente nel tuo array? Se no, riesci a capire il motivo?\n",
    "\n",
    "4. Ricrea il vettore e utilizza l'argomento **`dtype`** in modo che, quando il CEO riceve un aumento del **15%**, il suo stipendio finale sia esattamente **121.037,50 dollari**.\n",
    "\n",
    "5. Questo aumento ha infastidito l'impiegata con lo stipendio più basso (**50.000 dollari**), che ora pretende un aumento del **20%**.  \n",
    "Modifica il vettore per riflettere questo cambiamento.\n",
    "\n",
    "6. L'aumento dato al CEO e all'impiegata ha irritato gli altri due dipendenti, quindi ora devono ricevere un aumento del **10%**.  \n",
    "Modifica il vettore di conseguenza.\n",
    "\n",
    "7. Calcola il **costo totale del personale** dopo tutti gli aumenti.  \n",
    "Alla fine, quanto è costato all'azienda l'aumento di circa **16.000 dollari** del CEO?\n"
   ]
  },
  {
   "cell_type": "code",
   "execution_count": 23,
   "metadata": {},
   "outputs": [
    {
     "name": "stdout",
     "output_type": "stream",
     "text": [
      "Stipendi iniziali: [ 50000. 105250.  55000.  89000.] \n",
      "\n",
      "Dopo aumento CEO: [ 50000.  121037.5  55000.   89000. ] \n",
      "\n",
      "121037.50 è presente? False \n",
      "\n",
      "CEO con stipendio esatto: [ 50000.  121037.5  55000.   89000. ] \n",
      "\n",
      "Dopo aumento impiegata: [ 60000.  121037.5  55000.   89000. ] \n",
      "\n",
      "Dopo aumento generale: [ 60000.  121037.5  60500.   97900. ] \n",
      "\n",
      "Totale stipendi finale: 339437.5 \n",
      "\n",
      "Costo extra CEO: 15787.5\n"
     ]
    }
   ],
   "source": [
    "stipendi = np.array([50000, 105250, 55000, 89000], dtype=np.float64)\n",
    "print(\"Stipendi iniziali:\", stipendi, \"\\n\")\n",
    "\n",
    "stipendi[stipendi == 105250] *= 1.15\n",
    "print(\"Dopo aumento CEO:\", stipendi, \"\\n\")\n",
    "\n",
    "presente = 121037.50 in stipendi\n",
    "print(\"121037.50 è presente?\", presente, \"\\n\")\n",
    "\n",
    "stipendi = np.array([50000, 105250, 55000, 89000], dtype=np.float64)\n",
    "stipendi[stipendi == 105250] = 121037.50\n",
    "print(\"CEO con stipendio esatto:\", stipendi, \"\\n\")\n",
    "\n",
    "indice_min = stipendi.argmin()\n",
    "stipendi[indice_min] *= 1.2\n",
    "print(\"Dopo aumento impiegata:\", stipendi, \"\\n\")\n",
    "\n",
    "for i in range(len(stipendi)):\n",
    "    if i != indice_min and stipendi[i] != 121037.50:\n",
    "        stipendi[i] *= 1.10\n",
    "print(\"Dopo aumento generale:\", stipendi, \"\\n\")\n",
    "\n",
    "totale = stipendi.sum()\n",
    "extra_ceo = 121037.50 - 105250\n",
    "print(\"Totale stipendi finale:\", totale, \"\\n\")\n",
    "print(\"Costo extra CEO:\", round(extra_ceo, 2))\n"
   ]
  },
  {
   "cell_type": "markdown",
   "metadata": {},
   "source": [
    "### **6. Valori di Co2**\n",
    "\n",
    "1. Carica tramite numpy il file generato e salvato a lezione sulle emissioni di CO2\n",
    "\n",
    "2. Calcola quanti valori ci CO2 sono sopra la soglia di 18  tonnellate per anno ed il loro valore medio\n",
    "\n",
    "3. Calcola la frazione totale di emissione sopra la soglia (somma totale sopra la soglia/somma totale)"
   ]
  },
  {
   "cell_type": "code",
   "execution_count": 26,
   "metadata": {},
   "outputs": [
    {
     "name": "stdout",
     "output_type": "stream",
     "text": [
      "Num valori sopra 18: 23 \n",
      "\n",
      "Media valori sopra 18: 18.94 \n",
      "\n",
      "Frazione emissione sopra soglia: 0.1874\n"
     ]
    }
   ],
   "source": [
    "co2 = np.loadtxt(\"dati/emissioni.txt\")  \n",
    "\n",
    "sopra_18 = co2[co2 > 18]\n",
    "print(\"Num valori sopra 18:\", sopra_18.size, \"\\n\")\n",
    "print(\"Media valori sopra 18:\", round(sopra_18.mean(), 2), \"\\n\")\n",
    "\n",
    "\n",
    "frazione = sopra_18.sum() / co2.sum()\n",
    "print(\"Frazione emissione sopra soglia:\", round(frazione, 4))\n"
   ]
  },
  {
   "cell_type": "markdown",
   "metadata": {},
   "source": [
    "### **7. Analisi di una matrice**\n",
    "Data la matrice survey con età, reddito e anni di istruzione\n",
    "\n",
    "survey_matrix = np.array([\n",
    "    [25, 40000, 10],\n",
    "    [32, 52000, 12],\n",
    "    [40, 63000, 14],\n",
    "    [29, 47000, 11],\n",
    "    [35, 58000, 13]\n",
    "])\n",
    "\n",
    "\n",
    "1. Seleziona dalla matrice solo gli intervistati con **almeno 12 anni di istruzione** utilizzando un test logico.\n",
    "\n",
    "2. In un'unica riga di codice, seleziona i **redditi** degli intervistati con **almeno 12 anni di istruzione**.\n",
    "\n",
    "3. In un'unica riga di codice, calcola il **reddito medio** degli intervistati con **almeno 12 anni di istruzione**.\n"
   ]
  },
  {
   "cell_type": "code",
   "execution_count": 27,
   "metadata": {},
   "outputs": [
    {
     "name": "stdout",
     "output_type": "stream",
     "text": [
      "Intervistati con >= 12 anni di istruzione:\n",
      " [[   32 52000    12]\n",
      " [   40 63000    14]\n",
      " [   35 58000    13]] \n",
      "\n",
      "Redditi (>=12 anni istr.): [52000 63000 58000] \n",
      "\n",
      "Reddito medio (>=12 anni istr.): 57666.666666666664\n"
     ]
    }
   ],
   "source": [
    "survey_matrix = np.array([\n",
    "    [25, 40000, 10],\n",
    "    [32, 52000, 12],\n",
    "    [40, 63000, 14],\n",
    "    [29, 47000, 11],\n",
    "    [35, 58000, 13]\n",
    "])\n",
    "\n",
    "filtro_istruzione = survey_matrix[:, 2] >= 12\n",
    "selezionati = survey_matrix[filtro_istruzione]\n",
    "print(\"Intervistati con >= 12 anni di istruzione:\\n\", selezionati, \"\\n\")\n",
    "\n",
    "redditi_filtrati = survey_matrix[survey_matrix[:, 2] >= 12][:, 1]\n",
    "print(\"Redditi (>=12 anni istr.):\", redditi_filtrati, \"\\n\")\n",
    "\n",
    "media_redditi = redditi_filtrati.mean()\n",
    "print(\"Reddito medio (>=12 anni istr.):\", media_redditi)\n"
   ]
  },
  {
   "cell_type": "markdown",
   "metadata": {},
   "source": []
  },
  {
   "cell_type": "markdown",
   "metadata": {},
   "source": [
    "### **8. Rimpiazzare gli outliers**\n",
    "\n",
    "Vediamo se possiamo ripulire alcuni dati mancanti. Immagina di essere il responsabile dei registri di un comune locale con **500 cittadini** di **55 anni e oltre**.  \n",
    "\n",
    "La città è famosa per la sua longevità e un team di ricercatori ti ha chiesto di identificare **il cittadino più anziano**.  \n",
    "\n",
    "Il problema è che, occasionalmente, nei registri si verificano errori e in quei casi viene inserita l'età **999** invece dell'età corretta.  \n",
    "\n",
    "Rimuovi i dati errati dall'array e determina l'età del cittadino più anziano.\n"
   ]
  },
  {
   "cell_type": "code",
   "execution_count": 28,
   "metadata": {},
   "outputs": [
    {
     "name": "stdout",
     "output_type": "stream",
     "text": [
      "Età valide totali: 486 \n",
      "\n",
      "Età massima (escludendo 999): 112\n"
     ]
    }
   ],
   "source": [
    "ages = np.array([92, 108, 75, 63, 62, 66, 90, 98, 97, 92, 60, 107, 90, 71, 97, 86, 55, 55,\n",
    "                 98, 57, 96, 104, 96, 94, 72, 98, 111, 98, 89, 69, 77, 92, 85, 101, 93, 100,\n",
    "                 90, 101, 96, 98, 999, 87, 106, 86, 108, 55, 67, 65, 68, 59, 67, 72, 57, 79,\n",
    "                 95, 67, 86, 70, 91, 111, 67, 75, 59, 88, 90, 99, 94, 65, 111, 103, 100, 70,\n",
    "                 63, 65, 100, 110, 999, 70, 57, 75, 56, 104, 111, 90, 74, 100, 90, 86, 88, 99,\n",
    "                 58, 103, 88, 103, 64, 96, 105, 89, 83, 65, 100, 62, 73, 105, 83, 105, 58, 96,\n",
    "                 77, 74, 95, 109, 91, 101, 91, 999, 63, 111, 97, 108, 75, 77, 73, 58, 94, 83,\n",
    "                 90, 61, 110, 107, 105, 85, 64, 66, 71, 107, 105, 72, 78, 66, 100, 102, 72, 999,\n",
    "                 74, 68, 73, 72, 90, 93, 99, 55, 92, 83, 58, 71, 89, 75, 98, 87, 999, 78,\n",
    "                 97, 71, 106, 83, 58, 81, 100, 72, 93, 70, 65, 60, 95, 107, 94, 77, 87, 90,\n",
    "                 82, 56, 99, 107, 86, 56, 73, 96, 64, 69, 64, 92, 57, 104, 110, 69, 66, 68,\n",
    "                 84, 89, 72, 80, 55, 75, 87, 57, 106, 69, 66, 62, 102, 76, 111, 999, 96, 83,\n",
    "                 84, 61, 102, 63, 107, 63, 76, 58, 83, 58, 61, 71, 77, 90, 74, 100, 103, 74,\n",
    "                 92, 102, 63, 87, 93, 61, 63, 86, 74, 98, 64, 999, 78, 95, 84, 81, 107, 85,\n",
    "                 79, 82, 89, 65, 107, 57, 74, 77, 97, 92, 58, 96, 105, 60, 55, 74, 57, 80,\n",
    "                 62, 85, 87, 62, 999, 71, 74, 70, 97, 59, 82, 96, 105, 70, 89, 105, 60, 70,\n",
    "                 87, 999, 64, 108, 107, 104, 85, 95, 108, 74, 64, 97, 89, 88, 79, 67, 81, 92,\n",
    "                 63, 80, 76, 94, 104, 67, 73, 61, 99, 96, 68, 90, 86, 79, 85, 111, 75, 98,\n",
    "                 81, 111, 108, 103, 85, 72, 108, 102, 999, 64, 107, 112, 66, 93, 89, 78, 66, 92,\n",
    "                 63, 101, 92, 64, 72, 56, 71, 64, 87, 78, 107, 85, 109, 95, 69, 111, 64, 72,\n",
    "                 55, 66, 99, 57, 78, 55, 58, 90, 88, 71, 90, 103, 92, 98, 67, 97, 77, 68,\n",
    "                 77, 59, 78, 69, 77, 81, 61, 99, 999, 85, 78, 104, 97, 95, 74, 70, 69, 83,\n",
    "                 68, 68, 77, 60, 85, 82, 93, 66, 71, 62, 64, 107, 999, 65, 78, 59, 83, 67,\n",
    "                 108,  58,  95, 106,  83,  79,  67,  59,  96,  90,  55,  55,  96, 109,  82,  55, 101,  58,\n",
    "                 97, 77, 60, 81, 999, 81, 75, 100, 66, 65, 105, 94, 101, 56, 999, 59, 105, 59,\n",
    "                 93, 56, 104, 74, 81, 62, 76, 65, 107, 60, 107, 98, 77, 86, 83, 104, 74, 69,\n",
    "                 97, 80, 91, 56, 108, 87, 65, 91, 93, 60, 91, 110, 107, 88, 96, 70, 60, 99,\n",
    "                 66, 91, 107, 65, 81, 109, 84, 106, 80, 92, 78, 84, 91, 59])\n",
    "\n",
    "eta_filtrate = ages[ages != 999]\n",
    "print(\"Età valide totali:\", len(eta_filtrate), \"\\n\")\n",
    "\n",
    "eta_massima = eta_filtrate.max()\n",
    "print(\"Età massima (escludendo 999):\", eta_massima)"
   ]
  },
  {
   "cell_type": "markdown",
   "metadata": {},
   "source": [
    "### 9.**Generazione random di storie**\n",
    "\n",
    "Usando la lista qui sotto, estrai casualmente **5 parole con reinserimento** (cioè, i duplicati sono ammessi).  \n",
    "\n",
    "Successivamente, inserisci casualmente queste parole negli spazi vuoti (indicati con \"_\") nella seguente frase:\n",
    "\n",
    "*\"In epoche passate, viveva una donna saggia che era molto orgogliosa dell'antico __ che proteggeva. Quando un anziano del villaggio venne a chiederle consiglio su come garantire al meglio un raccolto abbondante e le offrì il __ come dono, i suoi occhi si spalancarono e lei esclamò una sola parola, \"__\".  \n",
    "Radunò il villaggio e, per i successivi 100 giorni, su sua richiesta, gli abitanti cercarono nella foresta un __.  \n",
    "Nel 101° giorno, il bambino più giovane del villaggio trovò ciò che stavano cercando e tutti corsero dalla donna saggia per donarglielo.  \n",
    "Con un sorriso da un orecchio all’altro, e cantando canti di festa, la donna saggia guardò i suoi compaesani e disse: \"Ora è giunto il tempo del banchetto - nessuno rimarrà mai più senza _!\" Ci fu grande gioia e celebrazione.\"*\n"
   ]
  },
  {
   "cell_type": "code",
   "execution_count": 30,
   "metadata": {},
   "outputs": [
    {
     "name": "stdout",
     "output_type": "stream",
     "text": [
      "Parole scelte: ['APPLICAZIONE' 'ALFABETIZZAZIONE' 'PRESTAZIONE' 'IGNORANZA' 'CONSEGNA'] \n",
      "\n",
      "\"In epoche passate, viveva una donna saggia che era molto orgogliosa dell'antico APPLICAZIONE che proteggeva. Quando un anziano del villaggio venne a chiederle consiglio su come garantire al meglio un raccolto abbondante e le offrì il ALFABETIZZAZIONE come dono, i suoi occhi si spalancarono e lei esclamò una sola parola, \"PRESTAZIONE\".  \n",
      "Radunò il villaggio e, per i successivi 100 giorni, su sua richiesta, gli abitanti cercarono nella foresta un IGNORANZA.  \n",
      "Nel 101° giorno, il bambino più giovane del villaggio trovò ciò che stavano cercando e tutti corsero dalla donna saggia per donarglielo.  \n",
      "Con un sorriso da un orecchio all’altro, e cantando canti di festa, la donna saggia guardò i suoi compaesani e disse: \"Ora è giunto il tempo del banchetto - nessuno rimarrà mai più senza CONSEGNA!\" Ci fu grande gioia e celebrazione.\"\n"
     ]
    }
   ],
   "source": [
    "lista_parole = [\n",
    "    'INSEDIAMENTO', 'SEPARAZIONE', 'DIFFERENZA', 'APPLICAZIONE', 'ATTEGGIAMENTO', 'VERDURA', 'IMPERO', 'RICEVIMENTO',\n",
    "    'IGNORANZA', 'BIOGRAFIA', 'VISIONE', 'AGENTE DI POLIZIA', 'PROVA', 'PRESTAZIONE', 'PRESENTAZIONE', 'PARENTE',\n",
    "    'GIUSTIFICAZIONE', 'FILOSOFIA', 'DIREZIONE', 'BENEFICIARIO', 'BATTERIA', 'CERIMONIA', 'AGONIA', 'RECUPERO',\n",
    "    'ALFABETIZZAZIONE', 'CONSEGNA', 'SERBATOIO', 'VOLONTARIO', 'DEPOSITO', 'BIRILLO DA BOWLING', 'NEMICO', 'ANNUNCIO',\n",
    "    'CARAMELLA ZUCCHERATA', 'FULMINE', 'PALLONCINO', 'COPERTA', 'SCOPERTA', 'PENALITÀ', 'GENERALE', 'ALPACA',\n",
    "    'VANTAGGIO', 'HOT DOG', 'ABITO', 'MATEMATICA', 'VARIANTE'\n",
    "]\n",
    "\n",
    "scelte = np.random.choice(lista_parole, size=5, replace=True)\n",
    "print(\"Parole scelte:\", scelte, \"\\n\")\n",
    "\n",
    "storia = f'''\"In epoche passate, viveva una donna saggia che era molto orgogliosa dell'antico {scelte[0]} che proteggeva. Quando un anziano del villaggio venne a chiederle consiglio su come garantire al meglio un raccolto abbondante e le offrì il {scelte[1]} come dono, i suoi occhi si spalancarono e lei esclamò una sola parola, \"{scelte[2]}\".  \n",
    "Radunò il villaggio e, per i successivi 100 giorni, su sua richiesta, gli abitanti cercarono nella foresta un {scelte[3]}.  \n",
    "Nel 101° giorno, il bambino più giovane del villaggio trovò ciò che stavano cercando e tutti corsero dalla donna saggia per donarglielo.  \n",
    "Con un sorriso da un orecchio all’altro, e cantando canti di festa, la donna saggia guardò i suoi compaesani e disse: \"Ora è giunto il tempo del banchetto - nessuno rimarrà mai più senza {scelte[4]}!\" Ci fu grande gioia e celebrazione.\"'''\n",
    "\n",
    "print(storia)\n",
    "\n"
   ]
  },
  {
   "cell_type": "markdown",
   "metadata": {},
   "source": [
    "Esempio di output\n",
    "\n",
    "\n",
    "\"In epoche passate, viveva una donna saggia che era molto orgogliosa dell'antico APPLICAZIONE che proteggeva. \n",
    "Quando un anziano del villaggio venne a chiederle consiglio su come garantire al meglio un raccolto abbondante \n",
    "e le offrì il DEPOSITO come dono, i suoi occhi si spalancarono e lei esclamò una sola parola, \"PRESTAZIONE\".  \n",
    "\n",
    "Radunò il villaggio e, per i successivi 100 giorni, su sua richiesta, gli abitanti cercarono nella foresta un BIRILLO DA BOWLING. \n",
    "Nel 101° giorno, il bambino più giovane del villaggio trovò ciò che stavano cercando e tutti corsero dalla donna saggia per donarglielo. \n",
    "Con un sorriso da un orecchio all’altro, e cantando canti di festa, la donna saggia guardò i suoi compaesani e disse: \n",
    "\"Ora è giunto il tempo del banchetto - nessuno rimarrà mai più senza GIUSTIFICAZIONE!\"  \n",
    "\n",
    "Ci fu grande gioia e celebrazione.\""
   ]
  }
 ],
 "metadata": {
  "kernelspec": {
   "display_name": "base",
   "language": "python",
   "name": "python3"
  },
  "language_info": {
   "codemirror_mode": {
    "name": "ipython",
    "version": 3
   },
   "file_extension": ".py",
   "mimetype": "text/x-python",
   "name": "python",
   "nbconvert_exporter": "python",
   "pygments_lexer": "ipython3",
   "version": "3.12.3"
  }
 },
 "nbformat": 4,
 "nbformat_minor": 2
}
