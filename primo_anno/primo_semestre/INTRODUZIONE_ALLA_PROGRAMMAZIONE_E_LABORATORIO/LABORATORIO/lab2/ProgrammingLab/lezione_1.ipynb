{
 "cells": [
  {
   "cell_type": "markdown",
   "metadata": {},
   "source": [
    "### **1. Trasformare cicli in list comprehension**\n",
    "\n",
    "Fai tre esempi di cicli producono una lista e poi riscrivi lo stesso codice usando la list comprehension"
   ]
  },
  {
   "cell_type": "code",
   "execution_count": 1,
   "metadata": {},
   "outputs": [],
   "source": [
    "risultati_potenza = []\n",
    "for numero in range(10):\n",
    "    risultati_potenza.append(numero ** 2)\n",
    "\n",
    "frasi = [\"buongiorno\", \"lezione\", \"esercizio\"]\n",
    "in_maiuscolo = []\n",
    "for parola in frasi:\n",
    "    in_maiuscolo.append(parola.upper())\n",
    "\n",
    "pari_selezionati = []\n",
    "for valore in range(21):\n",
    "    if valore % 2 == 0:\n",
    "        pari_selezionati.append(valore)\n",
    "\n",
    "\n",
    "\n",
    "risultati_potenza = [numero ** 2 for numero in range(10)]\n",
    "\n",
    "frasi = [\"buongiorno\", \"lezione\", \"esercizio\"]\n",
    "in_maiuscolo = [parola.upper() for parola in frasi]\n",
    "\n",
    "pari_selezionati = [valore for valore in range(21) if valore % 2 == 0]\n"
   ]
  },
  {
   "cell_type": "markdown",
   "metadata": {},
   "source": [
    "### **2. Vettore di Numeri Primi**\n",
    "\n",
    "1. **Crea un vettore** contenente tutti i numeri primi compresi tra **0 e 10**  \n",
    "   _(Puoi scriverli direttamente nell'array)._\n",
    "\n",
    "2. **Conta quanti numeri ci sono nel vettore** utilizzando la funzione `len()`.  **Ottieni lo stesso numero** accedendo all'attributo `.size` del vettore.\n",
    "\n",
    "3. Quale pensi sia il tipo di dato (`dtype`) del vettore?  Prova a rispondere senza eseguire il codice e Verifica la tua risposta accedendo all'attributo `.dtype` del vettore\n",
    "\n",
    "4. Scrivi l'array usando una list comprehension che controlla che i numeri siano primi. "
   ]
  },
  {
   "cell_type": "code",
   "execution_count": null,
   "metadata": {},
   "outputs": [
    {
     "name": "stdout",
     "output_type": "stream",
     "text": [
      "9\n",
      "9\n"
     ]
    }
   ],
   "source": [
    "import numpy as np\n",
    "primi = np.array([1, 2, 3, 4, 5, 6, 7, 8, 9])\n",
    "\n",
    "print(len(primi))  \n",
    "print(primi.size)\n",
    "\n",
    "\n",
    "def is_primo(n):\n",
    "    if n < 2:\n",
    "        return False\n",
    "    for i in range(2, int(n**0.5) + 1):\n",
    "        if n % i == 0:\n",
    "            return False\n",
    "    return True\n",
    "\n",
    "primi = np.array([x for x in range(11) if is_primo(x)])\n",
    "\n",
    "\n"
   ]
  },
  {
   "cell_type": "markdown",
   "metadata": {},
   "source": [
    "### **3.  Operazioni su array**\n",
    "Crea un array **a**, 1D (senza digitarlo esplicitamente), e genera due nuovi array **b**, contenente una sottostringa a piacere e **c** che è il reverse dell'array **a** (esempio [1,2,3] diventa [3,2,1]) .  Dividi l'array **a** per l'array **c**. Fai la stessa cosa per una lista."
   ]
  },
  {
   "cell_type": "code",
   "execution_count": 10,
   "metadata": {},
   "outputs": [
    {
     "name": "stdout",
     "output_type": "stream",
     "text": [
      "[ 0.1         0.22222222  0.375       0.57142857  0.83333333  1.2\n",
      "  1.75        2.66666667  4.5        10.        ]\n",
      "[0.2, 0.5, 1.0, 2.0, 5.0]\n"
     ]
    }
   ],
   "source": [
    "a = np.arange(1, 11)    \n",
    "b = a[1:10]             \n",
    "c = a[::-1]              \n",
    "print(a / c)\n",
    "\n",
    "# Con lista\n",
    "a_lista = list(range(1, 6))\n",
    "c_lista = a_lista[::-1]\n",
    "resultato = [x / y for x, y in zip(a_lista, c_lista)]\n",
    "print(resultato)\n"
   ]
  }
 ],
 "metadata": {
  "kernelspec": {
   "display_name": "base",
   "language": "python",
   "name": "python3"
  },
  "language_info": {
   "codemirror_mode": {
    "name": "ipython",
    "version": 3
   },
   "file_extension": ".py",
   "mimetype": "text/x-python",
   "name": "python",
   "nbconvert_exporter": "python",
   "pygments_lexer": "ipython3",
   "version": "3.12.3"
  }
 },
 "nbformat": 4,
 "nbformat_minor": 2
}
